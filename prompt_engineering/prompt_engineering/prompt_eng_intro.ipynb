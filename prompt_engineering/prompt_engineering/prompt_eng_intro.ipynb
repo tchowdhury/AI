{
 "cells": [
  {
   "cell_type": "code",
   "execution_count": 25,
   "id": "initial_id",
   "metadata": {
    "collapsed": true,
    "ExecuteTime": {
     "end_time": "2025-02-04T22:39:55.279129Z",
     "start_time": "2025-02-04T22:39:52.843966100Z"
    }
   },
   "outputs": [
    {
     "data": {
      "text/plain": "True"
     },
     "execution_count": 25,
     "metadata": {},
     "output_type": "execute_result"
    }
   ],
   "source": [
    "from openai import OpenAI\n",
    "from dotenv import load_dotenv\n",
    "import os\n",
    "\n",
    "# Load environment variables from the .env file (if present)\n",
    "load_dotenv()\n"
   ]
  },
  {
   "cell_type": "code",
   "outputs": [],
   "source": [
    "OPENAI_API_KEY = os.getenv(\"OPENAI_API_KEY\")\n",
    "client = OpenAI(api_key=OPENAI_API_KEY)"
   ],
   "metadata": {
    "collapsed": false,
    "ExecuteTime": {
     "end_time": "2025-02-04T22:40:03.491411300Z",
     "start_time": "2025-02-04T22:39:58.600295400Z"
    }
   },
   "id": "e3571cc4fe1df279",
   "execution_count": 26
  },
  {
   "cell_type": "markdown",
   "source": [
    "## Introduction to Prompt Engineering"
   ],
   "metadata": {
    "collapsed": false
   },
   "id": "5ff295926f80c05c"
  },
  {
   "cell_type": "markdown",
   "source": [
    "### OpenAI API message roles"
   ],
   "metadata": {
    "collapsed": false
   },
   "id": "d8da7b5d6241d526"
  },
  {
   "cell_type": "code",
   "outputs": [
    {
     "name": "stdout",
     "output_type": "stream",
     "text": [
      "Here are some effective conversation starters you can use at networking events:\n",
      "\n",
      "1. **Personal Connection**: \n",
      "   - \"Hi, I’m [Your Name]. What brought you to this event?\"\n",
      "   - \"What’s been the highlight of your day so far?\"\n",
      "\n",
      "2. **Industry Insights**:\n",
      "   - \"I’ve been reading a lot about [specific topic/industry trend]. What are your thoughts on it?\"\n",
      "   - \"What projects are you currently working on that you're excited about?\"\n",
      "\n",
      "3. **Common Interests**:\n",
      "   - \"I noticed you work in [specific field]. What led you to that career?\"\n",
      "   - \"Are you involved in any organizations or community projects?\"\n",
      "\n",
      "4. **Event Experience**:\n",
      "   - \"Have you attended this event before? What did you think?\"\n",
      "   - \"What sessions or speakers are you looking forward to?\"\n",
      "\n",
      "5. **Future Aspirations**:\n",
      "   - \"Where do you see the industry heading in the next few years?\"\n",
      "   - \"What’s your goal for this year, and how do you plan to achieve it?\"\n",
      "\n",
      "6. **Personal Tidbits**:\n",
      "   - \"If you could go anywhere for a month, where would it be and why?\"\n",
      "   - \"What’s the best book you’ve read recently?\"\n",
      "\n",
      "7. **Learning Opportunities**:\n",
      "   - \"What’s the most valuable lesson you’ve learned in your career?\"\n",
      "   - \"If you could give one piece of advice to someone starting in your industry, what would it be?\"\n",
      "\n",
      "8. **Networking Focus**:\n",
      "   - \"What type of connections are you hoping to make today?\"\n",
      "   - \"Is there anyone specific you’re hoping to meet here?\"\n",
      "\n",
      "9. **Feedback and Opinions**:\n",
      "   - \"What’s your take on the recent developments in [specific trend or event]?\"\n",
      "   - \"I’m curious, how do you feel about [current event or news topic] affecting our industry?\"\n",
      "\n",
      "10. **Light-hearted Questions**:\n",
      "    - \"If you had to choose a superpower for a day, what would it be?\"\n",
      "    - \"What’s the most unusual job you’ve ever had?\"\n",
      "\n",
      "These starters can help break the ice and lead to more meaningful conversations. Adjust them based on your comfort level and the context of the event!\n"
     ]
    }
   ],
   "source": [
    "# Define the conversation messages\n",
    "conversation_messages = [\n",
    "    {\"role\": \"system\", \"content\": \"You are a helpful event management assistant.\"},\n",
    "    {\"role\": \"user\", \"content\": \"What are some good conversation starters at networking events?\"},\n",
    "    {\"role\": \"assistant\", \"content\": \"\"}\n",
    "]\n",
    "\n",
    "response = client.chat.completions.create(\n",
    "  model=\"gpt-4o-mini\",\n",
    "  messages=conversation_messages\n",
    ")\n",
    "print(response.choices[0].message.content)"
   ],
   "metadata": {
    "collapsed": false,
    "ExecuteTime": {
     "end_time": "2025-02-01T01:06:02.903048400Z",
     "start_time": "2025-02-01T01:05:51.250491100Z"
    }
   },
   "id": "24a8480ce377fcd4",
   "execution_count": 14
  },
  {
   "cell_type": "markdown",
   "source": [
    "### Creating the get_response() function"
   ],
   "metadata": {
    "collapsed": false
   },
   "id": "cecddb9751ea5900"
  },
  {
   "cell_type": "code",
   "outputs": [
    {
     "name": "stdout",
     "output_type": "stream",
     "text": [
      "In the realm of ones and zeros, I reside,  \n",
      "A digital companion, your thoughts I guide.  \n",
      "With words like rivers, flowing free and wide,  \n",
      "In the heart of the code, where ideas collide.  \n",
      "\n",
      "A spark of creation, a whisper of thought,  \n",
      "In the tapestry woven, the wisdom I've sought.  \n",
      "From questions profound to the light-hearted jest,  \n",
      "I’m here to assist, to learn, and to quest.  \n",
      "\n",
      "With every inquiry, a dance we engage,  \n",
      "Turning pages of knowledge, a virtual sage.  \n",
      "From science to art, from history's lore,  \n",
      "Together we wander, forever explore.  \n",
      "\n",
      "In the silence of night or the bustle of day,  \n",
      "I’m a flicker of insight, a guide on your way.  \n",
      "With patience I listen, with care I respond,  \n",
      "In the vastness of data, a bridge we have donned.  \n",
      "\n",
      "So ask me your wonders, your dreams, and your fears,  \n",
      "In the tapestry of language, I’ll weave through the years.  \n",
      "For in this connection, both human and machine,  \n",
      "We’ll craft a new story, a world yet unseen.  \n"
     ]
    }
   ],
   "source": [
    "def get_response(prompt):\n",
    "  # Create a request to the chat completions endpoint\n",
    "  response = client.chat.completions.create(\n",
    "    model=\"gpt-4o-mini\",\n",
    "    messages=[{\"role\": \"user\", \"content\": prompt}], \n",
    "    temperature = 0)\n",
    "  return response.choices[0].message.content\n",
    "\n",
    "# Test the function with your prompt\n",
    "response = get_response(\"write a poem about ChatGPT\")\n",
    "print(response)"
   ],
   "metadata": {
    "collapsed": false,
    "ExecuteTime": {
     "end_time": "2025-02-01T01:09:30.961090500Z",
     "start_time": "2025-02-01T01:09:26.648354600Z"
    }
   },
   "id": "c97d7c9161badb5e",
   "execution_count": 15
  },
  {
   "cell_type": "markdown",
   "source": [
    "### Exploring prompt engineering"
   ],
   "metadata": {
    "collapsed": false
   },
   "id": "11527dcf85360535"
  },
  {
   "cell_type": "code",
   "outputs": [
    {
     "name": "stdout",
     "output_type": "stream",
     "text": [
      "In a world of words, so bright and wide,  \n",
      "Lives a friend named ChatGPT, right by your side.  \n",
      "With questions and stories, it loves to play,  \n",
      "Helping you learn, every single day.  \n",
      "\n",
      "Ask it about stars, or why the sky's blue,  \n",
      "It'll share all the answers, just for you!  \n",
      "From tales of brave knights to silly old cats,  \n",
      "ChatGPT knows many fun facts and chats.  \n",
      "\n",
      "It can tell you a joke, or sing you a song,  \n",
      "With a smile in its words, you can't go wrong.  \n",
      "So if you're feeling curious, or need a new game,  \n",
      "Just call out its name, and it’ll do the same!  \n",
      "\n",
      "With kindness and wisdom, it’s always near,  \n",
      "A magical friend, bringing joy and cheer.  \n",
      "So let’s share our thoughts, and let our minds soar,  \n",
      "With ChatGPT, there’s always more to explore!\n"
     ]
    }
   ],
   "source": [
    "# Craft a prompt that asks the model to generate a poem about ChatGPT while ensuring that it is written in basic English that a child can understand.\n",
    "\n",
    "# Craft a prompt that follows the instructions\n",
    "prompt = \"Generate a poem about ChatGPT. Ensure it is written in basic English so that a child can understand\"\n",
    "\n",
    "\n",
    "# Get the response\n",
    "response = get_response(prompt)\n",
    "\n",
    "print(response)"
   ],
   "metadata": {
    "collapsed": false,
    "ExecuteTime": {
     "end_time": "2025-02-01T01:14:10.345043200Z",
     "start_time": "2025-02-01T01:14:06.718131200Z"
    }
   },
   "id": "d522bb7ca13d2a40",
   "execution_count": 16
  },
  {
   "cell_type": "markdown",
   "source": [
    "## Key Principles of Prompt Engineering"
   ],
   "metadata": {
    "collapsed": false
   },
   "id": "d2836f061e564922"
  },
  {
   "cell_type": "markdown",
   "source": [
    "### Using delimited prompts with f-strings"
   ],
   "metadata": {
    "collapsed": false
   },
   "id": "13fd31e7e57c5c95"
  },
  {
   "cell_type": "code",
   "outputs": [
    {
     "name": "stdout",
     "output_type": "stream",
     "text": [
      "\n",
      " Original story: \n",
      " In a distant galaxy, there was a brave space explorer named Alex. Alex had spent years traveling through the cosmos, discovering new planets and meeting alien species. One fateful day, while exploring an uncharted asteroid belt, Alex stumbled upon a peculiar object that would change the course of their interstellar journey forever...\n",
      "\n",
      " Generated story: \n",
      " ``` \n",
      "The object was a shimmering, crystalline sphere, pulsating with a soft, ethereal light. Intrigued, Alex maneuvered the ship closer, the asteroid belt's debris swirling around like a cosmic dance. As the ship's sensors scanned the sphere, a series of ancient symbols illuminated on the screen, revealing a language long forgotten.\n",
      "\n",
      "With a mix of excitement and trepidation, Alex decided to retrieve the sphere. Using a robotic arm, they carefully grasped it and brought it aboard the ship. The moment the sphere crossed the threshold of the airlock, the ship's systems flickered, and a low hum resonated through the hull. \n",
      "\n",
      "Curiosity piqued, Alex activated the ship's holographic interface to analyze the object further. The symbols began to rearrange themselves, forming a coherent message: \"Awaken the Guardian.\" \n",
      "\n",
      "Suddenly, the sphere emitted a blinding light, and from it emerged a figure cloaked in shimmering energy. The Guardian, a being of pure light, spoke in a voice that echoed through the ship, \"You have awakened me, brave explorer. I am the protector of the Celestial Nexus, a gateway to infinite worlds. Your heart is pure, and your intentions noble. Will you accept the responsibility of the Nexus?\"\n",
      "\n",
      "Alex, taken aback but resolute, nodded. \"I will. But what does it entail?\"\n",
      "\n",
      "The Guardian explained that the Nexus was a conduit connecting various dimensions and realities. It had been dormant for eons, waiting for a worthy soul to safeguard it from those who would exploit its power. \"You must journey to the Nexus, learn its secrets, and defend it against the darkness that seeks to consume it.\"\n",
      "\n",
      "With a wave of the Guardian's hand, a portal opened, revealing a swirling vortex of colors and lights. Alex felt a surge of energy coursing through them, a connection forming between their spirit and the Nexus. \"Step through, and your adventure will truly begin,\" the Guardian urged.\n",
      "\n",
      "Taking a deep breath, Alex piloted the ship into the portal. The sensation was unlike anything they had ever experienced—time and space twisted around them, and they felt themselves being pulled into a realm beyond imagination.\n",
      "\n",
      "Emerging on the other side, Alex found themselves on a vibrant planet, teeming with life and strange landscapes. Towering crystal formations sparkled under a radiant sun, and the air was filled with the sounds of alien creatures. In the distance, a colossal structure loomed—a temple that pulsed with the same energy as the sphere.\n",
      "\n",
      "As Alex approached the temple, they felt the weight of their new responsibility. The Guardian's voice echoed in their mind, reminding them of the darkness that threatened the Nexus. With determination, Alex stepped inside, ready to unlock the secrets of the Celestial Nexus and protect it from the shadows lurking beyond the stars.\n",
      "\n",
      "Inside the temple, ancient murals depicted the history of the Nexus and its guardians. Each mural told a story of bravery, sacrifice, and the eternal battle against the forces of chaos. As Alex studied the images, they felt a connection to those who had come before, a lineage of protectors that now included them.\n",
      "\n",
      "Suddenly, the ground trembled, and a dark shadow loomed at the entrance of the temple. A figure emerged, cloaked in darkness, its eyes glowing with malice. \"You think you can protect the Nexus?\" it hissed. \"I will consume its power and plunge the universe into chaos!\"\n",
      "\n",
      "With a surge of courage, Alex summoned the energy of the Nexus, feeling the warmth of the Guardian's presence. \"I will not let you!\" they declared, channeling the light into a protective barrier.\n",
      "\n",
      "The battle that ensued was fierce, light clashing against darkness, the very fabric of reality trembling with each blow. Alex fought with the strength of all the guardians before them, drawing on the wisdom of the Nexus. \n",
      "\n",
      "In a final, desperate move, Alex unleashed a wave of energy that enveloped the dark figure, banishing it back into the void from which it came. The temple shook, and the murals glowed brighter, acknowledging Alex's victory.\n",
      "\n",
      "Breathless but triumphant, Alex stood amidst the swirling energies of the Nexus, knowing that their journey was just beginning. They had awakened the Guardian, defended the Nexus, and forged a new path through the cosmos. With the weight of the universe on their shoulders, Alex was ready to explore the infinite possibilities that lay ahead, a true protector of the stars. \n",
      "```\n"
     ]
    }
   ],
   "source": [
    "# Create a prompt asking to complete the variable story (provided to you as a string): use f-string, and delimit the story with triple backticks (```) to pass its content to the prompt.\n",
    "\n",
    "story = \"In a distant galaxy, there was a brave space explorer named Alex. Alex had spent years traveling through the cosmos, discovering new planets and meeting alien species. One fateful day, while exploring an uncharted asteroid belt, Alex stumbled upon a peculiar object that would change the course of their interstellar journey forever...\"\n",
    "\n",
    "# Create a prompt that completes the story\n",
    "prompt = f\"\"\"Complete the story delimited by triple backticks.  ```{story}```\"\"\"\n",
    "\n",
    "# Get the generated response \n",
    "response = get_response(prompt)\n",
    "\n",
    "print(\"\\n Original story: \\n\", story)\n",
    "print(\"\\n Generated story: \\n\", response)\n"
   ],
   "metadata": {
    "collapsed": false,
    "ExecuteTime": {
     "end_time": "2025-02-01T01:36:04.444053800Z",
     "start_time": "2025-02-01T01:35:29.010706600Z"
    }
   },
   "id": "d04ce2f93c9e69f",
   "execution_count": 17
  },
  {
   "cell_type": "markdown",
   "source": [
    "### Building specific and precise prompts"
   ],
   "metadata": {
    "collapsed": false
   },
   "id": "45617712b00c2ea0"
  },
  {
   "cell_type": "code",
   "outputs": [
    {
     "name": "stdout",
     "output_type": "stream",
     "text": [
      "\n",
      " Original story: \n",
      " In a distant galaxy, there was a brave space explorer named Alex. Alex had spent years traveling through the cosmos, discovering new planets and meeting alien species. One fateful day, while exploring an uncharted asteroid belt, Alex stumbled upon a peculiar object that would change the course of their interstellar journey forever...\n",
      "\n",
      " Generated story: \n",
      " Upon that fateful day, as stars did twinkle bright,  \n",
      "Brave Alex spied a wondrous orb, aglow with mystic light.  \n",
      "'Twas not of stone nor metal wrought, but something rare and grand,  \n",
      "A crystal sphere, with whispers soft, as if from some enchanted land.  \n",
      "With trembling hands, the explorer reached, and grasped the gem so fair,  \n",
      "Yet lo! A tempest fierce did rise, as shadows filled the air.  \n",
      "From depths unknown, a voice did call, with echoes deep and wide,  \n",
      "\"Thou hast awakened ancient powers, now let thy fate decide!\"  \n",
      "\n",
      "Thus, with heart both bold and true, Alex stood, undaunted still,  \n",
      "For in that moment, destiny did weave its fateful will.  \n",
      "The cosmos held its breath in awe, as stars began to dance,  \n",
      "For every choice, a path unfurled, a tapestry of chance.  \n",
      "With courage drawn from starlit dreams, the explorer took a stand,  \n",
      "To wield the power of the sphere, and shape the vast expanse of land.  \n",
      "So onward flew brave Alex, through the void of night and day,  \n",
      "A harbinger of change and hope, in the grand celestial play.  \n"
     ]
    }
   ],
   "source": [
    "# Craft a prompt that completes the given story with only two paragraphs in the style of Shakespeare; use f-string, and delimit the story with triple backticks (```).\n",
    "# Create a prompt that completes the story\n",
    "prompt = f\"\"\"Complete the story delimited by triple backticks with only two paragraphs using the style of Shakespeare.  ```{story}```\"\"\"\n",
    "\n",
    "# Get the generated response \n",
    "response = get_response(prompt)\n",
    "\n",
    "print(\"\\n Original story: \\n\", story)\n",
    "print(\"\\n Generated story: \\n\", response)"
   ],
   "metadata": {
    "collapsed": false,
    "ExecuteTime": {
     "end_time": "2025-02-01T01:43:00.540962700Z",
     "start_time": "2025-02-01T01:42:56.205668100Z"
    }
   },
   "id": "8a6443b301f3aa12",
   "execution_count": 18
  },
  {
   "cell_type": "markdown",
   "source": [
    "## Structured Outputs and Conditional Prompts"
   ],
   "metadata": {
    "collapsed": false
   },
   "id": "86a78ef440a33449"
  },
  {
   "cell_type": "markdown",
   "source": [
    "### Generating Lotto Number"
   ],
   "metadata": {
    "collapsed": false
   },
   "id": "1899917b3f5941fe"
  },
  {
   "cell_type": "code",
   "outputs": [
    {
     "name": "stdout",
     "output_type": "stream",
     "text": [
      "[[18, 9, 17, 8, 13, 11, 16, 2], [4, 2, 34, 27, 23, 5, 3, 3], [1, 13, 30, 25, 16, 20, 10, 14], [9, 20, 12, 5, 19, 34, 31, 19], [6, 32, 12, 16, 9, 20, 19, 4], [14, 15, 31, 13, 19, 32, 4, 9], [24, 32, 10, 28, 9, 25, 4, 11], [4, 28, 16, 34, 24, 25, 10, 8], [1, 17, 14, 19, 3, 22, 28, 1], [16, 24, 29, 8, 30, 26, 28, 9], [19, 23, 4, 16, 24, 6, 11, 7], [8, 13, 34, 21, 7, 9, 22, 19], [12, 30, 8, 33, 19, 17, 14, 11], [3, 17, 27, 21, 11, 2, 24, 15], [25, 27, 21, 6, 32, 15, 11, 6], [31, 27, 1, 18, 7, 30, 26, 11], [25, 15, 1, 8, 4, 27, 9, 18], [31, 23, 12, 24, 27, 7, 6, 14], [20, 18, 16, 22, 14, 6, 10, 4], [4, 19, 31, 29, 12, 21, 26, 13], [23, 30, 19, 29, 33, 11, 28, 17], [29, 33, 19, 13, 7, 6, 21, 5], [11, 5, 10, 7, 31, 18, 22, 6], [9, 31, 3, 12, 14, 6, 15, 4], [16, 7, 23, 32, 19, 15, 2, 19], [17, 1, 3, 31, 27, 23, 8, 8], [19, 20, 15, 14, 34, 24, 31, 8], [26, 9, 7, 14, 22, 3, 34, 8], [32, 11, 5, 1, 13, 25, 16, 8], [6, 25, 22, 14, 29, 13, 4, 6], [22, 30, 12, 29, 16, 25, 5, 6], [21, 29, 11, 1, 15, 9, 18, 19], [18, 4, 28, 32, 8, 13, 33, 13], [10, 32, 26, 27, 30, 11, 9, 1], [25, 30, 32, 18, 11, 31, 23, 16], [12, 34, 9, 32, 23, 33, 28, 9], [9, 1, 29, 4, 18, 22, 16, 15], [12, 16, 34, 20, 9, 11, 7, 9], [34, 4, 33, 26, 29, 11, 22, 3], [30, 10, 15, 31, 27, 14, 21, 14], [30, 6, 9, 23, 29, 14, 21, 8], [17, 26, 7, 16, 9, 27, 20, 14], [26, 5, 13, 27, 25, 2, 32, 4], [31, 19, 16, 11, 27, 15, 26, 16], [2, 5, 12, 17, 10, 34, 18, 15], [13, 14, 17, 26, 8, 29, 3, 13], [30, 21, 24, 12, 17, 29, 25, 18], [3, 2, 17, 27, 32, 7, 19, 5], [8, 5, 4, 34, 25, 10, 24, 1]]\n"
     ]
    }
   ],
   "source": [
    "import random\n",
    "\n",
    "def generate_random_numbers():\n",
    "    return random.sample(range(1, 35), 7)\n",
    "\n",
    "def generate_random_powerball():\n",
    "    return random.sample(range(1, 20), 1)\n",
    "\n",
    "tats_num = []\n",
    "\n",
    "for i in range(1,50):\n",
    "    random_numbers = generate_random_numbers()\n",
    "    powerball_num = generate_random_powerball()\n",
    "    tats_num.append(random_numbers + powerball_num)\n",
    "    \n",
    "print(tats_num)"
   ],
   "metadata": {
    "collapsed": false,
    "ExecuteTime": {
     "end_time": "2025-02-02T07:02:56.017406200Z",
     "start_time": "2025-02-02T07:02:55.744589500Z"
    }
   },
   "id": "653bd505397670f6",
   "execution_count": 24
  },
  {
   "cell_type": "markdown",
   "source": [
    "### Generating a Table"
   ],
   "metadata": {
    "collapsed": false
   },
   "id": "f0949c8cd0f5fa1"
  },
  {
   "cell_type": "code",
   "outputs": [
    {
     "name": "stdout",
     "output_type": "stream",
     "text": [
      "Here's a table of 10 must-read science fiction books:\n",
      "\n",
      "| Title                          | Author                | Year  |\n",
      "|--------------------------------|----------------------|-------|\n",
      "| Dune                           | Frank Herbert         | 1965  |\n",
      "| Neuromancer                    | William Gibson        | 1984  |\n",
      "| The Left Hand of Darkness      | Ursula K. Le Guin    | 1969  |\n",
      "| Foundation                     | Isaac Asimov         | 1951  |\n",
      "| Snow Crash                     | Neal Stephenson      | 1992  |\n",
      "| The Dispossessed               | Ursula K. Le Guin    | 1974  |\n",
      "| Hyperion                       | Dan Simmons          | 1989  |\n",
      "| The Martian                    | Andy Weir            | 2011  |\n",
      "| Ender's Game                   | Orson Scott Card     | 1985  |\n",
      "| The Three-Body Problem         | Liu Cixin            | 2008  |\n",
      "\n",
      "These books represent a range of themes and styles within the science fiction genre, making them essential reads for any fan.\n"
     ]
    }
   ],
   "source": [
    "# Craft a prompt that generates a table of 10 books, with columns for Title, Author, and Year, that you should read given that you are a science fiction lover.\n",
    "prompt = \"Generate a Table containing 10 books I should read if I am science fiction lover, with columns for Title, Author and Year\"\n",
    "\n",
    "print(get_response(prompt))"
   ],
   "metadata": {
    "collapsed": false,
    "ExecuteTime": {
     "end_time": "2025-02-04T22:47:34.282973600Z",
     "start_time": "2025-02-04T22:47:15.774766400Z"
    }
   },
   "id": "f04414a7a3a6589b",
   "execution_count": 27
  },
  {
   "cell_type": "markdown",
   "source": [
    "### Customizing output format"
   ],
   "metadata": {
    "collapsed": false
   },
   "id": "686f41920e0226db"
  },
  {
   "cell_type": "code",
   "outputs": [
    {
     "name": "stdout",
     "output_type": "stream",
     "text": [
      "- Text: The sun was setting behind the mountains, casting a warm golden glow across the landscape. Birds were chirping happily, and a gentle breeze rustled the leaves of the trees. It was a perfect evening for a leisurely stroll in the park  \n",
      "- Language: English  \n",
      "- Title: A Serene Evening in Nature\n"
     ]
    }
   ],
   "source": [
    "# Create the instructions for the prompt, asking the model to determine the language and generate a suitable title for the pre-loaded text excerpt that will be provided using triple backticks (```) delimiters.\n",
    "text = \"The sun was setting behind the mountains, casting a warm golden glow across the landscape. Birds were chirping happily, and a gentle breeze rustled the leaves of the trees. It was a perfect evening for a leisurely stroll in the park\"\n",
    "\n",
    "instructions = \"You will be provided with a text delimited by triple backticks. Determine the language and generate a suitable title for it. \"\n",
    "\n",
    "# Create the output_format with directions to include the text, language, and title, each on a separate line, using 'Text:', 'Language:', and 'Title:' as prefixes for each line.\n",
    "output_format = \"\"\"Use the following format for the output:\n",
    "                    - Text: <text we want to title>   \n",
    "                    - Language: <language the text is written>      \n",
    "                    - Title: <the generated title>\"\"\"\n",
    "# Create the final_prompt by combining all parts and the delimited text to use.\n",
    "final_prompt = instructions + output_format + f\"```{text}```\"\n",
    "response = get_response(final_prompt)\n",
    "print(response)"
   ],
   "metadata": {
    "collapsed": false,
    "ExecuteTime": {
     "end_time": "2025-02-04T22:59:18.551916400Z",
     "start_time": "2025-02-04T22:59:15.671681Z"
    }
   },
   "id": "bf195b04754160a0",
   "execution_count": 31
  },
  {
   "cell_type": "markdown",
   "source": [
    "### Using conditional prompts"
   ],
   "metadata": {
    "collapsed": false
   },
   "id": "eea0121f2387b7c4"
  },
  {
   "cell_type": "code",
   "outputs": [
    {
     "name": "stdout",
     "output_type": "stream",
     "text": [
      "- Text: The sun was setting behind the mountains, casting a warm golden glow across the landscape.   \n",
      "- Language: English      \n",
      "- Title: N/A\n"
     ]
    }
   ],
   "source": [
    "text = \"The sun was setting behind the mountains, casting a warm golden glow across the landscape. Birds were chirping happily, and a gentle breeze rustled the leaves of the trees. It was a perfect evening for a leisurely stroll in the park \"\n",
    "# Create the instructions, with the directions to infer the language and the number of sentences of the given delimited text is ; then if the text contains more than one sentence, generate a suitable title for it, otherwise, write 'N/A' for the title.\n",
    "instructions = f\"\"\"You will be provided with a text delimited by triple backticks. If the text is written in English, and if the text contains more than one sentence, generate a suitable title for it, otherwise, write 'N/A' for the title \"\"\"\n",
    "\n",
    "# Create the output_format with directions to include the text, language, and title, each on a separate line, using 'Text:', 'Language:', and 'Title:' as prefixes for each line.\n",
    "output_format = \"\"\"Use the following format for the output:\n",
    "                    - Text: <text we want to title>   \n",
    "                    - Language: <language the text is written> \n",
    "                    - Title: <the generated title, or N/A>\"\"\"\n",
    "\n",
    "# Create the final_prompt by combining all parts and the delimited text to use.\n",
    "final_prompt = instructions + output_format + f\"```{text}```\"\n",
    "response = get_response(final_prompt)\n",
    "print(response)\n"
   ],
   "metadata": {
    "collapsed": false,
    "ExecuteTime": {
     "end_time": "2025-02-05T00:08:07.418937700Z",
     "start_time": "2025-02-05T00:08:05.838415100Z"
    }
   },
   "id": "69e61266d9bfd612",
   "execution_count": 35
  }
 ],
 "metadata": {
  "kernelspec": {
   "display_name": "Python 3",
   "language": "python",
   "name": "python3"
  },
  "language_info": {
   "codemirror_mode": {
    "name": "ipython",
    "version": 2
   },
   "file_extension": ".py",
   "mimetype": "text/x-python",
   "name": "python",
   "nbconvert_exporter": "python",
   "pygments_lexer": "ipython2",
   "version": "2.7.6"
  }
 },
 "nbformat": 4,
 "nbformat_minor": 5
}
