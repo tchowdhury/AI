{
 "cells": [
  {
   "cell_type": "code",
   "execution_count": 8,
   "id": "initial_id",
   "metadata": {
    "collapsed": true,
    "ExecuteTime": {
     "end_time": "2025-03-07T02:58:27.862019500Z",
     "start_time": "2025-03-07T02:58:27.834925100Z"
    }
   },
   "outputs": [],
   "source": [
    "import torch\n",
    "import torch.nn as nn"
   ]
  },
  {
   "cell_type": "markdown",
   "source": [
    "## Tensors"
   ],
   "metadata": {
    "collapsed": false
   },
   "id": "1ed36e8dc83a9ce1"
  },
  {
   "cell_type": "markdown",
   "source": [
    "### Convert List to Tensor"
   ],
   "metadata": {
    "collapsed": false
   },
   "id": "b0e242a7f84571a3"
  },
  {
   "cell_type": "code",
   "outputs": [
    {
     "name": "stdout",
     "output_type": "stream",
     "text": [
      "tensor([[72, 75, 78],\n",
      "        [70, 73, 76]])\n"
     ]
    }
   ],
   "source": [
    "temperatures = [[72, 75, 78], [70, 73, 76]]\n",
    "\n",
    "# Create a tensor from temperatures\n",
    "temp_tensor = torch.tensor(temperatures)\n",
    "\n",
    "print(temp_tensor)"
   ],
   "metadata": {
    "collapsed": false,
    "ExecuteTime": {
     "end_time": "2025-03-07T02:19:36.103490200Z",
     "start_time": "2025-03-07T02:19:28.420657500Z"
    }
   },
   "id": "c7c1d00960b353d8",
   "execution_count": 2
  },
  {
   "cell_type": "markdown",
   "source": [
    "### Checking and Adding Tensors"
   ],
   "metadata": {
    "collapsed": false
   },
   "id": "b0fb0b9a4b99bb03"
  },
  {
   "cell_type": "code",
   "outputs": [
    {
     "name": "stdout",
     "output_type": "stream",
     "text": [
      "Adjustment shape: torch.Size([2, 3])\n",
      "Adjustment type: torch.int64\n",
      "Temperatures shape: torch.Size([2, 3])\n",
      "Temperatures type: torch.int64\n",
      "Corrected temperatures: tensor([[74, 77, 80],\n",
      "        [72, 75, 78]])\n"
     ]
    }
   ],
   "source": [
    "adjustment = torch.tensor([[2, 2, 2], [2, 2, 2]])\n",
    "\n",
    "# Display the shape of the adjustment tensor\n",
    "print(\"Adjustment shape:\", adjustment.shape)\n",
    "\n",
    "# Display the type of the adjustment tensor\n",
    "print(\"Adjustment type:\", adjustment.dtype)\n",
    "\n",
    "print(\"Temperatures shape:\", temp_tensor.shape)\n",
    "print(\"Temperatures type:\", temp_tensor.dtype)\n",
    "\n",
    "# Add the temperatures and adjustment tensors\n",
    "corrected_temperatures = temp_tensor + adjustment\n",
    "print(\"Corrected temperatures:\", corrected_temperatures)"
   ],
   "metadata": {
    "collapsed": false,
    "ExecuteTime": {
     "end_time": "2025-03-07T02:26:28.383997100Z",
     "start_time": "2025-03-07T02:26:27.643756500Z"
    }
   },
   "id": "92adb5f08b491ddc",
   "execution_count": 7
  },
  {
   "cell_type": "markdown",
   "source": [
    "## Neural Networks and Layers"
   ],
   "metadata": {
    "collapsed": false
   },
   "id": "c59babd339eaab66"
  },
  {
   "cell_type": "markdown",
   "source": [
    "### Linear Layer"
   ],
   "metadata": {
    "collapsed": false
   },
   "id": "dfaf498baa7b17a5"
  },
  {
   "cell_type": "code",
   "outputs": [
    {
     "name": "stdout",
     "output_type": "stream",
     "text": [
      "tensor([[-0.0656, -0.1995]], grad_fn=<AddmmBackward0>)\n"
     ]
    }
   ],
   "source": [
    "# Create a Linear layer that takes 3 features as input and returns 2 outputs.\n",
    "\n",
    "input_tensor = torch.tensor([[0.3471, 0.4547, -0.2356]])\n",
    "\n",
    "# Create a Linear layer\n",
    "linear_layer = nn.Linear(\n",
    "                         in_features=3, \n",
    "                         out_features=2\n",
    "                         )\n",
    "# Pass input_tensor through the linear layer\n",
    "output = linear_layer(input_tensor)\n",
    "\n",
    "print(output)"
   ],
   "metadata": {
    "collapsed": false,
    "ExecuteTime": {
     "end_time": "2025-03-07T03:07:37.568779100Z",
     "start_time": "2025-03-07T03:07:35.857243600Z"
    }
   },
   "id": "82fd28a27e62bbea",
   "execution_count": 11
  },
  {
   "cell_type": "markdown",
   "source": [
    "### Weights"
   ],
   "metadata": {
    "collapsed": false
   },
   "id": "b0382c25c0b57c5c"
  },
  {
   "cell_type": "markdown",
   "source": [
    "## Hidden Layers"
   ],
   "metadata": {
    "collapsed": false
   },
   "id": "65e973454e946159"
  },
  {
   "cell_type": "markdown",
   "source": [
    "### First NN"
   ],
   "metadata": {
    "collapsed": false
   },
   "id": "da1863bdc464f02e"
  },
  {
   "cell_type": "code",
   "outputs": [
    {
     "name": "stdout",
     "output_type": "stream",
     "text": [
      "tensor([[0.8126]], grad_fn=<AddmmBackward0>)\n"
     ]
    }
   ],
   "source": [
    "# implement a small neural network containing two linear layers in sequence.\n",
    "input_tensor = torch.Tensor([[2, 3, 6, 7, 9, 3, 2, 1]])\n",
    "\n",
    "# Create a container for stacking linear layers\n",
    "model = nn.Sequential(\n",
    "    nn.Linear(8,4),\n",
    "    nn.Linear(4,1)\n",
    ")\n",
    "\n",
    "output = model(input_tensor)\n",
    "print(output)"
   ],
   "metadata": {
    "collapsed": false,
    "ExecuteTime": {
     "end_time": "2025-03-07T03:41:57.613006500Z",
     "start_time": "2025-03-07T03:41:57.604349100Z"
    }
   },
   "id": "b78b3c423e274b80",
   "execution_count": 14
  },
  {
   "cell_type": "markdown",
   "source": [
    "### Counting the number of parameters"
   ],
   "metadata": {
    "collapsed": false
   },
   "id": "c638a9bf45df3a0f"
  },
  {
   "cell_type": "code",
   "outputs": [
    {
     "name": "stdout",
     "output_type": "stream",
     "text": [
      "The number of parameters in the model is 53\n"
     ]
    }
   ],
   "source": [
    "# Use .numel() to confirm your manual calculation by iterating through the model's parameters to updating the total variable.\n",
    "model = nn.Sequential(nn.Linear(9, 4),\n",
    "                      nn.Linear(4, 2),\n",
    "                      nn.Linear(2, 1))\n",
    "\n",
    "total = 0\n",
    "\n",
    "# Calculate the number of parameters in the model\n",
    "for parameter in model.parameters():\n",
    "  total += parameter.numel()\n",
    "  \n",
    "print(f\"The number of parameters in the model is {total}\")"
   ],
   "metadata": {
    "collapsed": false,
    "ExecuteTime": {
     "end_time": "2025-03-07T03:46:44.045957400Z",
     "start_time": "2025-03-07T03:46:43.967463800Z"
    }
   },
   "id": "5c8fc650fb4c3ad",
   "execution_count": 15
  }
 ],
 "metadata": {
  "kernelspec": {
   "display_name": "Python 3",
   "language": "python",
   "name": "python3"
  },
  "language_info": {
   "codemirror_mode": {
    "name": "ipython",
    "version": 2
   },
   "file_extension": ".py",
   "mimetype": "text/x-python",
   "name": "python",
   "nbconvert_exporter": "python",
   "pygments_lexer": "ipython2",
   "version": "2.7.6"
  }
 },
 "nbformat": 4,
 "nbformat_minor": 5
}
