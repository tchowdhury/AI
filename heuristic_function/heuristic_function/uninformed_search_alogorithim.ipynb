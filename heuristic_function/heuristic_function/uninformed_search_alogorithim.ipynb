{
 "cells": [
  {
   "cell_type": "code",
   "outputs": [],
   "source": [
    "import numpy as np\n",
    "import matplotlib.pyplot as plt\n",
    "from matplotlib.colors import ListedColormap\n",
    "from collections import deque\n",
    "from collections import defaultdict\n",
    "import networkx as nx\n",
    "import heapq"
   ],
   "metadata": {
    "collapsed": false,
    "ExecuteTime": {
     "end_time": "2025-02-16T04:53:58.686638600Z",
     "start_time": "2025-02-16T04:52:49.113085300Z"
    }
   },
   "id": "9d28a3247b517205",
   "execution_count": 36
  },
  {
   "cell_type": "markdown",
   "source": [
    "## Breadth-First Search (BFS)"
   ],
   "metadata": {
    "collapsed": false
   },
   "id": "34b5bff52bf0c701"
  },
  {
   "cell_type": "markdown",
   "source": [
    "`Breadth-First Search is one of the simplest and most fundamental search algorithms in AI. It starts at the initial state and explores all the neighbor nodes at the present depth prior to moving on to the nodes at the next depth level. BFS uses a queue data structure to keep track of the nodes that are yet to be explored. It guarantees the shortest path from the initial state to the goal state if the path cost is a non-decreasing function of the depth of the node.`\n",
    "\n",
    "__[Reference](https://www.geeksforgeeks.org/uniformed-search-algorithms-in-ai/?ref=next_article)__"
   ],
   "metadata": {
    "collapsed": false
   },
   "id": "6cd4b0049c6929c9"
  },
  {
   "cell_type": "code",
   "outputs": [
    {
     "name": "stdout",
     "output_type": "stream",
     "text": [
      "[(0, 0), (0, 1), (0, 2), (1, 2), (2, 2), (2, 3), (2, 4), (3, 4), (4, 4)]\n"
     ]
    },
    {
     "data": {
      "text/plain": "<Figure size 640x480 with 1 Axes>",
      "image/png": "[encoded data removed]"
     },
     "metadata": {},
     "output_type": "display_data"
    }
   ],
   "source": [
    "def bfs(maze, start, goal):\n",
    "    queue = deque([(start, [])])\n",
    "    visited = set()\n",
    "    \n",
    "    while queue:\n",
    "        current, path = queue.popleft()\n",
    "        x, y = current\n",
    "        \n",
    "        if current == goal:\n",
    "            return path + [current]\n",
    "        \n",
    "        if current in visited:\n",
    "            continue\n",
    "        \n",
    "        visited.add(current)\n",
    "        \n",
    "        for dx, dy in [(0, 1), (0, -1), (1, 0), (-1, 0)]:\n",
    "            nx, ny = x + dx, y + dy\n",
    "            if 0 <= nx < len(maze) and 0 <= ny < len(maze[0]) and maze[nx][ny] != 1:\n",
    "                queue.append(((nx, ny), path + [current]))\n",
    "    \n",
    "    return None\n",
    "\n",
    "def visualize_maze(maze, start, goal, path=None):\n",
    "    cmap = ListedColormap(['white', 'black', 'red', 'blue', 'green'])\n",
    "    bounds = [0, 0.5, 1.5, 2.5, 3.5, 4.5]\n",
    "    norm = plt.Normalize(bounds[0], bounds[-1])\n",
    "    \n",
    "    fig, ax = plt.subplots()\n",
    "    ax.imshow(maze, cmap=cmap, norm=norm)\n",
    "    \n",
    "    ax.scatter(start[1], start[0], color='yellow', marker='o', label='Start')\n",
    "    ax.scatter(goal[1], goal[0], color='purple', marker='o', label='Goal')\n",
    "    \n",
    "    if path:\n",
    "        for node in path[1:-1]:\n",
    "            ax.scatter(node[1], node[0], color='green', marker='o')\n",
    "    \n",
    "    ax.legend()\n",
    "    plt.show()\n",
    "    \n",
    "# Example maze\n",
    "maze = np.array([\n",
    "    [0, 0, 0, 0, 0],\n",
    "    [1, 1, 0, 1, 1],\n",
    "    [0, 0, 0, 0, 0],\n",
    "    [0, 1, 1, 1, 0],\n",
    "    [0, 0, 0, 0, 0]\n",
    "])\n",
    "\n",
    "start = (0, 0)\n",
    "goal = (4, 4)\n",
    "\n",
    "path = bfs(maze, start, goal)\n",
    "print(path)\n",
    "\n",
    "visualize_maze(maze, start, goal, path)    "
   ],
   "metadata": {
    "collapsed": false,
    "ExecuteTime": {
     "end_time": "2025-02-16T00:46:46.141607200Z",
     "start_time": "2025-02-16T00:46:45.330291800Z"
    }
   },
   "id": "b024a31873d345d8",
   "execution_count": 20
  },
  {
   "cell_type": "markdown",
   "source": [
    "## Depth-First Search (DFS)"
   ],
   "metadata": {
    "collapsed": false
   },
   "id": "a8f762cc23beba13"
  },
  {
   "cell_type": "markdown",
   "source": [
    "`Depth-First Search is another basic search algorithm in AI. Unlike BFS, DFS explores as far as possible along each branch before backtracking. It uses a stack data structure to keep track of the nodes to be explored. DFS does not guarantee finding the shortest path to the goal node, but it is often more memory-efficient than BFS.`\n",
    "\n",
    "__[Reference](https://www.geeksforgeeks.org/uniformed-search-algorithms-in-ai/?ref=next_article)__"
   ],
   "metadata": {
    "collapsed": false
   },
   "id": "55e9383add5cee23"
  },
  {
   "cell_type": "code",
   "outputs": [
    {
     "data": {
      "text/plain": "<Figure size 640x480 with 1 Axes>",
      "image/png": "[encoded data removed]"
     },
     "metadata": {},
     "output_type": "display_data"
    }
   ],
   "source": [
    "def visualize_maze(maze, start, goal, path=None):\n",
    "    cmap = ListedColormap(['white', 'black', 'red', 'blue', 'green'])\n",
    "    bounds = [0, 0.5, 1.5, 2.5, 3.5, 4.5]\n",
    "    norm = plt.Normalize(bounds[0], bounds[-1])\n",
    "    \n",
    "    fig, ax = plt.subplots()\n",
    "    ax.imshow(maze, cmap=cmap, norm=norm)\n",
    "    \n",
    "    ax.scatter(start[1], start[0], color='yellow', marker='o', label='Start')\n",
    "    ax.scatter(goal[1], goal[0], color='purple', marker='o', label='Goal')\n",
    "    \n",
    "    if path:\n",
    "        for node in path[1:-1]:\n",
    "            ax.scatter(node[1], node[0], color='green', marker='o')\n",
    "    \n",
    "    ax.legend()\n",
    "    plt.show()\n",
    "\n",
    "def dfs(maze, start, goal):\n",
    "    stack = [(start, [])]\n",
    "    visited = set()\n",
    "    \n",
    "    while stack:\n",
    "        current, path = stack.pop()\n",
    "        x, y = current\n",
    "        \n",
    "        if current == goal:\n",
    "            return path + [current]\n",
    "        \n",
    "        if current in visited:\n",
    "            continue\n",
    "        \n",
    "        visited.add(current)\n",
    "        \n",
    "        for dx, dy in [(0, 1), (0, -1), (1, 0), (-1, 0)]:\n",
    "            nx, ny = x + dx, y + dy\n",
    "            if 0 <= nx < len(maze) and 0 <= ny < len(maze[0]) and maze[nx][ny] != 1:\n",
    "                stack.append(((nx, ny), path + [current]))\n",
    "    \n",
    "    return None\n",
    "\n",
    "# Example maze\n",
    "maze = np.array([\n",
    "    [0, 0, 0, 0, 0],\n",
    "    [1, 1, 0, 1, 1],\n",
    "    [0, 0, 0, 0, 0],\n",
    "    [0, 1, 1, 1, 0],\n",
    "    [0, 0, 0, 0, 0]\n",
    "])\n",
    "\n",
    "start = (0, 0)\n",
    "goal = (4, 4)\n",
    "\n",
    "path = dfs(maze, start, goal)\n",
    "\n",
    "visualize_maze(maze, start, goal, path)"
   ],
   "metadata": {
    "collapsed": false,
    "ExecuteTime": {
     "end_time": "2025-02-16T00:50:39.100144900Z",
     "start_time": "2025-02-16T00:50:38.692501200Z"
    }
   },
   "id": "29ce6cbc1fe0079",
   "execution_count": 21
  },
  {
   "cell_type": "markdown",
   "source": [
    "## Depth-Limited Search (DLS)"
   ],
   "metadata": {
    "collapsed": false
   },
   "id": "6d0c7c0ccd8f4369"
  },
  {
   "cell_type": "markdown",
   "source": [
    "`Depth Limited Search is a modified version of DFS that imposes a limit on the depth of the search. This means that the algorithm will only explore nodes up to a certain depth, effectively preventing it from going down excessively `\n",
    "`deep paths that are unlikely to lead to the goal. By setting a maximum depth limit, DLS aims to improve efficiency and ensure more manageable search times.`\n",
    "\n",
    "__[Reference](https://www.geeksforgeeks.org/depth-limited-search-for-ai/)__"
   ],
   "metadata": {
    "collapsed": false
   },
   "id": "b5be374fb15e5e5f"
  },
  {
   "cell_type": "code",
   "outputs": [
    {
     "name": "stdout",
     "output_type": "stream",
     "text": [
      "Path found: [(0, 0), (0, 1), (0, 0), (1, 0), (2, 0), (2, 1), (3, 1), (3, 2), (3, 3), (4, 3), (4, 4)]\n"
     ]
    },
    {
     "data": {
      "text/plain": "<Figure size 640x480 with 1 Axes>",
      "image/png": "[encoded data removed]"
     },
     "metadata": {},
     "output_type": "display_data"
    },
    {
     "data": {
      "text/plain": "<Figure size 640x480 with 1 Axes>",
      "image/png": "[encoded data removed]"
     },
     "metadata": {},
     "output_type": "display_data"
    }
   ],
   "source": [
    "# Define the grid environment with obstacles (1 indicates obstacle, 0 indicates free cell)\n",
    "grid = [\n",
    "    [0, 0, 0, 1, 0],\n",
    "    [0, 1, 1, 0, 0],\n",
    "    [0, 0, 1, 0, 0],\n",
    "    [1, 0, 0, 0, 1],\n",
    "    [0, 0, 0, 0, 0]\n",
    "]\n",
    "\n",
    "# Define initial and goal positions\n",
    "initial_position = (0, 0)\n",
    "goal_position = (4, 4)\n",
    "\n",
    "# Define problem representation\n",
    "class Problem:\n",
    "    def __init__(self, grid, initial, goal):\n",
    "        self.grid = grid\n",
    "        self.initial_state = initial\n",
    "        self.goal_state = goal\n",
    "\n",
    "    def is_goal(self, state):\n",
    "        return state == self.goal_state\n",
    "\n",
    "    def expand(self, state):\n",
    "        # Define possible movements: up, down, left, right\n",
    "        movements = [(0, -1), (0, 1), (-1, 0), (1, 0)]\n",
    "        valid_moves = []\n",
    "        for move in movements:\n",
    "            new_x = state[0] + move[0]\n",
    "            new_y = state[1] + move[1]\n",
    "            # Check if the new position is within the grid and not an obstacle\n",
    "            if 0 <= new_x < len(self.grid) and 0 <= new_y < len(self.grid[0]) and self.grid[new_x][new_y] == 0:\n",
    "                valid_moves.append((new_x, new_y))\n",
    "        return valid_moves\n",
    "    \n",
    "# DLS algorithm\n",
    "def depth_limited_search(problem, depth_limit):\n",
    "    return recursive_dls(problem.initial_state, problem, depth_limit)\n",
    "\n",
    "def recursive_dls(node, problem, depth_limit):\n",
    "    if problem.is_goal(node):\n",
    "        return [node]\n",
    "    elif depth_limit == 0:\n",
    "        return \"cutoff\"\n",
    "    else:\n",
    "        for child in problem.expand(node):\n",
    "            result = recursive_dls(child, problem, depth_limit - 1)\n",
    "            if result == \"cutoff\":\n",
    "                continue\n",
    "            elif result != \"failure\":\n",
    "                return [node] + result\n",
    "        return \"failure\"\n",
    " # Visualization of the original grid if no path found\n",
    "def visualize_grid(grid):\n",
    "    fig, ax = plt.subplots()\n",
    "    \n",
    "    # Create a grid with the same dimensions\n",
    "    nrows, ncols = len(grid), len(grid[0])\n",
    "    ax.set_xticks([x - 0.5 for x in range(1, ncols)], minor=True)\n",
    "    ax.set_yticks([y - 0.5 for y in range(1, nrows)], minor=True)\n",
    "    ax.grid(which=\"minor\", color=\"black\", linestyle='-', linewidth=2)\n",
    "    ax.imshow(grid, cmap='Greys', interpolation='none')\n",
    "    \n",
    "    # Highlight initial and goal positions\n",
    "    ax.add_patch(plt.Circle((initial_position[1], initial_position[0]), radius=0.3, color='green'))\n",
    "    ax.add_patch(plt.Circle((goal_position[1], goal_position[0]), radius=0.3, color='red'))\n",
    "    \n",
    "    plt.gca().invert_yaxis()\n",
    "    plt.title(\"Original Grid\")\n",
    "    plt.show()\n",
    "\n",
    "# Visualization code\n",
    "def visualize_path(grid, path):\n",
    "    fig, ax = plt.subplots()\n",
    "    # Create a grid with the same dimensions\n",
    "    nrows, ncols = len(grid), len(grid[0])\n",
    "    ax.set_xticks([x - 0.5 for x in range(1, ncols)], minor=True)\n",
    "    ax.set_yticks([y - 0.5 for y in range(1, nrows)], minor=True)\n",
    "    ax.grid(which=\"minor\", color=\"black\", linestyle='-', linewidth=2)\n",
    "    ax.imshow(grid, cmap='Greys', interpolation='none')\n",
    "    \n",
    "    # Highlight the path\n",
    "    if path:\n",
    "        for (x, y) in path:\n",
    "            ax.add_patch(plt.Circle((y, x), radius=0.3, color='blue'))\n",
    "    \n",
    "    # Highlight initial and goal positions\n",
    "    ax.add_patch(plt.Circle((initial_position[1], initial_position[0]), radius=0.3, color='green'))\n",
    "    ax.add_patch(plt.Circle((goal_position[1], goal_position[0]), radius=0.3, color='red'))\n",
    "    \n",
    "    plt.gca().invert_yaxis()\n",
    "    plt.title(\"Grid with DLS Path\")\n",
    "    plt.show()\n",
    "\n",
    "    \n",
    "    \n",
    "# Create problem instance\n",
    "problem = Problem(grid, initial_position, goal_position)\n",
    "\n",
    "# Find path using DLS with depth limit 10\n",
    "depth_limit = 10\n",
    "path = depth_limited_search(problem, depth_limit)\n",
    "\n",
    "# Output path\n",
    "if path == \"failure\":\n",
    "    print(\"No path found within the depth limit.\")\n",
    "elif path == \"cutoff\":\n",
    "    print(\"Search terminated due to depth limit.\")\n",
    "else:\n",
    "    print(\"Path found:\", path)    \n",
    "\n",
    "visualize_grid(grid)   \n",
    "visualize_path(grid, path)"
   ],
   "metadata": {
    "collapsed": false,
    "ExecuteTime": {
     "end_time": "2025-02-16T03:42:07.904288300Z",
     "start_time": "2025-02-16T03:42:05.280948Z"
    }
   },
   "id": "46ca0f5ccafc2aaa",
   "execution_count": 28
  },
  {
   "cell_type": "markdown",
   "source": [
    "## Iterative Deepening Depth-First Search (IDDFS)"
   ],
   "metadata": {
    "collapsed": false
   },
   "id": "2448ca6cb89fefbf"
  },
  {
   "cell_type": "markdown",
   "source": [
    "`Iterative Deepening Depth-First Search is a combination of BFS and DFS. It repeatedly applies DFS with increasing depth limits until the goal node is found. IDDFS combines the benefits of BFS (guaranteed shortest path) and DFS (less memory consumption) by gradually increasing the depth limit.`\n",
    "\n",
    "__[Reference](https://www.geeksforgeeks.org/iterative-deepening-searchids-iterative-deepening-depth-first-searchiddfs/)__"
   ],
   "metadata": {
    "collapsed": false
   },
   "id": "192136f74e5ac79d"
  },
  {
   "cell_type": "code",
   "outputs": [
    {
     "name": "stdout",
     "output_type": "stream",
     "text": [
      "Target is NOT reachable from source within max depth\n"
     ]
    }
   ],
   "source": [
    "# This class represents a directed graph using adjacency\n",
    "# list representation\n",
    "class Graph:\n",
    "\n",
    "    def __init__(self,vertices):\n",
    "\n",
    "        # No. of vertices\n",
    "        self.V = vertices\n",
    "\n",
    "        # default dictionary to store graph\n",
    "        self.graph = defaultdict(list)\n",
    "\n",
    "    # function to add an edge to graph\n",
    "    def addEdge(self,u,v):\n",
    "        self.graph[u].append(v)\n",
    "\n",
    "    # A function to perform a Depth-Limited search\n",
    "    # from given source 'src'\n",
    "    def DLS(self,src,target,maxDepth):\n",
    "\n",
    "        if src == target : return True\n",
    "\n",
    "        # If reached the maximum depth, stop recursing.\n",
    "        if maxDepth <= 0 : return False\n",
    "\n",
    "        # Recur for all the vertices adjacent to this vertex\n",
    "        for i in self.graph[src]:\n",
    "                if(self.DLS(i,target,maxDepth-1)):\n",
    "                    return True\n",
    "        return False\n",
    "\n",
    "    # IDDFS to search if target is reachable from v.\n",
    "    # It uses recursive DLS()\n",
    "    def IDDFS(self,src, target, maxDepth):\n",
    "\n",
    "        # Repeatedly depth-limit search till the\n",
    "        # maximum depth\n",
    "        for i in range(maxDepth):\n",
    "            if (self.DLS(src, target, i)):\n",
    "                return True\n",
    "        return False\n",
    "    \n",
    " # Create a graph given in the above diagram\n",
    "g = Graph (10);\n",
    "g.addEdge(0, 1)\n",
    "g.addEdge(0, 2)\n",
    "g.addEdge(1, 3)\n",
    "g.addEdge(1, 4)\n",
    "g.addEdge(2, 5)\n",
    "g.addEdge(2, 6)\n",
    "g.addEdge(3, 7)\n",
    "g.addEdge(3, 8)\n",
    "g.addEdge(3, 9)\n",
    "\n",
    "target = 9; maxDepth = 3; src = 0\n",
    "\n",
    "if g.IDDFS(src, target, maxDepth) == True:\n",
    "    print (\"Target is reachable from source \" +\n",
    "        \"within max depth\")\n",
    "else :\n",
    "    print (\"Target is NOT reachable from source \" +\n",
    "        \"within max depth\")   "
   ],
   "metadata": {
    "collapsed": false,
    "ExecuteTime": {
     "end_time": "2025-02-16T04:16:17.513279Z",
     "start_time": "2025-02-16T04:16:17.150974700Z"
    }
   },
   "id": "2e287b745b4a09c1",
   "execution_count": 34
  },
  {
   "cell_type": "markdown",
   "source": [
    "## Uniform-Cost Search (UCS)"
   ],
   "metadata": {
    "collapsed": false
   },
   "id": "5cbcbc7e8c1ba5ea"
  },
  {
   "cell_type": "markdown",
   "source": [
    "`Uniform-Cost Search is a variant of BFS where the cost of the path is taken into account. It explores the node with the lowest path cost first. UCS guarantees finding the optimal path to the goal node when the path cost is non-negative.\n",
    "Uniform-cost search (UCS) is a tree or graph search algorithm used in artificial intelligence that finds the least cost path from a given initial node to a goal node. It's useful in situations where paths have different costs associated with them. UCS expands the least costly node first, ensuring that when it reaches a goal node, it has found the least cost path to that node.`\n",
    "\n",
    "__[Reference](https://www.geeksforgeeks.org/uniform-cost-search-dijkstra-for-large-graphs/)__"
   ],
   "metadata": {
    "collapsed": false
   },
   "id": "6b89d614ad93a5ba"
  },
  {
   "cell_type": "code",
   "outputs": [
    {
     "data": {
      "text/plain": "<Figure size 640x480 with 1 Axes>",
      "image/png": "[encoded data removed]"
     },
     "metadata": {},
     "output_type": "display_data"
    },
    {
     "name": "stdout",
     "output_type": "stream",
     "text": [
      "Path from A to D : ['A', 'B', 'D']\n"
     ]
    }
   ],
   "source": [
    "import networkx as nx\n",
    "import matplotlib.pyplot as plt\n",
    "import heapq\n",
    "\n",
    "class Node:\n",
    "    def __init__(self, state, parent=None, action=None, path_cost=0):\n",
    "        self.state = state\n",
    "        self.parent = parent\n",
    "        self.action = action\n",
    "        self.path_cost = path_cost\n",
    "\n",
    "    def __lt__(self, other):\n",
    "        return self.path_cost < other.path_cost\n",
    "\n",
    "def uniform_cost_search(graph, start, goal):\n",
    "    frontier = []\n",
    "    heapq.heappush(frontier, Node(start))\n",
    "    explored = set()\n",
    "    path = []\n",
    "    \n",
    "    while frontier:\n",
    "        node = heapq.heappop(frontier)\n",
    "        \n",
    "        if node.state == goal:\n",
    "            path = reconstruct_path(node)\n",
    "            break\n",
    "        \n",
    "        explored.add(node.state)\n",
    "        \n",
    "        for (cost, result_state) in graph[node.state]:\n",
    "            if result_state not in explored:\n",
    "                child_cost = node.path_cost + cost\n",
    "                child_node = Node(result_state, node, None, child_cost)\n",
    "                if not any(frontier_node.state == result_state and \n",
    "                           frontier_node.path_cost <= child_cost for frontier_node in frontier):\n",
    "                    heapq.heappush(frontier, child_node)\n",
    "                    \n",
    "    return path\n",
    "\n",
    "def reconstruct_path(node):\n",
    "    path = []\n",
    "    while node:\n",
    "        path.append(node.state)\n",
    "        node = node.parent\n",
    "    return path[::-1]\n",
    "\n",
    "def visualize_graph(graph, path=None):\n",
    "    G = nx.DiGraph()\n",
    "    labels = {}\n",
    "    for node, edges in graph.items():\n",
    "        for cost, child_node in edges:\n",
    "            G.add_edge(node, child_node, weight=cost)\n",
    "            labels[(node, child_node)] = cost\n",
    "    \n",
    "    pos = nx.spring_layout(G)\n",
    "    nx.draw(G, pos, with_labels=True, node_color='lightblue', node_size=2000)\n",
    "    nx.draw_networkx_edge_labels(G, pos, edge_labels=labels)\n",
    "    \n",
    "    if path:\n",
    "        path_edges = list(zip(path[:-1], path[1:]))\n",
    "        nx.draw_networkx_edges(G, pos, edgelist=path_edges, edge_color='r', width=2)\n",
    "    \n",
    "    plt.show()\n",
    "\n",
    "# Define the graph\n",
    "graph = {\n",
    "    'A': [(1, 'B'), (3, 'C'),(2,'E'),(5,'F')],\n",
    "    'B': [(2, 'D')],\n",
    "    'C': [(5, 'D'), (2, 'B'), (1,'F')],\n",
    "    'E': [(4,'D')],\n",
    "    'F': [(2,'E'), (3,'D')],\n",
    "    'D': []\n",
    "}\n",
    "\n",
    "start = 'A'\n",
    "goal = 'D'\n",
    "path = uniform_cost_search(graph, start, goal)\n",
    "\n",
    "visualize_graph(graph, path)\n",
    "print(\"Path from\", start, \"to\", goal, \":\", path)\n"
   ],
   "metadata": {
    "collapsed": false,
    "ExecuteTime": {
     "end_time": "2025-02-16T05:05:23.392098600Z",
     "start_time": "2025-02-16T05:05:22.473015600Z"
    }
   },
   "id": "2f2f4290876d1a26",
   "execution_count": 38
  }
 ],
 "metadata": {
  "kernelspec": {
   "display_name": "Python 3",
   "language": "python",
   "name": "python3"
  },
  "language_info": {
   "codemirror_mode": {
    "name": "ipython",
    "version": 2
   },
   "file_extension": ".py",
   "mimetype": "text/x-python",
   "name": "python",
   "nbconvert_exporter": "python",
   "pygments_lexer": "ipython2",
   "version": "2.7.6"
  }
 },
 "nbformat": 4,
 "nbformat_minor": 5
}
