{
 "cells": [
  {
   "cell_type": "code",
   "execution_count": 1,
   "id": "initial_id",
   "metadata": {
    "collapsed": true,
    "ExecuteTime": {
     "end_time": "2025-01-30T03:50:02.701922600Z",
     "start_time": "2025-01-30T03:49:31.886457600Z"
    }
   },
   "outputs": [],
   "source": [
    "from openai import OpenAI\n",
    "\n",
    "api_key = \"sk-....kIYA\""
   ]
  },
  {
   "cell_type": "markdown",
   "source": [
    "## Generating and Transforming Text"
   ],
   "metadata": {
    "collapsed": false
   },
   "id": "561bf84b3f74da95"
  },
  {
   "cell_type": "markdown",
   "source": [
    "### Fiand and Replace"
   ],
   "metadata": {
    "collapsed": false
   },
   "id": "e21e9e40eabea4be"
  },
  {
   "cell_type": "code",
   "outputs": [
    {
     "name": "stdout",
     "output_type": "stream",
     "text": [
      "A plane is a vehicle that is typically powered by jet engines or propellers. It is designed to carry passengers and/or cargo through the air. Planes have become a ubiquitous part of modern society, and are used for a wide variety of purposes, such as commuting, travel, and transportation of goods over long distances. Planes are often associated with freedom, adventure, and global connectivity.\n"
     ]
    }
   ],
   "source": [
    " # Create a request to the Chat Completions endpoint, sending the prompt provided to the gpt-4o-mini model and using max_tokens=100\n",
    "\n",
    "client = OpenAI(api_key=api_key)\n",
    "\n",
    "prompt=\"\"\"Replace car with plane and adjust phrase:\n",
    "A car is a vehicle that is typically powered by an internal combustion engine or an electric motor. It has four wheels, and is designed to carry passengers and/or cargo on roads or highways. Cars have become a ubiquitous part of modern society, and are used for a wide variety of purposes, such as commuting, travel, and transportation of goods. Cars are often associated with freedom, independence, and mobility.\"\"\"\n",
    "\n",
    "# Create a request to the Chat Completions endpoint\n",
    "response = client.chat.completions.create(\n",
    "  model=\"gpt-4o-mini\",\n",
    "  messages=[{\"role\": \"user\", \"content\": prompt}],\n",
    "  max_tokens=100\n",
    ")\n",
    "\n",
    "# Extract and print the text response from the API.\n",
    "print(response.choices[0].message.content)"
   ],
   "metadata": {
    "collapsed": false,
    "ExecuteTime": {
     "end_time": "2025-01-30T04:12:09.791784200Z",
     "start_time": "2025-01-30T04:12:02.561162300Z"
    }
   },
   "id": "eea19e1004d0e28d",
   "execution_count": 2
  },
  {
   "cell_type": "markdown",
   "source": [
    "### Text Summarization"
   ],
   "metadata": {
    "collapsed": false
   },
   "id": "dfc66b8ee53e01c"
  },
  {
   "cell_type": "code",
   "outputs": [
    {
     "name": "stdout",
     "output_type": "stream",
     "text": [
      "- Investment involves committing capital to various options (e.g., stocks, bonds, real estate) with the expectation of generating income or profit, requiring careful analysis of risks and rewards.  \n",
      "- Diversifying investment portfolios can minimize risk, making informed investment decisions crucial for building wealth and achieving financial security.\n"
     ]
    }
   ],
   "source": [
    "# Create a request to Chat Completions endpoint, sending the prompt provided to the \"gpt-4o-mini\" model; use a maximum of 400 tokens and make the response more deterministic than the default.\n",
    "\n",
    "prompt=\"\"\"Summarize the following text into two concise bullet points:\n",
    "Investment refers to the act of committing money or capital to an enterprise with the expectation of obtaining an added income or profit in return. There are a variety of investment options available, including stocks, bonds, mutual funds, real estate, precious metals, and currencies. Making an investment decision requires careful analysis, assessment of risk, and evaluation of potential rewards. Good investments have the ability to produce high returns over the long term while minimizing risk. Diversification of investment portfolios reduces risk exposure. Investment can be a valuable tool for building wealth, generating income, and achieving financial security. It is important to be diligent and informed when investing to avoid losses.\"\"\"\n",
    "\n",
    "# Create a request to the Chat Completions endpoint\n",
    "response = client.chat.completions.create(\n",
    "  model=\"gpt-4o-mini\",\n",
    "  messages=[{\"role\": \"user\", \"content\": prompt}],\n",
    "  max_tokens=400,\n",
    "  temperature=0\n",
    ")\n",
    "\n",
    "# Extract and print the text response from the API.\n",
    "print(response.choices[0].message.content)"
   ],
   "metadata": {
    "collapsed": false,
    "ExecuteTime": {
     "end_time": "2025-01-30T04:18:11.267060Z",
     "start_time": "2025-01-30T04:18:09.367781100Z"
    }
   },
   "id": "d8374c1e7d9e3069",
   "execution_count": 3
  },
  {
   "cell_type": "markdown",
   "source": [
    "### Content Generation"
   ],
   "metadata": {
    "collapsed": false
   },
   "id": "f39bdfe3769e39ed"
  },
  {
   "cell_type": "code",
   "outputs": [
    {
     "name": "stdout",
     "output_type": "stream",
     "text": [
      "\"Spice Up Your Day – Fast, Fresh, Flavorful!\"\n"
     ]
    }
   ],
   "source": [
    "# Create a request to the Chat Completions endpoint to create a slogan for a new restaurant; set the maximum number of tokens to 100.\n",
    "\n",
    "prompt =\"\"\"Please create a slogan for a fast food Indian restaurant\"\"\"\n",
    "# Create a request to the Chat Completions endpoint\n",
    "response = client.chat.completions.create(\n",
    "  model=\"gpt-4o-mini\",\n",
    "  messages=[{\"role\": \"user\", \"content\": prompt}],\n",
    "  max_tokens=100\n",
    ")\n",
    "\n",
    "# Extract and print the text response from the API.\n",
    "print(response.choices[0].message.content)"
   ],
   "metadata": {
    "collapsed": false,
    "ExecuteTime": {
     "end_time": "2025-01-30T04:22:20.158327300Z",
     "start_time": "2025-01-30T04:22:18.445338Z"
    }
   },
   "id": "7b84aa202c20f9bc",
   "execution_count": 4
  },
  {
   "cell_type": "markdown",
   "source": [
    "## Sentiment Analysis and Classification"
   ],
   "metadata": {
    "collapsed": false
   },
   "id": "16b97b460b2c4bf1"
  },
  {
   "cell_type": "markdown",
   "source": [
    "### Classifying text Sentiment"
   ],
   "metadata": {
    "collapsed": false
   },
   "id": "1e7d7d348c120e2b"
  },
  {
   "cell_type": "code",
   "outputs": [
    {
     "name": "stdout",
     "output_type": "stream",
     "text": [
      "1. Positive\n",
      "2. Negative\n",
      "3. Neutral\n",
      "4. Positive\n"
     ]
    }
   ],
   "source": [
    "# Define a prompt to classify the sentiment of the following statements as either negative, positive, or neutral:\n",
    "# Unbelievably good!\n",
    "# Shoes fell apart on the second use.\n",
    "#The shoes look nice, but they aren't very comfortable.\n",
    "# Can't wait to show them off!\n",
    "\n",
    "# Define a multi-line prompt to classify sentiment\n",
    "prompt =\"\"\"Classify sentiment as negative, positive, or neutral:\n",
    "1. Unbelievably good!\n",
    "2. Shoes fell apart on the second use.\n",
    "3. The shoes look nice, but they aren't very comfortable.\n",
    "4. Can't wait to show them off!\n",
    "\"\"\"\n",
    "\n",
    "response = client.chat.completions.create(\n",
    "  model=\"gpt-4o-mini\",\n",
    "  messages=[{\"role\": \"user\", \"content\": prompt}],\n",
    "  max_tokens=100\n",
    ")\n",
    "\n",
    "# Extract and print the text response from the API.\n",
    "print(response.choices[0].message.content)"
   ],
   "metadata": {
    "collapsed": false,
    "ExecuteTime": {
     "end_time": "2025-01-30T04:41:16.375457400Z",
     "start_time": "2025-01-30T04:41:14.785665300Z"
    }
   },
   "id": "d139f116e42b84b6",
   "execution_count": 5
  },
  {
   "cell_type": "markdown",
   "source": [
    "### Categorizing Companies"
   ],
   "metadata": {
    "collapsed": false
   },
   "id": "c6763b119b80e9c9"
  },
  {
   "cell_type": "code",
   "outputs": [
    {
     "name": "stdout",
     "output_type": "stream",
     "text": [
      "Here’s the categorization of the companies:\n",
      "\n",
      "**Tech:**\n",
      "- Apple\n",
      "- Microsoft\n",
      "- Alphabet\n",
      "- Amazon\n",
      "- NVIDIA\n",
      "- Meta\n",
      "\n",
      "**Energy:**\n",
      "- Saudi Aramco\n",
      "- Tesla (also categorized under Tech due to its electric vehicle technology)\n",
      "\n",
      "**Luxury Goods:**\n",
      "- LVMH\n",
      "\n",
      "**Investment:**\n",
      "- Berkshire Hathaway\n",
      "\n",
      "Let me know if you need further assistance!\n"
     ]
    }
   ],
   "source": [
    "prompt = (\"Categorize the following list of companies as either Tech, Energy, Luxury Goods, or Investment: \"\n",
    "          \"Apple, Microsoft, Saudi Aramco, Alphabet, Amazon, Berkshire Hathaway, NVIDIA, Meta, Tesla, LVMH\")\n",
    "\n",
    "# Create a request to the Chat Completions endpoint\n",
    "response = client.chat.completions.create(\n",
    " model=\"gpt-4o-mini\",\n",
    " messages=[{\"role\": \"user\", \"content\": prompt}],\n",
    " max_tokens=100,\n",
    " temperature=0.5\n",
    ")\n",
    "\n",
    "print(response.choices[0].message.content)"
   ],
   "metadata": {
    "collapsed": false,
    "ExecuteTime": {
     "end_time": "2025-01-30T04:46:04.112794500Z",
     "start_time": "2025-01-30T04:46:01.392748400Z"
    }
   },
   "id": "5b70520dab378257",
   "execution_count": 7
  },
  {
   "cell_type": "markdown",
   "source": [
    "## Chat Completions"
   ],
   "metadata": {
    "collapsed": false
   },
   "id": "bb3fdfa16e298c79"
  },
  {
   "cell_type": "markdown",
   "source": [
    "### Chat Completion Roles"
   ],
   "metadata": {
    "collapsed": false
   },
   "id": "82c014d620a5f443"
  },
  {
   "cell_type": "code",
   "outputs": [
    {
     "name": "stdout",
     "output_type": "stream",
     "text": [
      "A `for loop` and a `while loop` are both control flow statements in programming that allow code to be executed repeatedly based on certain conditions, but they are used in slightly different contexts and have different mechanisms for determining when to stop looping.\n",
      "\n",
      "### For Loop:\n",
      "- **Purpose**: A `for loop` is generally used when the number of iterations is known beforehand, such as iterating over a range of numbers, elements in a list, or other iterable objects.\n",
      "- **Structure**: The structure usually contains an initialization step, a condition that is checked before each iteration, and an increment/decrement step. For example, in Python:\n",
      "  ```python\n",
      "  for i in range(5):  # Loops from 0 to\n"
     ]
    }
   ],
   "source": [
    "# Create a request to the Chat Completions endpoint using both system and user messages to answer the question, What is the difference between a for loop and a while loop?\n",
    "\n",
    "# Create a request to the Chat Completions endpoint\n",
    "response = client.chat.completions.create(\n",
    "  model=\"gpt-4o-mini\",\n",
    "  max_tokens=150,\n",
    "  messages=[\n",
    "    {\"role\": \"system\",\n",
    "     \"content\": \"You are a helpful data science tutor.\"},\n",
    "    {\"role\": \"user\",\n",
    "     \"content\": \"What is the difference between a for loop and a while loop?\"}\n",
    "  ]\n",
    ")\n",
    "\n",
    "# Extract the assistant's text response\n",
    "print(response.choices[0].message.content)"
   ],
   "metadata": {
    "collapsed": false,
    "ExecuteTime": {
     "end_time": "2025-01-30T04:56:46.108953400Z",
     "start_time": "2025-01-30T04:56:42.460735500Z"
    }
   },
   "id": "1692006e7e62d631",
   "execution_count": 8
  },
  {
   "cell_type": "markdown",
   "source": [
    "### Code Explanation"
   ],
   "metadata": {
    "collapsed": false
   },
   "id": "5b09b59fbfc1b3b0"
  },
  {
   "cell_type": "code",
   "outputs": [
    {
     "name": "stdout",
     "output_type": "stream",
     "text": [
      "This Python code calculates and prints the average height of the individuals listed in the `heights_dict` dictionary using the NumPy library.\n"
     ]
    }
   ],
   "source": [
    "# Create a request to the Chat Completions endpoint to send instruction to the gpt-4o-mini model (using a system message is optional here).\n",
    "\n",
    "instruction = \"\"\"Explain what this Python code does in one sentence:\n",
    "import numpy as np\n",
    "\n",
    "heights_dict = {\"Mark\": 1.76, \"Steve\": 1.88, \"Adnan\": 1.73}\n",
    "heights = heights_dict.values()\n",
    "print(np.mean(heights))\n",
    "\"\"\"\n",
    "\n",
    "# Create a request to the Chat Completions endpoint\n",
    "response = client.chat.completions.create(\n",
    "  model=\"gpt-4o-mini\",\n",
    "  messages=[\n",
    "    {\"role\": \"system\", \"content\": \"You are a helpful Python programming assistant.\"},\n",
    "    {\"role\": \"user\", \"content\": instruction}\n",
    "  ],\n",
    "  max_tokens=100\n",
    ")\n",
    "\n",
    "print(response.choices[0].message.content)"
   ],
   "metadata": {
    "collapsed": false,
    "ExecuteTime": {
     "end_time": "2025-01-30T05:01:04.288953500Z",
     "start_time": "2025-01-30T05:01:02.524145600Z"
    }
   },
   "id": "d7a9a14c05269a1c",
   "execution_count": 9
  },
  {
   "cell_type": "markdown",
   "source": [
    "## Multi-turn Chat Completions"
   ],
   "metadata": {
    "collapsed": false
   },
   "id": "f4c5e2aad95919b5"
  },
  {
   "cell_type": "markdown",
   "source": [
    "### In-context learning"
   ],
   "metadata": {
    "collapsed": false
   },
   "id": "9dd61ad8e8c9a45"
  },
  {
   "cell_type": "code",
   "outputs": [
    {
     "name": "stdout",
     "output_type": "stream",
     "text": [
      "The `type()` function in Python is used to determine the type of an object. It can be used in several ways:\n",
      "\n",
      "1. **Single argument**: When called with a single argument, it returns the type of that object. For example:\n",
      "   ```python\n",
      "   a = 5\n",
      "   print(type(a))  # Output: <class 'int'>\n",
      "   ```\n",
      "\n",
      "2. **Three arguments**: When called with three arguments, it can be used to create a new type (class). The arguments are:\n",
      "   - The name of the new type (as a string).\n",
      "   - A tuple containing the base classes from which the new type should be derived.\n",
      "   - A dictionary containing the attributes and methods of the new type.\n",
      "\n",
      "   Here’s an example:\n",
      "   ```python\n",
      "   MyClass = type('MyClass', (object,), {'my_method': lambda self: 'Hello'})\n",
      "   obj = MyClass()\n",
      "   print(type(obj))  # Output: <class '__main__.MyClass'>\n",
      "   ```\n",
      "\n",
      "Overall, `type()` is a built-in function that is essential for understanding and working with types in Python programming.\n"
     ]
    }
   ],
   "source": [
    "# Add a similar coding example in the form of user and assistant messages to messages so the model can learn more about the desired response.\n",
    "\n",
    "response = client.chat.completions.create(\n",
    "   model=\"gpt-4o-mini\",\n",
    "   # Add a user and assistant message for in-context learning\n",
    "   messages=[\n",
    "     {\"role\": \"system\", \"content\": \"You are a helpful Python programming tutor.\"},\n",
    "     {\"role\": \"user\", \"content\": \"Explain what the min() Python function does.\"},\n",
    "     {\"role\": \"assistant\", \"content\": \"The min() function returns the smallest item from an iterable.\"},\n",
    "     {\"role\": \"user\", \"content\": \"Explain what the type() function does.\"}\n",
    "   ]\n",
    ")\n",
    "\n",
    "print(response.choices[0].message.content)"
   ],
   "metadata": {
    "collapsed": false,
    "ExecuteTime": {
     "end_time": "2025-01-31T00:14:02.386220Z",
     "start_time": "2025-01-31T00:13:56.195188700Z"
    }
   },
   "id": "295711ba40051535",
   "execution_count": 10
  },
  {
   "cell_type": "markdown",
   "source": [
    "### Creating an AI Chatbot"
   ],
   "metadata": {
    "collapsed": false
   },
   "id": "692827d3dbfd3333"
  },
  {
   "cell_type": "code",
   "outputs": [
    {
     "name": "stdout",
     "output_type": "stream",
     "text": [
      "User:  Explain what pi is.\n",
      "Assistant:  Pi (π) is a mathematical constant that represents the ratio of a circle's circumference to its diameter. This means that no matter how large or small the circle is, if you divide its circumference (the distance around the circle) by its diameter (the distance across the circle through the center), the result will always be approximately 3.14159.\n",
      "\n",
      "Pi is an irrational number, which means it cannot be expressed exactly as a fraction of two integers, and its decimal representation goes on forever without repeating \n",
      "\n",
      "User:  Summarize this in two bullet points.\n",
      "Assistant:  - Pi (π) is the ratio of a circle's circumference to its diameter, approximately equal to 3.14159.\n",
      "- It is an irrational number, meaning its decimal representation is infinite and non-repeating. \n"
     ]
    }
   ],
   "source": [
    "# Create a dictionary to house the user message in a format that can be sent to the API; then append it to messages\n",
    "\n",
    "messages = [{\"role\": \"system\", \"content\": \"You are a helpful math tutor.\"}]\n",
    "user_msgs = [\"Explain what pi is.\", \"Summarize this in two bullet points.\"]\n",
    "\n",
    "# Create a Chat request to send messages to the model.\n",
    "for q in user_msgs:\n",
    "    print(\"User: \", q)\n",
    "    \n",
    "    # Create a dictionary for the user message from q and append to messages\n",
    "    user_dict = {\"role\": \"user\", \"content\": q}\n",
    "    messages.append(user_dict)\n",
    "    \n",
    "    # Create the API request\n",
    "    response = client.chat.completions.create(\n",
    "        model=\"gpt-4o-mini\",\n",
    "        messages=messages,\n",
    "        max_tokens=100\n",
    "    )\n",
    "    \n",
    "    # Convert the assistant's message to a dict and append to messages\n",
    "    assistant_dict = {\"role\": \"assistant\", \"content\": response.choices[0].message.content}\n",
    "    messages.append(assistant_dict)\n",
    "    print(\"Assistant: \", response.choices[0].message.content, \"\\n\")"
   ],
   "metadata": {
    "collapsed": false,
    "ExecuteTime": {
     "end_time": "2025-01-31T00:22:07.530977300Z",
     "start_time": "2025-01-31T00:21:59.402546500Z"
    }
   },
   "id": "1774d19ab4a904dc",
   "execution_count": 11
  }
 ],
 "metadata": {
  "kernelspec": {
   "display_name": "Python 3",
   "language": "python",
   "name": "python3"
  },
  "language_info": {
   "codemirror_mode": {
    "name": "ipython",
    "version": 2
   },
   "file_extension": ".py",
   "mimetype": "text/x-python",
   "name": "python",
   "nbconvert_exporter": "python",
   "pygments_lexer": "ipython2",
   "version": "2.7.6"
  }
 },
 "nbformat": 4,
 "nbformat_minor": 5
}
