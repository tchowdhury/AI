{
 "cells": [
  {
   "cell_type": "code",
   "execution_count": 57,
   "id": "initial_id",
   "metadata": {
    "collapsed": true,
    "ExecuteTime": {
     "end_time": "2025-03-13T06:05:10.255939200Z",
     "start_time": "2025-03-13T06:05:10.211076200Z"
    }
   },
   "outputs": [],
   "source": [
    "%matplotlib inline\n",
    "import torch\n",
    "from torch.utils.data import TensorDataset, DataLoader\n",
    "import pandas as pd\n",
    "import torch.nn as nn\n",
    "import numpy as np\n",
    "import torch.optim as optim\n",
    "import matplotlib.pyplot as plt\n",
    "from torch.nn import CrossEntropyLoss\n",
    "import pickle\n",
    "import torchmetrics\n",
    "from mpl_toolkits.axes_grid1 import ImageGrid\n",
    "import torch.nn.functional as F"
   ]
  },
  {
   "cell_type": "markdown",
   "source": [
    "## Layer Initialization and Transfer Learning"
   ],
   "metadata": {
    "collapsed": false
   },
   "id": "2396aa1eb8d189fb"
  },
  {
   "cell_type": "markdown",
   "source": [
    "### Freeze layers of a model"
   ],
   "metadata": {
    "collapsed": false
   },
   "id": "38c82ac1f2b9b682"
  },
  {
   "cell_type": "code",
   "outputs": [
    {
     "name": "stdout",
     "output_type": "stream",
     "text": [
      "<class 'torch.Tensor'>\n",
      "tensor([[ 2.3212,  0.6773, -0.7743, -0.3719,  0.8583,  0.9111, -0.3750,  0.4561,\n",
      "         -0.8079, -0.6421]], grad_fn=<AddmmBackward0>)\n"
     ]
    }
   ],
   "source": [
    "# Create a 4-layer linear network that takes 8 input features from input_tensor and produces 10 regression output.\n",
    "input_tensor = torch.Tensor([[3, 4, 6, 7, 10, 12, 2, 3]])\n",
    "\n",
    "# Implement a neural network with exactly four linear layers\n",
    "model = nn.Sequential(\n",
    "  nn.Linear(8, 16),\n",
    "  nn.Linear(16, 32),\n",
    "  nn.Linear(32, 10)\n",
    ")\n",
    "\n",
    "output = model(input_tensor)\n",
    "print(output)\n",
    "\n",
    "# Task is to train only the last linear layer of this model and freeze the first two linear layers.\n",
    "\n",
    "#Use an if statement to determine if the parameter should be frozen or not based on its name.\n",
    "\n",
    "for name, param in model.named_parameters():    \n",
    "  \n",
    "    # Check if the parameters belong to the first layer\n",
    "    if name == '0.weight':\n",
    "      \n",
    "        # Freeze the parameters\n",
    "        param.requires_grad = False\n",
    "  \n",
    "    # Check if the parameters belong to the second layer\n",
    "    if name == '1.weight':\n",
    "      \n",
    "        # Freeze the parameters\n",
    "        param.requires_grad = False"
   ],
   "metadata": {
    "collapsed": false,
    "ExecuteTime": {
     "end_time": "2025-03-13T00:33:35.152834100Z",
     "start_time": "2025-03-13T00:33:34.930324500Z"
    }
   },
   "id": "ba2f2c7661702478",
   "execution_count": 8
  },
  {
   "cell_type": "markdown",
   "source": [
    "### Layer Initialization"
   ],
   "metadata": {
    "collapsed": false
   },
   "id": "c1e82b01192c1f89"
  },
  {
   "cell_type": "code",
   "outputs": [
    {
     "name": "stdout",
     "output_type": "stream",
     "text": [
      "tensor([382.0644, 381.7974, 412.2797, 454.4508, 406.0322, 416.0537, 387.9502,\n",
      "        415.3087, 395.1567, 402.9168, 403.8720, 389.9672, 397.3943, 419.1433,\n",
      "        374.3557, 390.0723, 431.1855, 341.9128, 375.0736, 404.5716, 418.6308,\n",
      "        440.1833, 493.5712, 431.8582, 376.4826, 455.3007, 377.9301, 405.6681,\n",
      "        402.1248, 419.9512, 377.9842, 460.6865, 409.2059, 419.3811, 386.1362,\n",
      "        434.0216, 469.3418, 409.9371, 404.0838, 446.6445, 358.8353, 469.8241,\n",
      "        435.9679, 447.9725, 486.2414, 454.9444, 438.6491, 436.6408, 368.0972,\n",
      "        404.3836, 470.5710, 393.2542, 491.0186, 405.8979, 309.9807, 412.6425,\n",
      "        479.3357, 438.3076, 384.8696, 481.4535, 401.9032, 397.4716, 397.5204,\n",
      "        465.7252], grad_fn=<ViewBackward0>)\n"
     ]
    }
   ],
   "source": [
    "random_numbers = np.random.uniform(low=-2, high=12, size=16).astype(np.float32)\n",
    "\n",
    "input_tensor = torch.from_numpy(random_numbers)\n",
    "\n",
    "layer0 = nn.Linear(16, 32)\n",
    "layer1 = nn.Linear(32, 64)\n",
    "\n",
    "nn.init.uniform_(layer0.weight)\n",
    "nn.init.uniform_(layer1.weight)\n",
    "\n",
    "# # Implement a neural network with exactly four linear layers\n",
    "model = nn.Sequential(layer0, layer1)\n",
    "\n",
    "output = model(input_tensor)\n"
   ],
   "metadata": {
    "collapsed": false,
    "ExecuteTime": {
     "end_time": "2025-03-13T02:50:25.398075400Z",
     "start_time": "2025-03-13T02:50:25.129779200Z"
    }
   },
   "id": "1d1dd803a5695b6f",
   "execution_count": 27
  },
  {
   "cell_type": "markdown",
   "source": [
    "## Evaluating Model Performance"
   ],
   "metadata": {
    "collapsed": false
   },
   "id": "709becf6c08759"
  },
  {
   "cell_type": "markdown",
   "source": [
    "### Writing the evaluation loop"
   ],
   "metadata": {
    "collapsed": false
   },
   "id": "ac0aac81958b81bd"
  },
  {
   "cell_type": "code",
   "outputs": [
    {
     "ename": "IndexError",
     "evalue": "tuple index out of range",
     "output_type": "error",
     "traceback": [
      "\u001B[1;31m---------------------------------------------------------------------------\u001B[0m",
      "\u001B[1;31mIndexError\u001B[0m                                Traceback (most recent call last)",
      "Cell \u001B[1;32mIn[32], line 3\u001B[0m\n\u001B[0;32m      1\u001B[0m \u001B[38;5;66;03m# Write an evaluation loop to compute validation loss. The evaluation loop follows a similar structure to the training loop but without gradient calculations or weight updates.\u001B[39;00m\n\u001B[0;32m      2\u001B[0m dataset \u001B[38;5;241m=\u001B[39m TensorDataset()\n\u001B[1;32m----> 3\u001B[0m validationloader \u001B[38;5;241m=\u001B[39m \u001B[43mDataLoader\u001B[49m\u001B[43m(\u001B[49m\u001B[43mdataset\u001B[49m\u001B[38;5;241;43m=\u001B[39;49m\u001B[43mdataset\u001B[49m\u001B[43m,\u001B[49m\u001B[43m \u001B[49m\u001B[43mbatch_size\u001B[49m\u001B[38;5;241;43m=\u001B[39;49m\u001B[38;5;241;43m8\u001B[39;49m\u001B[43m,\u001B[49m\u001B[43m \u001B[49m\u001B[43mshuffle\u001B[49m\u001B[38;5;241;43m=\u001B[39;49m\u001B[38;5;28;43;01mTrue\u001B[39;49;00m\u001B[43m)\u001B[49m\n\u001B[0;32m      5\u001B[0m layer0 \u001B[38;5;241m=\u001B[39m nn\u001B[38;5;241m.\u001B[39mLinear(\u001B[38;5;241m16\u001B[39m, \u001B[38;5;241m32\u001B[39m)\n\u001B[0;32m      6\u001B[0m layer1 \u001B[38;5;241m=\u001B[39m nn\u001B[38;5;241m.\u001B[39mFlatten(start_dim\u001B[38;5;241m=\u001B[39m\u001B[38;5;241m1\u001B[39m,end_dim\u001B[38;5;241m=\u001B[39m\u001B[38;5;241m1\u001B[39m)\n",
      "File \u001B[1;32mC:\\Python_Prac\\AI\\.venv\\Lib\\site-packages\\torch\\utils\\data\\dataloader.py:383\u001B[0m, in \u001B[0;36mDataLoader.__init__\u001B[1;34m(self, dataset, batch_size, shuffle, sampler, batch_sampler, num_workers, collate_fn, pin_memory, drop_last, timeout, worker_init_fn, multiprocessing_context, generator, prefetch_factor, persistent_workers, pin_memory_device, in_order)\u001B[0m\n\u001B[0;32m    381\u001B[0m \u001B[38;5;28;01melse\u001B[39;00m:  \u001B[38;5;66;03m# map-style\u001B[39;00m\n\u001B[0;32m    382\u001B[0m     \u001B[38;5;28;01mif\u001B[39;00m shuffle:\n\u001B[1;32m--> 383\u001B[0m         sampler \u001B[38;5;241m=\u001B[39m \u001B[43mRandomSampler\u001B[49m\u001B[43m(\u001B[49m\u001B[43mdataset\u001B[49m\u001B[43m,\u001B[49m\u001B[43m \u001B[49m\u001B[43mgenerator\u001B[49m\u001B[38;5;241;43m=\u001B[39;49m\u001B[43mgenerator\u001B[49m\u001B[43m)\u001B[49m  \u001B[38;5;66;03m# type: ignore[arg-type]\u001B[39;00m\n\u001B[0;32m    384\u001B[0m     \u001B[38;5;28;01melse\u001B[39;00m:\n\u001B[0;32m    385\u001B[0m         sampler \u001B[38;5;241m=\u001B[39m SequentialSampler(dataset)  \u001B[38;5;66;03m# type: ignore[arg-type]\u001B[39;00m\n",
      "File \u001B[1;32mC:\\Python_Prac\\AI\\.venv\\Lib\\site-packages\\torch\\utils\\data\\sampler.py:164\u001B[0m, in \u001B[0;36mRandomSampler.__init__\u001B[1;34m(self, data_source, replacement, num_samples, generator)\u001B[0m\n\u001B[0;32m    159\u001B[0m \u001B[38;5;28;01mif\u001B[39;00m \u001B[38;5;129;01mnot\u001B[39;00m \u001B[38;5;28misinstance\u001B[39m(\u001B[38;5;28mself\u001B[39m\u001B[38;5;241m.\u001B[39mreplacement, \u001B[38;5;28mbool\u001B[39m):\n\u001B[0;32m    160\u001B[0m     \u001B[38;5;28;01mraise\u001B[39;00m \u001B[38;5;167;01mTypeError\u001B[39;00m(\n\u001B[0;32m    161\u001B[0m         \u001B[38;5;124mf\u001B[39m\u001B[38;5;124m\"\u001B[39m\u001B[38;5;124mreplacement should be a boolean value, but got replacement=\u001B[39m\u001B[38;5;132;01m{\u001B[39;00m\u001B[38;5;28mself\u001B[39m\u001B[38;5;241m.\u001B[39mreplacement\u001B[38;5;132;01m}\u001B[39;00m\u001B[38;5;124m\"\u001B[39m\n\u001B[0;32m    162\u001B[0m     )\n\u001B[1;32m--> 164\u001B[0m \u001B[38;5;28;01mif\u001B[39;00m \u001B[38;5;129;01mnot\u001B[39;00m \u001B[38;5;28misinstance\u001B[39m(\u001B[38;5;28;43mself\u001B[39;49m\u001B[38;5;241;43m.\u001B[39;49m\u001B[43mnum_samples\u001B[49m, \u001B[38;5;28mint\u001B[39m) \u001B[38;5;129;01mor\u001B[39;00m \u001B[38;5;28mself\u001B[39m\u001B[38;5;241m.\u001B[39mnum_samples \u001B[38;5;241m<\u001B[39m\u001B[38;5;241m=\u001B[39m \u001B[38;5;241m0\u001B[39m:\n\u001B[0;32m    165\u001B[0m     \u001B[38;5;28;01mraise\u001B[39;00m \u001B[38;5;167;01mValueError\u001B[39;00m(\n\u001B[0;32m    166\u001B[0m         \u001B[38;5;124mf\u001B[39m\u001B[38;5;124m\"\u001B[39m\u001B[38;5;124mnum_samples should be a positive integer value, but got num_samples=\u001B[39m\u001B[38;5;132;01m{\u001B[39;00m\u001B[38;5;28mself\u001B[39m\u001B[38;5;241m.\u001B[39mnum_samples\u001B[38;5;132;01m}\u001B[39;00m\u001B[38;5;124m\"\u001B[39m\n\u001B[0;32m    167\u001B[0m     )\n",
      "File \u001B[1;32mC:\\Python_Prac\\AI\\.venv\\Lib\\site-packages\\torch\\utils\\data\\sampler.py:173\u001B[0m, in \u001B[0;36mRandomSampler.num_samples\u001B[1;34m(self)\u001B[0m\n\u001B[0;32m    169\u001B[0m \u001B[38;5;129m@property\u001B[39m\n\u001B[0;32m    170\u001B[0m \u001B[38;5;28;01mdef\u001B[39;00m\u001B[38;5;250m \u001B[39m\u001B[38;5;21mnum_samples\u001B[39m(\u001B[38;5;28mself\u001B[39m) \u001B[38;5;241m-\u001B[39m\u001B[38;5;241m>\u001B[39m \u001B[38;5;28mint\u001B[39m:\n\u001B[0;32m    171\u001B[0m     \u001B[38;5;66;03m# dataset size might change at runtime\u001B[39;00m\n\u001B[0;32m    172\u001B[0m     \u001B[38;5;28;01mif\u001B[39;00m \u001B[38;5;28mself\u001B[39m\u001B[38;5;241m.\u001B[39m_num_samples \u001B[38;5;129;01mis\u001B[39;00m \u001B[38;5;28;01mNone\u001B[39;00m:\n\u001B[1;32m--> 173\u001B[0m         \u001B[38;5;28;01mreturn\u001B[39;00m \u001B[38;5;28;43mlen\u001B[39;49m\u001B[43m(\u001B[49m\u001B[38;5;28;43mself\u001B[39;49m\u001B[38;5;241;43m.\u001B[39;49m\u001B[43mdata_source\u001B[49m\u001B[43m)\u001B[49m\n\u001B[0;32m    174\u001B[0m     \u001B[38;5;28;01mreturn\u001B[39;00m \u001B[38;5;28mself\u001B[39m\u001B[38;5;241m.\u001B[39m_num_samples\n",
      "File \u001B[1;32mC:\\Python_Prac\\AI\\.venv\\Lib\\site-packages\\torch\\utils\\data\\dataset.py:214\u001B[0m, in \u001B[0;36mTensorDataset.__len__\u001B[1;34m(self)\u001B[0m\n\u001B[0;32m    213\u001B[0m \u001B[38;5;28;01mdef\u001B[39;00m\u001B[38;5;250m \u001B[39m\u001B[38;5;21m__len__\u001B[39m(\u001B[38;5;28mself\u001B[39m):\n\u001B[1;32m--> 214\u001B[0m     \u001B[38;5;28;01mreturn\u001B[39;00m \u001B[38;5;28;43mself\u001B[39;49m\u001B[38;5;241;43m.\u001B[39;49m\u001B[43mtensors\u001B[49m\u001B[43m[\u001B[49m\u001B[38;5;241;43m0\u001B[39;49m\u001B[43m]\u001B[49m\u001B[38;5;241m.\u001B[39msize(\u001B[38;5;241m0\u001B[39m)\n",
      "\u001B[1;31mIndexError\u001B[0m: tuple index out of range"
     ]
    }
   ],
   "source": [
    "# Write an evaluation loop to compute validation loss. The evaluation loop follows a similar structure to the training loop but without gradient calculations or weight updates.\n",
    "dataset = TensorDataset()\n",
    "validationloader = DataLoader(dataset=dataset, batch_size=8, shuffle=True)\n",
    "\n",
    "layer0 = nn.Linear(16, 32)\n",
    "layer1 = nn.Flatten(start_dim=1,end_dim=1)\n",
    "layer2 = nn.Linear(in_features=3072,out_features=3)\n",
    "\n",
    "model = nn.Sequential(layer0, layer1, layer2)\n",
    "\n",
    "# Create the cross entropy loss function and store it as criterion\n",
    "criterion = CrossEntropyLoss()\n",
    "\n",
    "# Set the model to evaluation mode\n",
    "model.eval()\n",
    "validation_loss = 0.0\n",
    "\n",
    "with torch.no_grad():\n",
    "  \n",
    "  for features, labels in validationloader:\n",
    "    \n",
    "      outputs = model(features)\n",
    "      loss = criterion(outputs, labels)\n",
    "      \n",
    "      # Sum the current loss to the validation_loss variable\n",
    "      validation_loss += loss.item()\n",
    "\n",
    "# Calculate the mean loss value\n",
    "validation_loss_epoch = validation_loss / len(validationloader)\n",
    "print(validation_loss_epoch)\n",
    "\n",
    "# Set the model back to training mode\n",
    "model.train()"
   ],
   "metadata": {
    "collapsed": false,
    "ExecuteTime": {
     "end_time": "2025-03-13T03:30:16.750430900Z",
     "start_time": "2025-03-13T03:30:12.767001800Z"
    }
   },
   "id": "6aedda4c176c487d",
   "execution_count": 32
  },
  {
   "cell_type": "markdown",
   "source": [
    "### Calculating accuracy using torchmetrics"
   ],
   "metadata": {
    "collapsed": false
   },
   "id": "5caffd7373dd25f"
  },
  {
   "cell_type": "code",
   "outputs": [],
   "source": [
    "#  This function highlight misclassified samples, helping to analyze model errors.\n",
    "def plot_errors(model, dataloader): \n",
    "    # find mismatches\n",
    "    mismatches = []\n",
    "    for data in dataloader:\n",
    "        if len(mismatches) > 8:\n",
    "            break\n",
    "        features, labels = data\n",
    "        outputs = model(features)\n",
    "        gt = labels.argmax(-1)\n",
    "        pred = outputs.argmax(-1)\n",
    "        for f, g, p in zip(features, gt, pred):\n",
    "            if g != p:\n",
    "                mismatches.append((f, g, p))\n",
    "    \n",
    "    \n",
    "    fig = plt.figure(figsize=(8, 8))\n",
    "    grid = ImageGrid(fig, 111,  # similar to subplot(111)\n",
    "                     nrows_ncols=(2, 4),  # creates 2x2 grid of axes\n",
    "                     axes_pad=0.5,  # pad between axes in inch.\n",
    "                     )\n",
    "    mapping = {0: 'No mask', 1: 'Mask', 2: 'Incorrect'}\n",
    "    for idx, ax in enumerate(grid):\n",
    "        ax.imshow(mismatches[idx][0].permute(1, 2, 0))\n",
    "        ax.set_title(f'GT: {mapping[mismatches[idx][1].item()]} \\n PRED: {mapping[mismatches[idx][2].item()]}')\n",
    "        ax.axis('off')\n",
    "    plt.show()"
   ],
   "metadata": {
    "collapsed": false,
    "ExecuteTime": {
     "end_time": "2025-03-13T05:09:12.474693600Z",
     "start_time": "2025-03-13T05:09:12.426694600Z"
    }
   },
   "id": "851c17cc8d6ead91",
   "execution_count": 56
  },
  {
   "cell_type": "code",
   "outputs": [
    {
     "name": "stdout",
     "output_type": "stream",
     "text": [
      "tensor([[1, 0, 0],\n",
      "        [1, 0, 0],\n",
      "        [1, 0, 0],\n",
      "        ...,\n",
      "        [0, 0, 1],\n",
      "        [0, 0, 1],\n",
      "        [0, 0, 1]])\n"
     ]
    }
   ],
   "source": [
    "# unpickle data\n",
    "\n",
    "# load the data from a file\n",
    "with open('../../data/masks_dataset.pickle', 'rb') as f:\n",
    "    data = pickle.load(f)\n",
    "    \n",
    "X = data[0]   \n",
    "y = data[1]\n",
    "\n",
    "num_classes = 3\n",
    "\n",
    "# Create a dataset\n",
    "dataset = TensorDataset(torch.tensor(X), torch.tensor(y))\n",
    "\n",
    "# Create a DataLoader using dataset, setting a batch size of two and enabling shuffling.\n",
    "dataloader = DataLoader(dataset=dataset, batch_size=8,shuffle=True)\n",
    "\n",
    "# Create the one-hot encoded vector using PyTorch\n",
    "labels = F.one_hot(torch.tensor(y), num_classes=num_classes)\n",
    "\n",
    "layer0 = nn.Linear(16, 32)\n",
    "layer1 = nn.Flatten(start_dim=1,end_dim=1)\n",
    "layer2 = nn.Linear(in_features=3072,out_features=3)\n",
    "\n",
    "model = nn.Sequential(layer0, layer1, layer2)\n",
    "\n",
    "# Create accuracy metric\n",
    "metric = torchmetrics.Accuracy(task=\"multiclass\", num_classes=3)\n",
    "for features, labels in dataloader:\n",
    "    outputs = model(features)\n",
    "    \n",
    "    # Calculate accuracy over the batch\n",
    "    metric.update(outputs, labels.argmax(dim=-1))\n",
    "\n",
    "# Calculate accuracy over the whole epoch\n",
    "accuracy = metric.compute()\n",
    "print(f\"Accuracy on all data: {accuracy}\")\n",
    "\n",
    "# Reset metric for the next epoch\n",
    "metric.reset()\n",
    "plot_errors(model, dataloader)    \n",
    "    "
   ],
   "metadata": {
    "collapsed": false,
    "ExecuteTime": {
     "end_time": "2025-03-13T06:09:46.281674800Z",
     "start_time": "2025-03-13T06:09:46.028628500Z"
    }
   },
   "id": "4448282aa7a2ea11",
   "execution_count": 59
  },
  {
   "cell_type": "markdown",
   "source": [
    "## Fighting Overfitting"
   ],
   "metadata": {
    "collapsed": false
   },
   "id": "ad45946531712507"
  },
  {
   "cell_type": "markdown",
   "source": [
    "### Experimenting with dropout"
   ],
   "metadata": {
    "collapsed": false
   },
   "id": "17ef32832cd0aeac"
  },
  {
   "cell_type": "code",
   "outputs": [
    {
     "name": "stdout",
     "output_type": "stream",
     "text": [
      "Output in train mode: tensor([-0.0000,  0.0000, -0.0291, -2.5945], grad_fn=<MulBackward0>)\n",
      "Output in eval mode: tensor([-0.6662,  0.8172, -0.0146, -1.2973], grad_fn=<ViewBackward0>)\n"
     ]
    }
   ],
   "source": [
    "features = torch.Tensor([ 1.6057,  1.9775, -0.0190, -0.7357, -0.0915, -0.4068,  1.7507, -0.1622])\n",
    "\n",
    "# Add a dropout layer to the model with a 50% probability of zeroing out elements.\n",
    "# Model with Dropout\n",
    "model = nn.Sequential(\n",
    "    nn.Linear(8, 6),\n",
    "    nn.Linear(6, 4),\n",
    "    nn.Dropout(p=0.5))\n",
    "\n",
    "# Set the model to training mode and generate predictions using features, storing the output as output_train\n",
    "model.train()\n",
    "output_train = model(features)\n",
    "\n",
    "#Set the model to evaluation mode to disable dropout.\n",
    "model.eval()\n",
    "# Generate predictions using features, storing the output as output_eval.\n",
    "output_eval = model(features)\n",
    "\n",
    "# Print results\n",
    "print(\"Output in train mode:\", output_train)\n",
    "print(\"Output in eval mode:\", output_eval)"
   ],
   "metadata": {
    "collapsed": false,
    "ExecuteTime": {
     "end_time": "2025-03-13T06:50:41.973365900Z",
     "start_time": "2025-03-13T06:50:41.846133900Z"
    }
   },
   "id": "802fe5dd5bb4366e",
   "execution_count": 64
  },
  {
   "cell_type": "markdown",
   "source": [
    "## Improving Model Performance"
   ],
   "metadata": {
    "collapsed": false
   },
   "id": "558dc7c36961a95b"
  },
  {
   "cell_type": "code",
   "outputs": [],
   "source": [
    "def plot_hyperparameter_search(values):\n",
    "    lrs, momentums = zip(*values)\n",
    "\n",
    "    plt.figure(figsize=(8, 6))\n",
    "    plt.scatter(lrs, momentums)\n",
    "    plt.xscale(\"log\")  # Use log scale for learning rate\n",
    "    plt.xlabel(\"Learning Rate\")\n",
    "    plt.ylabel(\"Momentum\")\n",
    "    # plt.title(\"Randomly Sampled Learning Rates and Momentum\")\n",
    "    plt.grid(True, which=\"both\", linestyle=\"--\", linewidth=0.5)\n",
    "\n",
    "    # Set specific tick marks on the x-axis\n",
    "    plt.xticks([10**-2, 10**-3, 10**-4], \n",
    "               [r'$10^{-2}$', r'$10^{-3}$', r'$10^{-4}$'])\n",
    "\n",
    "    plt.show()"
   ],
   "metadata": {
    "collapsed": false,
    "ExecuteTime": {
     "end_time": "2025-03-13T06:57:36.159730300Z",
     "start_time": "2025-03-13T06:57:36.121840200Z"
    }
   },
   "id": "2c992a13903e362d",
   "execution_count": 65
  },
  {
   "cell_type": "code",
   "outputs": [
    {
     "data": {
      "text/plain": "<Figure size 800x600 with 1 Axes>",
      "image/png": "[encoded data removed]"
     },
     "metadata": {},
     "output_type": "display_data"
    }
   ],
   "source": [
    "# Randomly sample a learning rate factor between 2 and 4 so that the learning rate (lr) is bounded between 10**-2  and 10**-4.\n",
    "values = []\n",
    "for idx in range(10):\n",
    "    # Randomly sample a learning rate factor between 2 and 4\n",
    "    factor = np.random.uniform(2, 4)\n",
    "    lr = 10 ** -factor\n",
    "    \n",
    "    # Randomly select a momentum between 0.85 and 0.99\n",
    "    momentum = np.random.uniform(0.85, 0.99)\n",
    "    \n",
    "    values.append((lr, momentum))\n",
    "       \n",
    "plot_hyperparameter_search(values)"
   ],
   "metadata": {
    "collapsed": false,
    "ExecuteTime": {
     "end_time": "2025-03-13T07:00:34.128325300Z",
     "start_time": "2025-03-13T07:00:29.890018Z"
    }
   },
   "id": "32139637bb551ecc",
   "execution_count": 66
  }
 ],
 "metadata": {
  "kernelspec": {
   "display_name": "Python 3",
   "language": "python",
   "name": "python3"
  },
  "language_info": {
   "codemirror_mode": {
    "name": "ipython",
    "version": 2
   },
   "file_extension": ".py",
   "mimetype": "text/x-python",
   "name": "python",
   "nbconvert_exporter": "python",
   "pygments_lexer": "ipython2",
   "version": "2.7.6"
  }
 },
 "nbformat": 4,
 "nbformat_minor": 5
}
