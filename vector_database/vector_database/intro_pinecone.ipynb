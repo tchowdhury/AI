{
 "cells": [
  {
   "cell_type": "code",
   "execution_count": 1,
   "id": "initial_id",
   "metadata": {
    "collapsed": true,
    "ExecuteTime": {
     "end_time": "2025-03-08T23:44:47.008255400Z",
     "start_time": "2025-03-08T23:44:34.196418300Z"
    }
   },
   "outputs": [
    {
     "data": {
      "text/plain": "True"
     },
     "execution_count": 1,
     "metadata": {},
     "output_type": "execute_result"
    }
   ],
   "source": [
    "from pinecone.grpc import PineconeGRPC as Pinecone\n",
    "from pinecone import ServerlessSpec\n",
    "from dotenv import load_dotenv\n",
    "import os\n",
    "\n",
    "# Load environment variables from the .env file (if present)\n",
    "load_dotenv()"
   ]
  },
  {
   "cell_type": "code",
   "outputs": [],
   "source": [
    "PINECONE_API_KEY = os.getenv(\"PINECONE_API_KEY\")\n",
    "pc = Pinecone(api_key=PINECONE_API_KEY)"
   ],
   "metadata": {
    "collapsed": false,
    "ExecuteTime": {
     "end_time": "2025-03-08T23:44:57.461522600Z",
     "start_time": "2025-03-08T23:44:57.428260100Z"
    }
   },
   "id": "c2d7bba41d519bd3",
   "execution_count": 2
  },
  {
   "cell_type": "markdown",
   "source": [
    "## Introduction to Pinecone Indexes"
   ],
   "metadata": {
    "collapsed": false
   },
   "id": "fe2c331b9a2bc00c"
  },
  {
   "cell_type": "markdown",
   "source": [
    "### First Pinecone index"
   ],
   "metadata": {
    "collapsed": false
   },
   "id": "bb8b87c72c99c74"
  },
  {
   "cell_type": "markdown",
   "source": [
    "With your Pinecone client initialized, you're all set to begin creating an index! Indexes are used to store records, including the vectors and associated metadata, as well as serving queries and other manipulations. As you progress through the course, you'll see how these different steps build up to a modern AI system built on a vector database."
   ],
   "metadata": {
    "collapsed": false
   },
   "id": "f0842aaea9ed4894"
  },
  {
   "cell_type": "code",
   "outputs": [
    {
     "data": {
      "text/plain": "{\n    \"name\": \"my-first-index\",\n    \"metric\": \"cosine\",\n    \"host\": \"my-first-index-tbbbaqp.svc.aped-4627-b74a.pinecone.io\",\n    \"spec\": {\n        \"serverless\": {\n            \"cloud\": \"aws\",\n            \"region\": \"us-east-1\"\n        }\n    },\n    \"status\": {\n        \"ready\": true,\n        \"state\": \"Ready\"\n    },\n    \"vector_type\": \"dense\",\n    \"dimension\": 1536,\n    \"deletion_protection\": \"disabled\",\n    \"tags\": null\n}"
     },
     "execution_count": 15,
     "metadata": {},
     "output_type": "execute_result"
    }
   ],
   "source": [
    "# # Create your Pinecone index\n",
    "pc.create_index(\n",
    "    name=\"my-first-index\",\n",
    "    dimension=1536,\n",
    "    spec=ServerlessSpec(\n",
    "        cloud='aws',\n",
    "        region='us-east-1'\n",
    "    )\n",
    ")"
   ],
   "metadata": {
    "collapsed": false,
    "ExecuteTime": {
     "end_time": "2025-03-03T01:39:19.511386200Z",
     "start_time": "2025-03-03T01:39:09.125848400Z"
    }
   },
   "id": "e14499bf8d29519a",
   "execution_count": 15
  },
  {
   "cell_type": "code",
   "outputs": [
    {
     "name": "stdout",
     "output_type": "stream",
     "text": [
      "[{\n",
      "    \"name\": \"rag-index\",\n",
      "    \"metric\": \"cosine\",\n",
      "    \"host\": \"rag-index-tbbbaqp.svc.aped-4627-b74a.pinecone.io\",\n",
      "    \"spec\": {\n",
      "        \"serverless\": {\n",
      "            \"cloud\": \"aws\",\n",
      "            \"region\": \"us-east-1\"\n",
      "        }\n",
      "    },\n",
      "    \"status\": {\n",
      "        \"ready\": true,\n",
      "        \"state\": \"Ready\"\n",
      "    },\n",
      "    \"vector_type\": \"dense\",\n",
      "    \"dimension\": 1536,\n",
      "    \"deletion_protection\": \"disabled\",\n",
      "    \"tags\": null\n",
      "}, {\n",
      "    \"name\": \"my-first-index\",\n",
      "    \"metric\": \"cosine\",\n",
      "    \"host\": \"my-first-index-tbbbaqp.svc.aped-4627-b74a.pinecone.io\",\n",
      "    \"spec\": {\n",
      "        \"serverless\": {\n",
      "            \"cloud\": \"aws\",\n",
      "            \"region\": \"us-east-1\"\n",
      "        }\n",
      "    },\n",
      "    \"status\": {\n",
      "        \"ready\": true,\n",
      "        \"state\": \"Ready\"\n",
      "    },\n",
      "    \"vector_type\": \"dense\",\n",
      "    \"dimension\": 1536,\n",
      "    \"deletion_protection\": \"disabled\",\n",
      "    \"tags\": null\n",
      "}, {\n",
      "    \"name\": \"test-image-index\",\n",
      "    \"metric\": \"cosine\",\n",
      "    \"host\": \"test-image-index-tbbbaqp.svc.aped-4627-b74a.pinecone.io\",\n",
      "    \"spec\": {\n",
      "        \"serverless\": {\n",
      "            \"cloud\": \"aws\",\n",
      "            \"region\": \"us-east-1\"\n",
      "        }\n",
      "    },\n",
      "    \"status\": {\n",
      "        \"ready\": true,\n",
      "        \"state\": \"Ready\"\n",
      "    },\n",
      "    \"vector_type\": \"dense\",\n",
      "    \"dimension\": 1280,\n",
      "    \"deletion_protection\": \"disabled\",\n",
      "    \"tags\": null\n",
      "}, {\n",
      "    \"name\": \"semantic-search-squad\",\n",
      "    \"metric\": \"cosine\",\n",
      "    \"host\": \"semantic-search-squad-tbbbaqp.svc.aped-4627-b74a.pinecone.io\",\n",
      "    \"spec\": {\n",
      "        \"serverless\": {\n",
      "            \"cloud\": \"aws\",\n",
      "            \"region\": \"us-east-1\"\n",
      "        }\n",
      "    },\n",
      "    \"status\": {\n",
      "        \"ready\": true,\n",
      "        \"state\": \"Ready\"\n",
      "    },\n",
      "    \"vector_type\": \"dense\",\n",
      "    \"dimension\": 1536,\n",
      "    \"deletion_protection\": \"disabled\",\n",
      "    \"tags\": null\n",
      "}, {\n",
      "    \"name\": \"my-second-index\",\n",
      "    \"metric\": \"cosine\",\n",
      "    \"host\": \"my-second-index-tbbbaqp.svc.aped-4627-b74a.pinecone.io\",\n",
      "    \"spec\": {\n",
      "        \"serverless\": {\n",
      "            \"cloud\": \"aws\",\n",
      "            \"region\": \"us-east-1\"\n",
      "        }\n",
      "    },\n",
      "    \"status\": {\n",
      "        \"ready\": true,\n",
      "        \"state\": \"Ready\"\n",
      "    },\n",
      "    \"vector_type\": \"dense\",\n",
      "    \"dimension\": 1536,\n",
      "    \"deletion_protection\": \"disabled\",\n",
      "    \"tags\": null\n",
      "}]\n"
     ]
    }
   ],
   "source": [
    "# List indexes\n",
    "index_list = pc.list_indexes()\n",
    "print(index_list)"
   ],
   "metadata": {
    "collapsed": false,
    "ExecuteTime": {
     "end_time": "2025-03-08T23:45:04.074718100Z",
     "start_time": "2025-03-08T23:45:01.854237600Z"
    }
   },
   "id": "34eea034616dd0ec",
   "execution_count": 3
  },
  {
   "cell_type": "code",
   "outputs": [],
   "source": [
    "# Delete Index\n",
    "pc.delete_index(\"my-first-index\")"
   ],
   "metadata": {
    "collapsed": false,
    "ExecuteTime": {
     "end_time": "2025-03-03T01:31:43.446365100Z",
     "start_time": "2025-03-03T01:31:39.900337600Z"
    }
   },
   "id": "1e3544a54ff502bf",
   "execution_count": 12
  },
  {
   "cell_type": "markdown",
   "source": [
    "### Managing Indexes"
   ],
   "metadata": {
    "collapsed": false
   },
   "id": "c4c0b43e36aae5be"
  },
  {
   "cell_type": "markdown",
   "source": [
    "To begin ingesting vectors and performing vector manipulations in your newly-created Pinecone index, you'll first need to connect to it! The resulting index object has a number of methods for ingesting, manipulating, and exploring the contents of the index in Python."
   ],
   "metadata": {
    "collapsed": false
   },
   "id": "4e74ec408fe1e1fc"
  },
  {
   "cell_type": "code",
   "outputs": [
    {
     "name": "stdout",
     "output_type": "stream",
     "text": [
      "{'dimension': 1536,\n",
      " 'index_fullness': 0.0,\n",
      " 'namespaces': {'': {'vector_count': 98}},\n",
      " 'total_vector_count': 98}\n"
     ]
    }
   ],
   "source": [
    "# Connect to your index\n",
    "index = pc.Index(\"my-first-index\")\n",
    "\n",
    "# Print the index statistics\n",
    "print(index.describe_index_stats())"
   ],
   "metadata": {
    "collapsed": false,
    "ExecuteTime": {
     "end_time": "2025-03-06T03:03:10.343840500Z",
     "start_time": "2025-03-06T03:03:07.175398100Z"
    }
   },
   "id": "cbe1efe573a829b7",
   "execution_count": 5
  },
  {
   "cell_type": "markdown",
   "source": [
    "### Vector Ingestion"
   ],
   "metadata": {
    "collapsed": false
   },
   "id": "f5a42f2ba1c7729a"
  },
  {
   "cell_type": "markdown",
   "source": [
    "### Checking dimensionality"
   ],
   "metadata": {
    "collapsed": false
   },
   "id": "b0cc307e48437c1e"
  },
  {
   "cell_type": "code",
   "outputs": [
    {
     "name": "stdout",
     "output_type": "stream",
     "text": [
      "True\n"
     ]
    }
   ],
   "source": [
    "import json\n",
    "\n",
    "# Open and read the JSON file\n",
    "with open('../data/vectors.json', 'r') as file:\n",
    "    vectors = json.load(file)\n",
    "\n",
    "# Check that each vector has a dimensionality of 1536\n",
    "vector_dims = [len(vector['values']) == 1536 for vector in vectors]\n",
    "print(all(vector_dims))"
   ],
   "metadata": {
    "collapsed": false,
    "ExecuteTime": {
     "end_time": "2025-03-03T02:19:36.644190100Z",
     "start_time": "2025-03-03T02:19:36.502755600Z"
    }
   },
   "id": "f34400e91458fb7d",
   "execution_count": 19
  },
  {
   "cell_type": "markdown",
   "source": [
    "### Ingesting vectors with metadata"
   ],
   "metadata": {
    "collapsed": false
   },
   "id": "9053f3dc6704fd8a"
  },
  {
   "cell_type": "code",
   "outputs": [
    {
     "name": "stdout",
     "output_type": "stream",
     "text": [
      "{'dimension': 1536,\n",
      " 'index_fullness': 0.0,\n",
      " 'namespaces': {'': {'vector_count': 0}},\n",
      " 'total_vector_count': 0}\n"
     ]
    }
   ],
   "source": [
    "# Ingest the vectors and metadata\n",
    "index.upsert(vectors=vectors)\n",
    "\n",
    "# Print the index statistics\n",
    "print(index.describe_index_stats())"
   ],
   "metadata": {
    "collapsed": false,
    "ExecuteTime": {
     "end_time": "2025-03-03T02:21:40.859923500Z",
     "start_time": "2025-03-03T02:21:35.358945400Z"
    }
   },
   "id": "a5099482cb2dfe40",
   "execution_count": 20
  },
  {
   "cell_type": "code",
   "outputs": [
    {
     "name": "stdout",
     "output_type": "stream",
     "text": [
      "{'dimension': 1536,\n",
      " 'index_fullness': 0.0,\n",
      " 'namespaces': {'': {'vector_count': 98}},\n",
      " 'total_vector_count': 98}\n"
     ]
    }
   ],
   "source": [
    "print(index.describe_index_stats())"
   ],
   "metadata": {
    "collapsed": false,
    "ExecuteTime": {
     "end_time": "2025-03-06T03:03:16.524212800Z",
     "start_time": "2025-03-06T03:03:16.281835100Z"
    }
   },
   "id": "62bd1644258427e0",
   "execution_count": 6
  }
 ],
 "metadata": {
  "kernelspec": {
   "display_name": "Python 3",
   "language": "python",
   "name": "python3"
  },
  "language_info": {
   "codemirror_mode": {
    "name": "ipython",
    "version": 2
   },
   "file_extension": ".py",
   "mimetype": "text/x-python",
   "name": "python",
   "nbconvert_exporter": "python",
   "pygments_lexer": "ipython2",
   "version": "2.7.6"
  }
 },
 "nbformat": 4,
 "nbformat_minor": 5
}
