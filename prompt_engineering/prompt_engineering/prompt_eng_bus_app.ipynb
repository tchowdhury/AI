{
 "cells": [
  {
   "cell_type": "code",
   "execution_count": 1,
   "id": "initial_id",
   "metadata": {
    "collapsed": true,
    "ExecuteTime": {
     "end_time": "2025-02-10T05:05:24.910307200Z",
     "start_time": "2025-02-10T05:05:09.908462200Z"
    }
   },
   "outputs": [
    {
     "data": {
      "text/plain": "True"
     },
     "execution_count": 1,
     "metadata": {},
     "output_type": "execute_result"
    }
   ],
   "source": [
    "from openai import OpenAI\n",
    "from dotenv import load_dotenv\n",
    "import os\n",
    "\n",
    "# Load environment variables from the .env file (if present)\n",
    "load_dotenv()"
   ]
  },
  {
   "cell_type": "code",
   "outputs": [],
   "source": [
    "OPENAI_API_KEY = os.getenv(\"OPENAI_API_KEY\")\n",
    "client = OpenAI(api_key=OPENAI_API_KEY)\n",
    "\n",
    "def get_response(prompt):\n",
    "  # Create a request to the chat completions endpoint\n",
    "  response = client.chat.completions.create(\n",
    "    model=\"gpt-4o-mini\",\n",
    "    messages=[{\"role\": \"user\", \"content\": prompt}], \n",
    "    temperature = 0)\n",
    "  return response.choices[0].message.content"
   ],
   "metadata": {
    "collapsed": false,
    "ExecuteTime": {
     "end_time": "2025-02-10T05:05:52.692884700Z",
     "start_time": "2025-02-10T05:05:50.725244900Z"
    }
   },
   "id": "8aaf680c46ac3b1a",
   "execution_count": 2
  },
  {
   "cell_type": "markdown",
   "source": [
    "## Text Summarization and Expansion"
   ],
   "metadata": {
    "collapsed": false
   },
   "id": "40279d048bb8754f"
  },
  {
   "cell_type": "markdown",
   "source": [
    "## Text Transformation"
   ],
   "metadata": {
    "collapsed": false
   },
   "id": "c908ff4daa62df3"
  },
  {
   "cell_type": "markdown",
   "source": [
    "## Text Analysis"
   ],
   "metadata": {
    "collapsed": false
   },
   "id": "f6a9c66ea6bb5da3"
  },
  {
   "cell_type": "markdown",
   "source": [
    "## Code Generation and Explanation"
   ],
   "metadata": {
    "collapsed": false
   },
   "id": "d6288b71f1ba6efd"
  }
 ],
 "metadata": {
  "kernelspec": {
   "display_name": "Python 3",
   "language": "python",
   "name": "python3"
  },
  "language_info": {
   "codemirror_mode": {
    "name": "ipython",
    "version": 2
   },
   "file_extension": ".py",
   "mimetype": "text/x-python",
   "name": "python",
   "nbconvert_exporter": "python",
   "pygments_lexer": "ipython2",
   "version": "2.7.6"
  }
 },
 "nbformat": 4,
 "nbformat_minor": 5
}
