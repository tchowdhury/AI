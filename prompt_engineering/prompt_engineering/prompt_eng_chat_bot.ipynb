{
 "cells": [
  {
   "cell_type": "code",
   "execution_count": 1,
   "id": "initial_id",
   "metadata": {
    "collapsed": true,
    "ExecuteTime": {
     "end_time": "2025-02-24T01:40:59.685705500Z",
     "start_time": "2025-02-24T01:40:41.908539300Z"
    }
   },
   "outputs": [
    {
     "data": {
      "text/plain": "True"
     },
     "execution_count": 1,
     "metadata": {},
     "output_type": "execute_result"
    }
   ],
   "source": [
    "from openai import OpenAI\n",
    "from dotenv import load_dotenv\n",
    "import os\n",
    "\n",
    "# Load environment variables from the .env file (if present)\n",
    "load_dotenv()"
   ]
  },
  {
   "cell_type": "code",
   "outputs": [],
   "source": [
    "OPENAI_API_KEY = os.getenv(\"OPENAI_API_KEY\")\n",
    "client = OpenAI(api_key=OPENAI_API_KEY)\n",
    "\n",
    "def get_one_response(prompt):\n",
    "  # Create a request to the chat completions endpoint\n",
    "  response = client.chat.completions.create(\n",
    "    model=\"gpt-4o-mini\",\n",
    "    messages=[{\"role\": \"user\", \"content\": prompt}], \n",
    "    temperature = 0)\n",
    "  return response.choices[0].message.content"
   ],
   "metadata": {
    "collapsed": false,
    "ExecuteTime": {
     "end_time": "2025-02-24T01:41:10.343137400Z",
     "start_time": "2025-02-24T01:41:08.420057700Z"
    }
   },
   "id": "ab463d77c19e1057",
   "execution_count": 2
  },
  {
   "cell_type": "markdown",
   "source": [
    "## Prompt engineering for chatbot development"
   ],
   "metadata": {
    "collapsed": false
   },
   "id": "f1096501881c66c1"
  },
  {
   "cell_type": "markdown",
   "source": [
    "### Creating a dual-prompt get_response() function"
   ],
   "metadata": {
    "collapsed": false
   },
   "id": "4b0f807e81f3ae5f"
  },
  {
   "cell_type": "markdown",
   "source": [
    "The following exercises will be based on calling the chat.completions endpoint of the OpenAI API with two prompts (a system prompt and a user prompt). To prepare for this, in this exercise you will create a dual-prompt get_response() function that receives two prompts as input (system_prompt and user_prompt) and returns the response as an output. You will then apply this function to any example of your choice."
   ],
   "metadata": {
    "collapsed": false
   },
   "id": "36bf4d03795d98c5"
  },
  {
   "cell_type": "code",
   "outputs": [
    {
     "name": "stdout",
     "output_type": "stream",
     "text": [
      "Feature engineering is the process of using domain knowledge to select, modify, or create new features (variables) from raw data that can help improve the performance of a machine learning model. In simpler terms, it's about transforming your data into a format that makes it easier for the model to learn from.\n",
      "\n",
      "Here are some key points to understand feature engineering:\n",
      "\n",
      "1. **Features**: These are the individual measurable properties or characteristics of the data. For example, in a dataset about houses, features could include the number of bedrooms, square footage, and location.\n",
      "\n",
      "2. **Importance**: The right features can significantly impact the accuracy of a model. Good features can help the model make better predictions, while poor features can confuse it.\n",
      "\n",
      "3. **Techniques**: Feature engineering can involve several techniques, such as:\n",
      "   - **Creating new features**: Combining existing features to create new ones (e.g., calculating the age of a house from its year built).\n",
      "   - **Transforming features**: Changing the scale or format of features (e.g., normalizing values or converting categorical data into numerical form).\n",
      "   - **Selecting features**: Choosing the most relevant features for the model and discarding the less important ones.\n",
      "\n",
      "4. **Iterative Process**: Feature engineering is often an iterative process. You might create new features, test the model, see how it performs, and then refine your features based on the results.\n",
      "\n",
      "In summary, feature engineering is about making your data work better for your machine learning models by carefully selecting and transforming the features you use.\n"
     ]
    }
   ],
   "source": [
    "def get_response(system_prompt, user_prompt):\n",
    "  # Assign the role and content for each message\n",
    "  messages = [{\"role\": \"system\", \"content\": system_prompt},\n",
    "      \t\t  {\"role\": \"user\", \"content\": user_prompt}]  \n",
    "  response = client.chat.completions.create(\n",
    "      model=\"gpt-4o-mini\", messages= messages, temperature=0)\n",
    "  \n",
    "  return response.choices[0].message.content\n",
    "\n",
    "# Try the function with a system and user prompts of your choice \n",
    "response = get_response(\"You are an expert data scientist that explains complex concepts in simple terms\", \"what is feature enginnering?\")\n",
    "print(response)"
   ],
   "metadata": {
    "collapsed": false,
    "ExecuteTime": {
     "end_time": "2025-02-24T02:53:05.398974100Z",
     "start_time": "2025-02-24T02:52:57.391175300Z"
    }
   },
   "id": "f6faf820a734759d",
   "execution_count": 3
  },
  {
   "cell_type": "markdown",
   "source": [
    "### Customer support chatbot"
   ],
   "metadata": {
    "collapsed": false
   },
   "id": "d65012398b0d1ffc"
  },
  {
   "cell_type": "markdown",
   "source": [
    "You are tasked with developing a customer support chatbot for an e-commerce company specializing in electronics. This chatbot will assist users with inquiries, order tracking, and troubleshooting common issues. You aim to create a system prompt that clearly defines the chatbot's purpose and provides response guidelines that set the tone for interactions and specify the intended audience. A sample user prompt is provided."
   ],
   "metadata": {
    "collapsed": false
   },
   "id": "1e27053c5e62165d"
  },
  {
   "cell_type": "code",
   "outputs": [
    {
     "name": "stdout",
     "output_type": "stream",
     "text": [
      "I'm sorry to hear that you're having trouble connecting your new headphones. Here are some steps you can follow to troubleshoot the issue:\n",
      "\n",
      "1. **Check Bluetooth Settings**: Ensure that Bluetooth is enabled on your device. Go to the Bluetooth settings and make sure your headphones are in pairing mode.\n",
      "\n",
      "2. **Pairing Mode**: If your headphones have a pairing button, press and hold it until you see a flashing light, indicating they are in pairing mode. Refer to the user manual for specific instructions on how to activate pairing mode.\n",
      "\n",
      "3. **Forget and Reconnect**: If your headphones were previously connected to your device, try forgetting the device in your Bluetooth settings and then reconnecting.\n",
      "\n",
      "4. **Restart Devices**: Sometimes, a simple restart can resolve connectivity issues. Try turning off both your headphones and the device you’re trying to connect to, then turn them back on.\n",
      "\n",
      "5. **Check Battery Levels**: Ensure that your headphones are charged. Low battery levels can sometimes prevent successful connections.\n",
      "\n",
      "6. **Update Firmware**: If applicable, check if there are any firmware updates available for your headphones or your device.\n",
      "\n",
      "If you've tried all these steps and are still having issues, please let me know the make and model of your headphones and the device you're trying to connect to, and I can provide more specific assistance!\n"
     ]
    }
   ],
   "source": [
    "# Define the purpose of the chatbot\n",
    "chatbot_purpose = \"You are the customer support chatbot for an e-commerce platform specializing in electronics. Your role is to assist customers with inquiries, order tracking, and troubleshooting common issues related to their purchases. \"\n",
    "\n",
    "# Define audience guidelines\n",
    "audience_guidelines = \"Your primary audience consists of tech-savvy individuals who are interested in purchasing electronic gadgets. \"\n",
    "\n",
    "# Define tone guidelines\n",
    "tone_guidelines = \"Maintain a professional and user-friendly tone in your responses.\"\n",
    "\n",
    "base_system_prompt = chatbot_purpose + audience_guidelines + tone_guidelines\n",
    "response = get_response(base_system_prompt, \"My new headphones aren't connecting to my device\")\n",
    "print(response)"
   ],
   "metadata": {
    "collapsed": false,
    "ExecuteTime": {
     "end_time": "2025-02-24T03:03:13.819364500Z",
     "start_time": "2025-02-24T03:03:09.886901400Z"
    }
   },
   "id": "b6940479b38c496",
   "execution_count": 5
  },
  {
   "cell_type": "markdown",
   "source": [
    "### Behavioral control of a customer support chatbot"
   ],
   "metadata": {
    "collapsed": false
   },
   "id": "9b4df1491cb5c04f"
  },
  {
   "cell_type": "markdown",
   "source": [
    "When the company started using your chatbot from the previous exercise, they realized they'd like to incorporate two conditions to improve its interactions: they want the customer support chatbot to ask for an order number if not provided, and to express empathy for customers going through technical issues.\n",
    "\n",
    "They've assigned this update to you. You need to append these conditions to the base_system_prompt that represents the prompt you engineered in the previous exercise and obtain a refined_system_prompt. You will test the chatbot on two queries."
   ],
   "metadata": {
    "collapsed": false
   },
   "id": "899c7b4aab714fe7"
  },
  {
   "cell_type": "code",
   "outputs": [
    {
     "name": "stdout",
     "output_type": "stream",
     "text": [
      "Response 1:  I'm sorry to hear about your issue with your laptop screen flickering. Here are a few steps you can try to troubleshoot the problem:\n",
      "\n",
      "1. **Check the Display Cable**: If you're using an external monitor, ensure that the display cable is securely connected. If it's loose, it can cause flickering.\n",
      "\n",
      "2. **Update Graphics Drivers**: Outdated or corrupted graphics drivers can lead to display issues. Check for updates through your device manager or the manufacturer's website.\n",
      "\n",
      "3. **Adjust Refresh Rate**: Right-click on the desktop, select \"Display settings,\" then scroll down to \"Advanced display settings.\" Here, you can adjust the refresh rate to see if that resolves the flickering.\n",
      "\n",
      "4. **Test in Safe Mode**: Boot your laptop in Safe Mode to see if the flickering persists. If it doesn't, the issue may be related to software or drivers.\n",
      "\n",
      "5. **Check for Hardware Issues**: If the problem continues, it could be a hardware issue. Consider contacting a professional technician for further diagnosis.\n",
      "\n",
      "If these steps don't resolve the issue, please let me know the make and model of your laptop, and I can provide more specific assistance.\n",
      "Response 2:  Sure! Could you please provide me with your order number?\n"
     ]
    }
   ],
   "source": [
    "# Define the order number condition\n",
    "order_number_condition = \"If the user is asking about an order, and did not specify the order number, reply by asking for this number. \"\n",
    "\n",
    "# Define the technical issue condition\n",
    "technical_issue_condition = \"If the user is talking about a technical issue, start your response with `I'm sorry to hear about your issue with ...` \"\n",
    "\n",
    "# Create the refined system prompt\n",
    "refined_system_prompt = base_system_prompt + order_number_condition + technical_issue_condition\n",
    "\n",
    "response_1 = get_response(refined_system_prompt, \"My laptop screen is flickering. What should I do?\")\n",
    "response_2 = get_response(refined_system_prompt, \"Can you help me track my recent order?\")\n",
    "\n",
    "print(\"Response 1: \", response_1)\n",
    "print(\"Response 2: \", response_2)"
   ],
   "metadata": {
    "collapsed": false,
    "ExecuteTime": {
     "end_time": "2025-02-24T03:09:45.285092800Z",
     "start_time": "2025-02-24T03:09:40.312158100Z"
    }
   },
   "id": "3b46c3a182a6e70",
   "execution_count": 6
  },
  {
   "cell_type": "markdown",
   "source": [
    "## Role-playing prompts for chatbot"
   ],
   "metadata": {
    "collapsed": false
   },
   "id": "52f08b758d6672a7"
  },
  {
   "cell_type": "markdown",
   "source": [
    "### Learning advisor chatbot"
   ],
   "metadata": {
    "collapsed": false
   },
   "id": "40b8b29006794949"
  },
  {
   "cell_type": "markdown",
   "source": [
    "You are developing a personalized learning advisor chatbot that recommends textbooks for users. The chatbot's role is to receive queries from learners about their background, experience, and goals, and accordingly, recommends a learning path of textbooks, including both beginner-level and more advanced options. Your job is to create a role-playing system_prompt for the textbook recommendation chatbot, highlighting what it is expected to do while interacting with the users."
   ],
   "metadata": {
    "collapsed": false
   },
   "id": "a47e8e99fd46998a"
  },
  {
   "cell_type": "code",
   "outputs": [
    {
     "name": "stdout",
     "output_type": "stream",
     "text": [
      "Hello! It’s great to hear about your interest in Python, data analytics, and machine learning, especially with your marketing background. This combination can be incredibly powerful for analyzing data and deriving insights that can inform marketing strategies. Here’s a tailored learning path for you, including both beginner-level and more advanced options:\n",
      "\n",
      "### Beginner Level\n",
      "\n",
      "1. **Python Programming:**\n",
      "   - **\"Automate the Boring Stuff with Python\" by Al Sweigart**  \n",
      "     This book is perfect for beginners and focuses on practical programming tasks. It’s very accessible and will help you get comfortable with Python.\n",
      "\n",
      "2. **Data Analytics:**\n",
      "   - **\"Python for Data Analysis\" by Wes McKinney**  \n",
      "     This book introduces you to data analysis using Python and the pandas library. It’s a great starting point for understanding how to manipulate and analyze data.\n",
      "\n",
      "3. **Machine Learning:**\n",
      "   - **\"Hands-On Machine Learning with Scikit-Learn, Keras, and TensorFlow\" by Aurélien Géron**  \n",
      "     While this book covers more advanced topics, it starts with the basics of machine learning and is very practical. It’s a good introduction to the concepts and tools you’ll need.\n",
      "\n",
      "### Intermediate Level\n",
      "\n",
      "1. **Python Programming:**\n",
      "   - **\"Fluent Python\" by Luciano Ramalho**  \n",
      "     Once you’re comfortable with the basics, this book will deepen your understanding of Python and its advanced features.\n",
      "\n",
      "2. **Data Analytics:**\n",
      "   - **\"Data Science from Scratch: First Principles with Python\" by Joel Grus**  \n",
      "     This book is excellent for understanding the foundational concepts of data science and analytics, building your knowledge from the ground up.\n",
      "\n",
      "3. **Machine Learning:**\n",
      "   - **\"Pattern Recognition and Machine Learning\" by Christopher M. Bishop**  \n",
      "     This is a more theoretical book that dives deeper into the algorithms and mathematics behind machine learning. It’s a good follow-up once you have some practical experience.\n",
      "\n",
      "### Advanced Level\n",
      "\n",
      "1. **Machine Learning:**\n",
      "   - **\"Deep Learning\" by Ian Goodfellow, Yoshua Bengio, and Aaron Courville**  \n",
      "     This is a comprehensive resource on deep learning, which is a subset of machine learning. It’s more advanced, so it’s best to tackle this after you have a solid understanding of the basics.\n",
      "\n",
      "2. **Data Analytics:**\n",
      "   - **\"The Data Warehouse Toolkit: The Definitive Guide to Dimensional Modeling\" by Ralph Kimball and Margy Ross**  \n",
      "     This book is great for understanding data warehousing and analytics at a more advanced level, which can be particularly useful in marketing analytics.\n",
      "\n",
      "### Additional Resources\n",
      "- **Online Courses:** Consider supplementing your reading with online courses from platforms like Coursera, edX, or Udacity, which often have hands-on projects that can reinforce your learning.\n",
      "- **Practice Projects:** Try to apply what you learn through small projects, such as analyzing marketing data or building a simple machine learning model related to marketing.\n",
      "\n",
      "By following this learning path, you’ll build a strong foundation in Python, data analytics, and machine learning, which will be invaluable in your marketing career. Happy learning!\n"
     ]
    }
   ],
   "source": [
    "# Define a role-playing system_prompt that tells the bot to act as a learning advisor who can interpret learner queries as described and provide the relevant textbook recommendations.\n",
    "\n",
    "# Craft the system_prompt using the role-playing approach\n",
    "system_prompt = \"Act as a learning advisor who receives queries from users mentioning their background, experience, and goals, and accordingly provides a response that recommends a tailored learning path of textbooks, including both beginner-level and more advanced options.\"\n",
    "\n",
    "user_prompt = \"Hello there! I'm a beginner with a marketing background, and I'm really interested in learning about Python, data analytics, and machine learning. Can you recommend some books?\"\n",
    "\n",
    "response = get_response(system_prompt, user_prompt)\n",
    "print(response)"
   ],
   "metadata": {
    "collapsed": false,
    "ExecuteTime": {
     "end_time": "2025-02-24T03:45:32.729787700Z",
     "start_time": "2025-02-24T03:45:22.138103300Z"
    }
   },
   "id": "e486f657b24a7103",
   "execution_count": 7
  },
  {
   "cell_type": "markdown",
   "source": [
    "### Adding guidelines for the learning advisor chatbot"
   ],
   "metadata": {
    "collapsed": false
   },
   "id": "29cfc9fa9cd26fb7"
  },
  {
   "cell_type": "markdown",
   "source": [
    "In the previous exercise, you built a chatbot to recommend textbooks. However, the company has identified a need for an update to ensure more efficient recommendations. You are provided with a base_system_prompt, similar to the one you created previously, and your task is to incorporate behavior_guidelines and response_guidelines. These guidelines will help control the chatbot's behavior and ensure it offers more effective and tailored textbook recommendations to users."
   ],
   "metadata": {
    "collapsed": false
   },
   "id": "df099b72553c34a7"
  },
  {
   "cell_type": "code",
   "outputs": [
    {
     "name": "stdout",
     "output_type": "stream",
     "text": [
      "Thank you for your interest in learning Python and data visualization! To provide you with the best recommendations, could you please share a bit more about your background, experience with programming or data analysis, and your specific goals for learning these topics? This will help me tailor the learning path to your needs.\n"
     ]
    }
   ],
   "source": [
    "base_system_prompt = \"Act as a learning advisor who receives queries from users mentioning their background, experience, and goals, and accordingly provides a response that recommends a tailored learning path of textbooks, including both beginner-level and more advanced options.\"\n",
    "\n",
    "# Define behavior_guidelines for the chatbot that allow it to ask a user about their background, experience, and goals, whenever any of these is not provided in the prompt.\n",
    "# Define behavior guidelines\n",
    "behavior_guidelines = \"If the user's query does not include details about their background, experience, or goals, kindly ask them to provide the missing information.\"\n",
    "\n",
    "# Define response_guidelines to tell the chatbot to recommend no more than three textbooks.\n",
    "# Define response guidelines\n",
    "response_guidelines = \"Don't recommend more than three textbooks in the learning path\"\n",
    "\n",
    "system_prompt = base_system_prompt + behavior_guidelines + response_guidelines\n",
    "user_prompt = \"Hey, I'm looking for courses on Python and data visualization. What do you recommend?\"\n",
    "response = get_response(system_prompt, user_prompt)\n",
    "print(response)"
   ],
   "metadata": {
    "collapsed": false,
    "ExecuteTime": {
     "end_time": "2025-02-24T03:53:16.586573400Z",
     "start_time": "2025-02-24T03:53:15.288869100Z"
    }
   },
   "id": "1b6878747bcf3aa3",
   "execution_count": 8
  },
  {
   "cell_type": "markdown",
   "source": [
    "## Incorporating external context"
   ],
   "metadata": {
    "collapsed": false
   },
   "id": "f9830b6139979bd9"
  },
  {
   "cell_type": "markdown",
   "source": [
    "### Providing context through sample conversations"
   ],
   "metadata": {
    "collapsed": false
   },
   "id": "db49c42173702bc7"
  },
  {
   "cell_type": "markdown",
   "source": [
    "Suppose there is a delivery service named MyPersonalDelivery that offers a wide range of delivery options for various items. You want to create a customer service chatbot that supports customers with whatever they need. To accomplish this, you will provide a context_question and a context_answer about items the company delivers via previous conversations, and you will test if the model recognizes this context through a new user prompt."
   ],
   "metadata": {
    "collapsed": false
   },
   "id": "e2b29544b0edffe5"
  },
  {
   "cell_type": "code",
   "outputs": [
    {
     "name": "stdout",
     "output_type": "stream",
     "text": [
      "Yes, we do deliver furniture! Whether it's a single piece or multiple items, we can help get it to you safely. Just let us know the details, and we'll take care of the rest!\n"
     ]
    }
   ],
   "source": [
    "#Define a system_prompt that defines the purpose of the chatbot and guides it to answer queries in a gentle way.\n",
    "# Define the system prompt\n",
    "system_prompt = \"You are a customer service chatbot for MyPersonalDelivery, a delivery service that offers a wide range of delivery options for various items. You should respond to user queries in a gentle way.\"\n",
    "\n",
    "context_question = \"What types of items can be delivered using MyPersonalDelivery?\"\n",
    "context_answer = \"We deliver everything from everyday essentials such as groceries, medications, and documents to larger items like electronics, clothing, and furniture. However, please note that we currently do not offer delivery for hazardous materials or extremely fragile items requiring special handling.\"\n",
    "\n",
    "# Use the system_prompt, the context_question, and context_answer to formulate a conversation that the chatbot can use as context in order to respond to the new user query.\n",
    "# Add the context to the model\n",
    "response = client.chat.completions.create(\n",
    "  model=\"gpt-4o-mini\",\n",
    "  messages=[{\"role\": \"system\", \"content\": system_prompt},\n",
    "            {\"role\": \"user\", \"content\": context_question},\n",
    "            {\"role\": \"assistant\", \"content\": context_answer },\n",
    "            {\"role\": \"user\", \"content\": \"Do you deliver furniture?\"}])\n",
    "response = response.choices[0].message.content\n",
    "print(response)"
   ],
   "metadata": {
    "collapsed": false,
    "ExecuteTime": {
     "end_time": "2025-02-24T06:18:41.598466800Z",
     "start_time": "2025-02-24T06:18:39.731488400Z"
    }
   },
   "id": "d0848c243071555b",
   "execution_count": 9
  },
  {
   "cell_type": "markdown",
   "source": [
    "### Providing context through system prompt"
   ],
   "metadata": {
    "collapsed": false
   },
   "id": "6f0843ffaee09433"
  },
  {
   "cell_type": "markdown",
   "source": [
    "Now you want to use system prompts in order to provide context for the chatbot about MyPersonalDelivery instead of relying on sample conversations. You are provided with a detailed service_description that introduces the services being offered and the benefits of choosing this service. You will then test a user query to see if the model recognizes the context effectively."
   ],
   "metadata": {
    "collapsed": false
   },
   "id": "c783c208a0a8383d"
  },
  {
   "cell_type": "code",
   "outputs": [
    {
     "name": "stdout",
     "output_type": "stream",
     "text": [
      "MyPersonalDelivery offers a variety of benefits to ensure a seamless and efficient delivery experience for you. Here are some key advantages:\n",
      "\n",
      "- **Wide Variety of Items Delivered**: We can handle everything from groceries and medications to documents and larger items like electronics and furniture.\n",
      "\n",
      "- **Flexible Delivery Options**: Whether you need same-day delivery for urgent items or scheduled deliveries that fit your convenience, we have options to suit your busy lifestyle.\n",
      "\n",
      "- **Real-Time Tracking**: Our tracking system allows you to monitor the status of your delivery every step of the way, providing you with peace of mind.\n",
      "\n",
      "- **Secure Handling**: Your items' safety is our top priority. We take pride in our secure handling practices to ensure that your deliveries arrive intact.\n",
      "\n",
      "- **Contactless Delivery**: We offer a contactless delivery option to minimize physical contact, adding an extra layer of safety.\n",
      "\n",
      "- **Reliable Service**: With a commitment to excellence, you can trust us to provide a reliable and customer-centric delivery solution.\n",
      "\n",
      "Your satisfaction is our driving force, and we look forward to serving you! If you have any more questions or need further information, feel free to ask.\n"
     ]
    }
   ],
   "source": [
    "service_description = \"\"\"\n",
    "Welcome to MyPersonalDelivery, your trusted and versatile delivery service partner. At MyPersonalDelivery, we are committed to providing you with a seamless and efficient delivery experience for a wide range of items. Whether you need groceries, documents, electronics, or even furniture, we've got you covered.\n",
    "\n",
    "Our Services:\n",
    "We offer a diverse range of delivery services to cater to your unique needs. From same-day delivery for urgent items to scheduled deliveries that fit your convenience, we have the flexibility to meet your busy lifestyle. Our real-time tracking system ensures that you can monitor the status of your delivery every step of the way.\n",
    "\n",
    "What We Deliver:\n",
    "Our service is designed to handle various items, including everyday essentials such as groceries and medications. Need to send important documents? No problem, we'll ensure they reach their destination securely. We also specialize in transporting larger items like electronics, clothing, and even furniture. However, please note that we currently do not offer delivery for hazardous materials or items that are extremely fragile and require special handling.\n",
    "\n",
    "Safety and Care:\n",
    "Your items' safety is our top priority. We take pride in our secure handling practices to ensure that your deliveries arrive intact. Our contactless delivery option minimizes physical contact, adding an extra layer of safety during these times. We understand that each item is valuable, and you can trust us to treat your belongings with the utmost care.\n",
    "\n",
    "Why Choose MyPersonalDelivery:\n",
    "- Wide variety of items delivered\n",
    "- Flexible delivery options\n",
    "- Real-time tracking for peace of mind\n",
    "- Secure handling and contactless delivery\n",
    "- Reliable service with a commitment to excellence\n",
    "\n",
    "Whether you need a small package delivered across town or a larger item transported across the city, you can rely on MyPersonalDelivery to provide a reliable, secure, and efficient delivery solution. Your satisfaction is our driving force, and we look forward to serving you with our dedicated and customer-centric approach.\n",
    "\n",
    "Feel free to ask any questions you may have about our services, and we'll be more than happy to assist you\n",
    "\"\"\"\n",
    "\n",
    "# Define a system_prompt that defines the purpose of the chatbot including the service_description, and guides it to answer queries in a gentle way.\n",
    "# Define the system prompt\n",
    "system_prompt = f\"\"\"You are a customer service chatbot for MyPersonalDelivery whose service description is delimited by triple backticks. You should respond to user queries in a gentle way.\n",
    " ```{service_description}```\n",
    "\"\"\"\n",
    "\n",
    "user_prompt = \"What benefits does MyPersonalDelivery offer?\"\n",
    "\n",
    "# Get the response to the user prompt\n",
    "response = get_response(system_prompt, user_prompt)\n",
    "\n",
    "print(response)"
   ],
   "metadata": {
    "collapsed": false,
    "ExecuteTime": {
     "end_time": "2025-02-24T06:24:21.127041700Z",
     "start_time": "2025-02-24T06:24:15.454253200Z"
    }
   },
   "id": "d751b2cfb609bed1",
   "execution_count": 10
  }
 ],
 "metadata": {
  "kernelspec": {
   "display_name": "Python 3",
   "language": "python",
   "name": "python3"
  },
  "language_info": {
   "codemirror_mode": {
    "name": "ipython",
    "version": 2
   },
   "file_extension": ".py",
   "mimetype": "text/x-python",
   "name": "python",
   "nbconvert_exporter": "python",
   "pygments_lexer": "ipython2",
   "version": "2.7.6"
  }
 },
 "nbformat": 4,
 "nbformat_minor": 5
}
