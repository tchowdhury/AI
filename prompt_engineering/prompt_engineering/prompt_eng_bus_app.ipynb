{
 "cells": [
  {
   "cell_type": "code",
   "execution_count": 1,
   "id": "initial_id",
   "metadata": {
    "collapsed": true,
    "ExecuteTime": {
     "end_time": "2025-02-23T23:34:27.621841100Z",
     "start_time": "2025-02-23T23:34:01.752841500Z"
    }
   },
   "outputs": [
    {
     "data": {
      "text/plain": "True"
     },
     "execution_count": 1,
     "metadata": {},
     "output_type": "execute_result"
    }
   ],
   "source": [
    "from openai import OpenAI\n",
    "from dotenv import load_dotenv\n",
    "import os\n",
    "\n",
    "# Load environment variables from the .env file (if present)\n",
    "load_dotenv()"
   ]
  },
  {
   "cell_type": "code",
   "outputs": [],
   "source": [
    "OPENAI_API_KEY = os.getenv(\"OPENAI_API_KEY\")\n",
    "client = OpenAI(api_key=OPENAI_API_KEY)\n",
    "\n",
    "def get_response(prompt):\n",
    "  # Create a request to the chat completions endpoint\n",
    "  response = client.chat.completions.create(\n",
    "    model=\"gpt-4o-mini\",\n",
    "    messages=[{\"role\": \"user\", \"content\": prompt}], \n",
    "    temperature = 0)\n",
    "  return response.choices[0].message.content"
   ],
   "metadata": {
    "collapsed": false,
    "ExecuteTime": {
     "end_time": "2025-02-23T23:37:59.673694200Z",
     "start_time": "2025-02-23T23:37:57.373737200Z"
    }
   },
   "id": "8aaf680c46ac3b1a",
   "execution_count": 2
  },
  {
   "cell_type": "markdown",
   "source": [
    "## Text Summarization and Expansion"
   ],
   "metadata": {
    "collapsed": false
   },
   "id": "40279d048bb8754f"
  },
  {
   "cell_type": "markdown",
   "source": [
    "### Market research report summarization"
   ],
   "metadata": {
    "collapsed": false
   },
   "id": "cd2089b005a1b4b4"
  },
  {
   "cell_type": "markdown",
   "source": [
    "A market research firm needs to analyze and summarize lengthy reports on market trends and customer behavior. They want to know how AI and data privacy are shaping the market and how they're affecting customers. You are provided with a report string about markets trends and how they're affecting customer behavior. Your goal is to craft a prompt to summarize it while focusing on aspects related to AI and data privacy to see their effect on customers."
   ],
   "metadata": {
    "collapsed": false
   },
   "id": "336b499a136b7d05"
  },
  {
   "cell_type": "code",
   "outputs": [
    {
     "name": "stdout",
     "output_type": "stream",
     "text": [
      "Summarized report: \n",
      " The report highlights the significant impact of Artificial Intelligence (AI) on customer service and engagement, with businesses increasingly utilizing chatbots and predictive analytics to enhance customer interactions. However, the rise of AI also raises concerns regarding data privacy, particularly in light of regulations like GDPR and CCPA, which compel companies to handle customer data responsibly. Strengthening cybersecurity measures is emphasized as essential for protecting customer information from potential breaches. As businesses adapt to evolving customer demands, they must prioritize compliance with data privacy regulations while leveraging AI for personalization. Ultimately, a focus on data security, alongside innovative customer engagement strategies, is crucial for maintaining competitiveness in the market.\n"
     ]
    }
   ],
   "source": [
    "# Craft a prompt that summarizes the report (formatted using f-string) in maximum five sentences, while focusing on aspects related to AI and data privacy\n",
    "report = \"\"\"\n",
    "Title: Market Trends and Customer Behavior Analysis\n",
    "\n",
    "Understanding customer behavior is vital for businesses to remain competitive and relevant in today's dynamic market. This report explores recent trends and shifts in customer behavior, focusing on key drivers of change. The insights aim to assist businesses in making informed decisions and adapting strategies to meet evolving customer demands.\n",
    "\n",
    "1. Introduction:\n",
    "\n",
    "1.1 Background:\n",
    "The analysis of customer behavior has evolved significantly due to technological advancements, data analytics, and changing consumer preferences. To stay competitive, businesses must continuously monitor and adapt to these shifting trends.\n",
    "\n",
    "1.2 Objective:\n",
    "This report provides a comprehensive overview of research trends and changes in customer behavior, with a particular focus on the following key areas:\n",
    "\n",
    "2. AI and Data Privacy:\n",
    "\n",
    "Artificial Intelligence (AI) is transforming customer service and engagement. Companies are increasingly implementing chatbots and virtual assistants to automate customer support. Predictive analytics, powered by AI, allows businesses to forecast customer behavior, making informed decisions. However, the growing concern for data privacy, spurred by regulations like GDPR and CCPA, is impacting how companies handle customer data. Strengthening cybersecurity measures is crucial to protect customer data from cyber threats and breaches.\n",
    "\n",
    "3. E-commerce and Digital Transformation:\n",
    "\n",
    "E-commerce has experienced significant growth, accelerated by the COVID-19 pandemic. Key trends include a shift towards mobile online shopping, the integration of shopping features into social media platforms (social commerce), and the use of augmented reality (AR) and virtual reality (VR) for immersive shopping experiences.\n",
    "\n",
    "4. Personalization and Customer Experience:\n",
    "\n",
    "Customers now expect highly personalized experiences, driving the emergence of AI-driven personalization. Omni-channel experiences that seamlessly connect online and offline interactions are increasingly important. Voice commerce, facilitated by voice-activated devices like smart speakers, is also on the rise.\n",
    "\n",
    "5. Sustainability and Ethical Consumption:\n",
    "\n",
    "Consumer awareness of environmental and ethical issues is influencing buying habits. This trend is reflected in the growing demand for eco-friendly products that are sustainable, recyclable, and biodegradable. Consumers are also favoring brands that demonstrate responsible sourcing and ethical production practices.\n",
    "\n",
    "6. Mobile-First Approach:\n",
    "\n",
    "The widespread use of smartphones has transformed customer-business interactions. As a result, companies are heavily investing in mobile apps to provide convenience and enhance engagement. Mobile payments, including contactless methods and digital wallets, are gaining popularity.\n",
    "\n",
    "7. Conclusion:\n",
    "\n",
    "To remain competitive in today's business landscape, organizations must closely monitor research trends and changes in customer behavior. Adaptation, innovation, and a customer-centric approach are key to success. Businesses should prioritize personalized experiences, sustainable practices, mobile accessibility, and data security to meet evolving customer demands.\n",
    "\n",
    "8. Recommendations:\n",
    "\n",
    "Invest in data analytics and AI to drive personalization and gain deeper customer insights.\n",
    "Embrace sustainable and ethical practices to align with consumer values and preferences.\n",
    "Prioritize the development of mobile experiences and seamless omni-channel engagement.\n",
    "Ensure strict compliance with data privacy regulations and continuously enhance cybersecurity measures to safeguard customer data.\n",
    "\"\"\"\n",
    "\n",
    "# Craft a prompt to summarize the report\n",
    "prompt = f\"\"\"Summarize the text delimited by triple backticks in five sentence, focussing particularly on AI and data privacy:\n",
    "          ```{report}```\"\"\"\n",
    "\n",
    "response = get_response(prompt)\n",
    "\n",
    "print(\"Summarized report: \\n\", response)"
   ],
   "metadata": {
    "collapsed": false,
    "ExecuteTime": {
     "end_time": "2025-02-23T23:45:31.698450400Z",
     "start_time": "2025-02-23T23:45:27.904186800Z"
    }
   },
   "id": "75e6124e69525e66",
   "execution_count": 3
  },
  {
   "cell_type": "markdown",
   "source": [
    "### Product features summarization"
   ],
   "metadata": {
    "collapsed": false
   },
   "id": "e2a0db470dc750eb"
  },
  {
   "cell_type": "markdown",
   "source": [
    "An electronics review website wants to provide concise and easy-to-read summaries of product features for its readers, allowing them to compare and evaluate different products quickly. The review website wants to generate bullet-point summaries, and, to start with, they want you to craft a prompt that summarizes a product_description for a smartphone."
   ],
   "metadata": {
    "collapsed": false
   },
   "id": "d70832874aefd33b"
  },
  {
   "cell_type": "code",
   "outputs": [
    {
     "name": "stdout",
     "output_type": "stream",
     "text": [
      "Original description: \n",
      " \"\n",
      "The Smartphone XYZ-5000 is a device packed with innovative features to enhance the user experience. Its sleek design and vibrant display make it visually appealing, while the powerful octa-core processor ensures smooth performance and multitasking capabilities.\n",
      "The XYZ-5000 boasts a high-resolution triple-camera system, combining a 48MP primary lens, a 12MP ultra-wide lens, and a 5MP depth sensor, enabling users to capture stunning photos and videos in various shooting scenarios. The device also supports 4K video recording and comes with advanced image stabilization features.\n",
      "With a generous 128GB of internal storage, expandable up to 512GB via microSD, users can store a vast collection of media files and apps without worrying about running out of space. The smartphone runs on the latest Android OS and offers seamless integration with various Google services.\n",
      "In terms of security, the XYZ-5000 features a reliable fingerprint sensor and facial recognition technology for quick and secure unlocking. Additionally, it supports NFC for contactless payments and has a dedicated AI-powered virtual assistant to simplify daily tasks.\n",
      "The device's long-lasting 4000mAh battery ensures all-day usage, and it supports fast charging, providing hours of power with just a few minutes of charging. The XYZ-5000 is also water and dust resistant, giving users peace of mind in various environments.\n",
      "Overall, the Smartphone XYZ-5000 offers a fantastic combination of style, performance, and advanced features, making it an excellent choice for tech enthusiasts and everyday users alike.\n",
      "\n",
      "Summarized description: \n",
      " - The Smartphone XYZ-5000 features a sleek design, vibrant display, and a powerful octa-core processor for smooth performance and multitasking.\n",
      "- It includes a high-resolution triple-camera system (48MP, 12MP, and 5MP) with 4K video recording and advanced image stabilization.\n",
      "- The device offers 128GB of internal storage, expandable to 512GB via microSD, and runs on the latest Android OS with Google services integration.\n",
      "- Security features include a fingerprint sensor, facial recognition, NFC for contactless payments, and an AI-powered virtual assistant.\n",
      "- The 4000mAh battery supports fast charging, ensuring all-day usage, and the smartphone is water and dust resistant for added durability.\n"
     ]
    }
   ],
   "source": [
    "# Craft a prompt that summarizes the product_description in no more than five bullet points.\n",
    "\n",
    "product_description = \"\"\"\"\n",
    "The Smartphone XYZ-5000 is a device packed with innovative features to enhance the user experience. Its sleek design and vibrant display make it visually appealing, while the powerful octa-core processor ensures smooth performance and multitasking capabilities.\n",
    "The XYZ-5000 boasts a high-resolution triple-camera system, combining a 48MP primary lens, a 12MP ultra-wide lens, and a 5MP depth sensor, enabling users to capture stunning photos and videos in various shooting scenarios. The device also supports 4K video recording and comes with advanced image stabilization features.\n",
    "With a generous 128GB of internal storage, expandable up to 512GB via microSD, users can store a vast collection of media files and apps without worrying about running out of space. The smartphone runs on the latest Android OS and offers seamless integration with various Google services.\n",
    "In terms of security, the XYZ-5000 features a reliable fingerprint sensor and facial recognition technology for quick and secure unlocking. Additionally, it supports NFC for contactless payments and has a dedicated AI-powered virtual assistant to simplify daily tasks.\n",
    "The device's long-lasting 4000mAh battery ensures all-day usage, and it supports fast charging, providing hours of power with just a few minutes of charging. The XYZ-5000 is also water and dust resistant, giving users peace of mind in various environments.\n",
    "Overall, the Smartphone XYZ-5000 offers a fantastic combination of style, performance, and advanced features, making it an excellent choice for tech enthusiasts and everyday users alike.\n",
    "\"\"\"\n",
    "\n",
    "# Craft a prompt to summarize the product description\n",
    "prompt =  f\"\"\"Summarize the text delimited by triple backticks, in no more than five bullet points:\n",
    "          ```{product_description}```\"\"\"\n",
    "\n",
    "response = get_response(prompt)\n",
    "\n",
    "print(\"Original description: \\n\", product_description)\n",
    "print(\"Summarized description: \\n\", response)"
   ],
   "metadata": {
    "collapsed": false,
    "ExecuteTime": {
     "end_time": "2025-02-23T23:51:44.179597200Z",
     "start_time": "2025-02-23T23:51:41.583926Z"
    }
   },
   "id": "aaf2f3e319b6979b",
   "execution_count": 5
  },
  {
   "cell_type": "markdown",
   "source": [
    "### Product description expansion"
   ],
   "metadata": {
    "collapsed": false
   },
   "id": "79da5a2922575403"
  },
  {
   "cell_type": "markdown",
   "source": [
    "As you continue your work on the electronics review website, you've come across some products that are already summarized but lack a comprehensive description. Your task now is to expand these concise product descriptions into detailed narratives, ensuring that each product has both a full description and a bulleted summary for easy comparison. The complete description should effectively capture the product's unique features, benefits, and potential applications. You will apply your first prompt on a smart home security camera's product description."
   ],
   "metadata": {
    "collapsed": false
   },
   "id": "12a6de0331246440"
  },
  {
   "cell_type": "code",
   "outputs": [
    {
     "name": "stdout",
     "output_type": "stream",
     "text": [
      "Original description: \n",
      " \n",
      "Product: \"Smart Home Security Camera\"\n",
      "- High-tech security camera with night vision and motion detection.\n",
      "- Easy setup and remote monitoring.\n",
      "- Two-way audio communication for real-time interaction.\n",
      "- Mobile app integration for convenient control and alerts.\n",
      "- Weather-resistant design for both indoor and outdoor use.\n",
      "- Smart AI algorithms for advanced person and object detection.\n",
      "- Cloud storage and local backup options for recorded footage.\n",
      "- Infrared LEDs for clear imaging even in complete darkness.\n",
      "- Customizable motion zones to focus on specific areas.\n",
      "- Compatibility with voice assistants for hands-free control.\n",
      "\n",
      "Expanded description: \n",
      " The \"Smart Home Security Camera\" is an advanced surveillance solution designed to enhance the safety and security of your home or business. Featuring high-tech capabilities such as night vision and motion detection, this camera ensures comprehensive monitoring around the clock, even in low-light conditions, thanks to its infrared LEDs. The device boasts an easy setup process and allows for remote monitoring through a user-friendly mobile app, enabling users to receive real-time alerts and control the camera from anywhere. Its two-way audio communication feature facilitates immediate interaction, making it ideal for monitoring pets or communicating with visitors. Built to withstand various weather conditions, this camera is suitable for both indoor and outdoor applications. The integration of smart AI algorithms enhances its functionality by providing advanced person and object detection, while customizable motion zones allow users to focus on specific areas of interest. Additionally, the camera offers flexible storage options, including cloud storage and local backup for recorded footage, ensuring that critical evidence is always accessible. With compatibility for voice assistants, this security camera not only provides peace of mind but also integrates seamlessly into your smart home ecosystem, making it a versatile choice for modern security needs.\n"
     ]
    }
   ],
   "source": [
    "# Craft a prompt that expands the product_description pre-loaded string, and writes a one paragraph comprehensive overview capturing the key information of the product: unique features, benefits, and potential applications.\n",
    "\n",
    "product_description = \"\"\"\n",
    "Product: \"Smart Home Security Camera\"\n",
    "- High-tech security camera with night vision and motion detection.\n",
    "- Easy setup and remote monitoring.\n",
    "- Two-way audio communication for real-time interaction.\n",
    "- Mobile app integration for convenient control and alerts.\n",
    "- Weather-resistant design for both indoor and outdoor use.\n",
    "- Smart AI algorithms for advanced person and object detection.\n",
    "- Cloud storage and local backup options for recorded footage.\n",
    "- Infrared LEDs for clear imaging even in complete darkness.\n",
    "- Customizable motion zones to focus on specific areas.\n",
    "- Compatibility with voice assistants for hands-free control.\n",
    "\"\"\"\n",
    "\n",
    "# Craft a prompt to expand the product's description\n",
    "prompt = f\"\"\"Expand the product description for Smart Home Security Camera delimited by triple backticks to provide one paragraph comprehensive overview of its unique features, benefits, and potential applications. Use a professional tone.\n",
    "  ```{product_description}```\n",
    "\"\"\"\n",
    "\n",
    "response = get_response(prompt)\n",
    "\n",
    "print(\"Original description: \\n\", product_description)\n",
    "print(\"Expanded description: \\n\", response)"
   ],
   "metadata": {
    "collapsed": false,
    "ExecuteTime": {
     "end_time": "2025-02-23T23:59:03.889645700Z",
     "start_time": "2025-02-23T23:58:56.232685700Z"
    }
   },
   "id": "9d3ad33a6e06269e",
   "execution_count": 6
  },
  {
   "cell_type": "markdown",
   "source": [
    "## Text Transformation"
   ],
   "metadata": {
    "collapsed": false
   },
   "id": "c908ff4daa62df3"
  },
  {
   "cell_type": "markdown",
   "source": [
    "### Translation for multilingual communication"
   ],
   "metadata": {
    "collapsed": false
   },
   "id": "70d32519fec2698a"
  },
  {
   "cell_type": "markdown",
   "source": [
    "A multinational company wants to expand its reach to more international markets. They need a language translation solution to convert their product descriptions and marketing materials into multiple languages. These will then be verified before being published.\n",
    "\n",
    "Your task is to design a prompt that translates text from one language to multiple other languages, facilitating effective communication with customers worldwide. You will apply your prompt on a provided marketing_message that introduces their latest collection of premium leather handbags."
   ],
   "metadata": {
    "collapsed": false
   },
   "id": "2b86da2a54522eef"
  },
  {
   "cell_type": "code",
   "outputs": [
    {
     "name": "stdout",
     "output_type": "stream",
     "text": [
      "English: \n",
      "Introducing our latest collection of premium leather handbags. Each bag is meticulously crafted using the finest leather, ensuring durability and elegance. With a variety of designs and colors, our handbags are perfect for any occasion. Shop now and experience the epitome of style and quality.\n",
      "\n",
      "Sure! Here is the translation of the provided text into French, Spanish, and Japanese:\n",
      "\n",
      "**French:**\n",
      "```\n",
      "Nous vous présentons notre dernière collection de sacs à main en cuir haut de gamme. Chaque sac est soigneusement fabriqué à partir du meilleur cuir, garantissant durabilité et élégance. Avec une variété de designs et de couleurs, nos sacs à main sont parfaits pour toutes les occasions. Achetez maintenant et découvrez l'apogée du style et de la qualité.\n",
      "```\n",
      "\n",
      "**Spanish:**\n",
      "```\n",
      "Presentamos nuestra última colección de bolsos de cuero premium. Cada bolso está meticulosamente elaborado con el mejor cuero, asegurando durabilidad y elegancia. Con una variedad de diseños y colores, nuestros bolsos son perfectos para cualquier ocasión. Compra ahora y experimenta la esencia del estilo y la calidad.\n",
      "```\n",
      "\n",
      "**Japanese:**\n",
      "```\n",
      "最新のプレミアムレザーのハンドバッグコレクションをご紹介します。各バッグは最高級のレザーを使用して丁寧に作られており、耐久性とエleganceを保証します。さまざまなデザインと色が揃ったハンドバッグは、あらゆる場面にぴったりです。今すぐお買い物をして、スタイルと品質の極みを体験してください。\n",
      "```\n"
     ]
    }
   ],
   "source": [
    "# Craft a prompt that translates the marketing_message from English to French, Spanish, and Japanese.\n",
    "\n",
    "marketing_message = \"\"\"\n",
    "Introducing our latest collection of premium leather handbags. Each bag is meticulously crafted using the finest leather, ensuring durability and elegance. With a variety of designs and colors, our handbags are perfect for any occasion. Shop now and experience the epitome of style and quality.\n",
    "\"\"\"\n",
    "\n",
    "# Craft a prompt that translates\n",
    "prompt =  f\"\"\"Translate the English text delimited by triple backticks to French, Spanish, and Japanese:```{marketing_message}```\"\"\"\n",
    "\n",
    " \n",
    "response = get_response(prompt)\n",
    "\n",
    "print(\"English:\", marketing_message)\n",
    "print(response)"
   ],
   "metadata": {
    "collapsed": false,
    "ExecuteTime": {
     "end_time": "2025-02-24T00:09:03.466689100Z",
     "start_time": "2025-02-24T00:08:59.191217Z"
    }
   },
   "id": "8d9b75f0ae22efbf",
   "execution_count": 7
  },
  {
   "cell_type": "markdown",
   "source": [
    "### Tone adjustment for email marketing"
   ],
   "metadata": {
    "collapsed": false
   },
   "id": "c5cc4e040f3d72ce"
  },
  {
   "cell_type": "markdown",
   "source": [
    "An e-commerce company regularly conducts email marketing campaigns to promote its products, inform customers about new arrivals, and offer exclusive deals. The company has a hypothesis that its current strategy is too informal and wants to test out how tone adjustment to their emails could help boost customer engagement.\n",
    "\n",
    "Your task is to craft a prompt that can effectively transform the tone of marketing emails. You will apply your prompt on the sample_email provided."
   ],
   "metadata": {
    "collapsed": false
   },
   "id": "2fd728950f44e685"
  },
  {
   "cell_type": "code",
   "outputs": [
    {
     "name": "stdout",
     "output_type": "stream",
     "text": [
      "Before transformation: \n",
      " \n",
      "Subject: Check out our latest products!\n",
      "\n",
      "Dear Customer,\n",
      "\n",
      "We are excited to introduce our latest product line that includes a wide range of items to suit your needs. Whether you're looking for electronics, home appliances, or fashion accessories, we have it all!\n",
      "\n",
      "Hurry and visit our website to explore the fantastic deals and discounts we have for you. Don't miss out on the opportunity to get the best products at unbeatable prices.\n",
      "\n",
      "Thank you for being a valued customer, and we look forward to serving you soon!\n",
      "\n",
      "Best regards,\n",
      "The Marketing Team\n",
      "\n",
      "After transformation: \n",
      " ```\n",
      "Subject: Discover Our Exciting New Product Line!\n",
      "\n",
      "Dear Valued Customer,\n",
      "\n",
      "We hope this message finds you well! We are thrilled to share the launch of our latest product line, thoughtfully curated to meet your diverse needs. From cutting-edge electronics to stylish home appliances and trendy fashion accessories, we have something for everyone.\n",
      "\n",
      "We invite you to visit our website and explore the fantastic deals and exclusive discounts available just for you. This is a wonderful opportunity to find high-quality products at exceptional prices that you won’t want to miss!\n",
      "\n",
      "Thank you for being a cherished part of our community. We are committed to providing you with the best shopping experience and look forward to serving you soon!\n",
      "\n",
      "Warm regards,  \n",
      "The Marketing Team\n",
      "```\n"
     ]
    }
   ],
   "source": [
    "# Craft a prompt that transforms the sample_email by changing its tone to be professional, positive, and user-centric.\n",
    "\n",
    "sample_email = \"\"\"\n",
    "Subject: Check out our latest products!\n",
    "\n",
    "Dear Customer,\n",
    "\n",
    "We are excited to introduce our latest product line that includes a wide range of items to suit your needs. Whether you're looking for electronics, home appliances, or fashion accessories, we have it all!\n",
    "\n",
    "Hurry and visit our website to explore the fantastic deals and discounts we have for you. Don't miss out on the opportunity to get the best products at unbeatable prices.\n",
    "\n",
    "Thank you for being a valued customer, and we look forward to serving you soon!\n",
    "\n",
    "Best regards,\n",
    "The Marketing Team\n",
    "\"\"\"\n",
    "\n",
    "# Craft a prompt to change the email's tone\n",
    "prompt = f\"\"\"Write the email delimited by triple backticks using a professional, positive, and user-centric tone:```{sample_email}```\"\"\"\n",
    "\n",
    "response = get_response(prompt)\n",
    "\n",
    "print(\"Before transformation: \\n\", sample_email)\n",
    "print(\"After transformation: \\n\", response)"
   ],
   "metadata": {
    "collapsed": false,
    "ExecuteTime": {
     "end_time": "2025-02-24T00:14:08.284925200Z",
     "start_time": "2025-02-24T00:14:06.117987Z"
    }
   },
   "id": "d403ebfae66b3997",
   "execution_count": 9
  },
  {
   "cell_type": "markdown",
   "source": [
    "### Writing improvement"
   ],
   "metadata": {
    "collapsed": false
   },
   "id": "e2fdc8da4e5c23b8"
  },
  {
   "cell_type": "markdown",
   "source": [
    "A popular online community relies on user-generated content to thrive. Users frequently contribute reviews, articles, and comments, but the quality of these contributions varies. To elevate the overall experience for its members, the community aims to enhance user-generated texts. This includes fixing grammar errors and refining writing tones to create a more polished and engaging environment for all users. Your task is to build a multi-step prompt that proofreads and adjusts the tone of a given text"
   ],
   "metadata": {
    "collapsed": false
   },
   "id": "af6e76c6c3df272a"
  },
  {
   "cell_type": "code",
   "outputs": [
    {
     "name": "stdout",
     "output_type": "stream",
     "text": [
      "Before transformation:\n",
      " \n",
      "Hey guys, wanna know a cool trick? Here's how u can up your productivity game! First, download this awesome app, it's like the best thing ever! Then, just start using it and u'll see the difference. Its super easy and fun, trust me! So, what are u waiting for? Try it out now!\n",
      "\n",
      "After transformation:\n",
      " Sure! Here’s the transformed text following your instructions:\n",
      "\n",
      "**Step 1 - Proofread:**\n",
      "\n",
      "```\n",
      "Hey guys, want to know a cool trick? Here's how you can up your productivity game! First, download this awesome app; it's like the best thing ever! Then, just start using it, and you'll see the difference. It's super easy and fun, trust me! So, what are you waiting for? Try it out now!\n",
      "```\n",
      "\n",
      "**Step 2 - Change the tone to be formal and friendly:**\n",
      "\n",
      "```\n",
      "Hello everyone! Would you like to learn a helpful tip? Here’s how you can enhance your productivity. First, I recommend downloading this excellent application; it truly is one of the best tools available! After that, simply begin using it, and you will notice a significant difference. It is very user-friendly and enjoyable, I assure you! So, what are you waiting for? Give it a try today!\n",
      "```\n"
     ]
    }
   ],
   "source": [
    "# Craft a multi-step prompt that first proofreads the text without changing its structure, and then adjusts its tone to be formal and friendly\n",
    "\n",
    "text = \"\"\"\n",
    "Hey guys, wanna know a cool trick? Here's how u can up your productivity game! First, download this awesome app, it's like the best thing ever! Then, just start using it and u'll see the difference. Its super easy and fun, trust me! So, what are u waiting for? Try it out now!\n",
    "\"\"\"\n",
    "\n",
    "# Craft a prompt to transform the text\n",
    "prompt = f\"\"\"Transform the text delimited by triple backticks with the following two steps:\n",
    "             Step 1 - Proofread it without changing its structure\n",
    "             Step 2 - Change the tone to be formal and friendly           \n",
    "             ```{text}```\"\"\"\n",
    "\n",
    "response = get_response(prompt)\n",
    "\n",
    "print(\"Before transformation:\\n\", text)\n",
    "print(\"After transformation:\\n\", response)"
   ],
   "metadata": {
    "collapsed": false,
    "ExecuteTime": {
     "end_time": "2025-02-24T00:18:35.843907Z",
     "start_time": "2025-02-24T00:18:32.352143900Z"
    }
   },
   "id": "fdf1abd3855ce7d1",
   "execution_count": 10
  },
  {
   "cell_type": "markdown",
   "source": [
    "## Text Analysis"
   ],
   "metadata": {
    "collapsed": false
   },
   "id": "f6a9c66ea6bb5da3"
  },
  {
   "cell_type": "markdown",
   "source": [
    "### Customer support ticket routing"
   ],
   "metadata": {
    "collapsed": false
   },
   "id": "37347e2166c93725"
  },
  {
   "cell_type": "markdown",
   "source": [
    "A large customer support team receives many tickets related to different business areas, such as technical issues, billing inquiries, and product feedback. Your task is to create a prompt that automatically classifies incoming tickets into these three groups and routes them to the appropriate support specialists, reducing response times and enhancing customer satisfaction. You will test your prompt on a provided sample ticket."
   ],
   "metadata": {
    "collapsed": false
   },
   "id": "9b6406feba7068f9"
  },
  {
   "cell_type": "code",
   "outputs": [
    {
     "name": "stdout",
     "output_type": "stream",
     "text": [
      "Ticket:  \n",
      "Subject: Urgent - Login Error\n",
      "\n",
      "Hi Support Team,\n",
      "\n",
      "I'm having trouble accessing my account with the username \"example_user.\" Every time I try to log in, I encounter an error message. I've already attempted to reset my password, but the issue persists. I need to resolve this problem urgently, as I have pending tasks that require immediate attention.\n",
      "\n",
      "Please investigate and assist promptly.\n",
      "\n",
      "Thanks,\n",
      "John.\n",
      "\n",
      "Class:  technical issue\n"
     ]
    }
   ],
   "source": [
    "# Craft a prompt that classifies the ticket C, without providing anything else in the response.\n",
    "\n",
    "ticket = \"\"\"\n",
    "Subject: Urgent - Login Error\n",
    "\n",
    "Hi Support Team,\n",
    "\n",
    "I'm having trouble accessing my account with the username \"example_user.\" Every time I try to log in, I encounter an error message. I've already attempted to reset my password, but the issue persists. I need to resolve this problem urgently, as I have pending tasks that require immediate attention.\n",
    "\n",
    "Please investigate and assist promptly.\n",
    "\n",
    "Thanks,\n",
    "John.\n",
    "\"\"\"\n",
    "\n",
    "# Craft a prompt to classify the ticket\n",
    "prompt = f\"\"\"Classify the ticket delimited by triple backticks as technical issue, billing inquiry, or product feedback. \n",
    "              Your response should just contain the class and nothing else.\n",
    "              ```{ticket}```\"\"\"\n",
    "\n",
    "response = get_response(prompt)\n",
    "\n",
    "print(\"Ticket: \", ticket)\n",
    "print(\"Class: \", response)"
   ],
   "metadata": {
    "collapsed": false,
    "ExecuteTime": {
     "end_time": "2025-02-24T01:01:50.340149300Z",
     "start_time": "2025-02-24T01:01:49.858684Z"
    }
   },
   "id": "8f84647fadf16324",
   "execution_count": 12
  },
  {
   "cell_type": "markdown",
   "source": [
    "### Customer support ticket analysis"
   ],
   "metadata": {
    "collapsed": false
   },
   "id": "b0cbb7235c74bf19"
  },
  {
   "cell_type": "markdown",
   "source": [
    "The customer support team receive tickets through various channels, such as email, chat, and social media. The company wants to automatically extract key entities to categorize and prioritize the tickets appropriately. Your job is to craft a few-shot prompt that helps them achieve that.\n",
    "\n",
    "You have three sample tickets (ticket_1, ticket_2, and ticket_3) and their corresponding entities (entities_1, entities_2, and entities_3) to inform the model on what to look for and how to display it. You need the model to extract entities from the new ticket_4 string."
   ],
   "metadata": {
    "collapsed": false
   },
   "id": "5e93944216880bbf"
  },
  {
   "cell_type": "code",
   "outputs": [
    {
     "name": "stdout",
     "output_type": "stream",
     "text": [
      "Ticket: \n",
      " Greetings, I am facing technical difficulties with your software, ABC Editor. My name is Sarah Lee, and I recently upgraded to the latest version. However, whenever I try to save my work, the software crashes. Can you please help me resolve this problem?\n",
      "Entities: \n",
      " * Customer Details:\n",
      "  - Name: Sarah Lee\n",
      "* Product/Service Mentions:\n",
      "  - Product: ABC Editor (software)\n"
     ]
    }
   ],
   "source": [
    "# Craft a few-shot prompt that uses three tickets and corresponding entities, to extract entities from the new ticket ticket_4.\n",
    "\n",
    "ticket_1 = \"Hi there! My name is John Smith, and I am experiencing issues with your premium software, XYZ Pro. My license key is ABC12345. I purchased it last week, but it's not activating properly on my computer.\"\n",
    "ticket_2 = \"Dear support team, I am writing to inquire about the delivery status of my order. My name is Jane Doe, and I placed an order for a laptop on your website two days ago. The order number is ORD56789. Can you please provide an update on the delivery?\"\n",
    "ticket_3 = \"Hello, I am having trouble accessing my account on your mobile app. My name is Alex Johnson, and I have a subscription for your Gold Plan. Can you help me resolve this issue?\"\n",
    "ticket_4 = \"Greetings, I am facing technical difficulties with your software, ABC Editor. My name is Sarah Lee, and I recently upgraded to the latest version. However, whenever I try to save my work, the software crashes. Can you please help me resolve this problem?\"\n",
    "\n",
    "entities_1 = \"\"\"\n",
    "* Customer Details:\n",
    "  - Name: John Smith\n",
    "  - License Key: ABC12345\n",
    "* Product/Service Mentions:\n",
    "  - Product: XYZ Pro (premium software)\n",
    "\"\"\"\n",
    "\n",
    "entities_2 = \"\"\"\n",
    "* Customer Details:\n",
    "  - Name: Jane Doe\n",
    "* Product/Service Mentions:\n",
    "  - Product: laptop\n",
    "\"\"\"\n",
    "\n",
    "entities_3 = \"\"\"\n",
    "* Customer Details:\n",
    "  - Name: Alex Johnson\n",
    "* Product/Service Mentions:\n",
    "  - Product: mobile app\n",
    "  - Service: Gold Plan\n",
    "\"\"\"\n",
    "\n",
    "# Craft a few-shot prompt to get the ticket's entities\n",
    "prompt = f\"\"\"Text: {ticket_1} -> Entities: {entities_1}\n",
    "             Text: {ticket_2} -> Entities: {entities_2}\n",
    "             Text: {ticket_3} -> Entities: {entities_3}\n",
    "             Text: {ticket_4} -> Entities: \"\"\"\n",
    "\n",
    "response = get_response(prompt)\n",
    "\n",
    "print(\"Ticket: \\n\", ticket_4)\n",
    "print(\"Entities: \\n\", response)"
   ],
   "metadata": {
    "collapsed": false,
    "ExecuteTime": {
     "end_time": "2025-02-24T01:09:16.186297400Z",
     "start_time": "2025-02-24T01:09:15.025719300Z"
    }
   },
   "id": "47bbc30de0484ade",
   "execution_count": 13
  },
  {
   "cell_type": "markdown",
   "source": [
    "## Code Generation and Explanation"
   ],
   "metadata": {
    "collapsed": false
   },
   "id": "d6288b71f1ba6efd"
  },
  {
   "cell_type": "markdown",
   "source": [
    "### Code generation with problem description"
   ],
   "metadata": {
    "collapsed": false
   },
   "id": "8c5bd9da9a2d4ea0"
  },
  {
   "cell_type": "markdown",
   "source": [
    "You work as an analyst for a retail company and analyze monthly sales data. You need to develop a Python function that accepts a list of 12 numbers representing sales for each month of the year and outputs the month with the highest sales value. This information will help your company identify the most profitable month. You feed the problem description to a language model to get help."
   ],
   "metadata": {
    "collapsed": false
   },
   "id": "e66b6cdb7559a98e"
  },
  {
   "cell_type": "code",
   "outputs": [
    {
     "name": "stdout",
     "output_type": "stream",
     "text": [
      "You can create a Python function that takes a list of 12 floats representing monthly sales data and returns the month with the highest sales value. Here's a sample implementation:\n",
      "\n",
      "```python\n",
      "def month_with_highest_sales(sales_data):\n",
      "    if len(sales_data) != 12:\n",
      "        raise ValueError(\"The sales data must contain exactly 12 months of data.\")\n",
      "    \n",
      "    # Find the index of the maximum sales value\n",
      "    max_sales_index = sales_data.index(max(sales_data))\n",
      "    \n",
      "    # List of month names\n",
      "    months = [\n",
      "        \"January\", \"February\", \"March\", \"April\", \"May\", \"June\",\n",
      "        \"July\", \"August\", \"September\", \"October\", \"November\", \"December\"\n",
      "    ]\n",
      "    \n",
      "    # Return the month with the highest sales\n",
      "    return months[max_sales_index]\n",
      "\n",
      "# Example usage:\n",
      "sales_data = [1500.0, 2000.5, 2500.0, 3000.75, 3500.0, 4000.25,\n",
      "              4500.0, 5000.5, 5500.0, 6000.75, 6500.0, 7000.25]\n",
      "\n",
      "highest_sales_month = month_with_highest_sales(sales_data)\n",
      "print(f\"The month with the highest sales is: {highest_sales_month}\")\n",
      "```\n",
      "\n",
      "### Explanation:\n",
      "1. The function `month_with_highest_sales` takes a list of floats as input.\n",
      "2. It checks if the length of the list is exactly 12; if not, it raises a `ValueError`.\n",
      "3. It finds the index of the maximum sales value using the `max()` function and the `index()` method.\n",
      "4. It defines a list of month names corresponding to the indices.\n",
      "5. Finally, it returns the name of the month with the highest sales.\n",
      "\n",
      "You can test the function with different sales data to see which month has the highest sales.\n"
     ]
    }
   ],
   "source": [
    "# Craft a prompt that asks the model to write a Python function that receives a list of 12 floats representing monthly sales data as input and, returns the month with the highest sales value as output.\n",
    "\n",
    "# Craft a prompt that asks the model for the function\n",
    "prompt = \"Write a Python function that accepts a list of 12 floats representing monthly sales data as input and, returns the month with the highest sales value as output\"\n",
    "\n",
    "response = get_response(prompt)\n",
    "print(response)"
   ],
   "metadata": {
    "collapsed": false,
    "ExecuteTime": {
     "end_time": "2025-02-24T01:20:08.846061300Z",
     "start_time": "2025-02-24T01:20:02.529141300Z"
    }
   },
   "id": "187bf95c0a0d7e77",
   "execution_count": 14
  },
  {
   "cell_type": "markdown",
   "source": [
    "### Input-output examples for code generation"
   ],
   "metadata": {
    "collapsed": false
   },
   "id": "fb3e82fbc5cb53ed"
  },
  {
   "cell_type": "markdown",
   "source": [
    "You work as a project manager and need to estimate the time it will take to complete different projects. Your task is to develop a Python function that can predict the estimated completion time for a project based on historical data. You are given a set of examples in the examples string where different factors are associated with project completion time. Each example includes the factors' numerical values and the corresponding estimated completion time."
   ],
   "metadata": {
    "collapsed": false
   },
   "id": "9a103a978686dbfe"
  },
  {
   "cell_type": "code",
   "outputs": [
    {
     "name": "stdout",
     "output_type": "stream",
     "text": [
      "To create a Python function that estimates project completion time based on the provided input-output examples, we can analyze the relationship between the input factors and the output. \n",
      "\n",
      "From the examples, it appears that the output is the sum of the input values plus a constant. Let's break down the examples:\n",
      "\n",
      "1. For input `[10, 5, 8]`, the output is `23`. The sum of the inputs is `10 + 5 + 8 = 23`.\n",
      "2. For input `[5, 2, 4]`, the output is `11`. The sum of the inputs is `5 + 2 + 4 = 11`.\n",
      "3. For input `[2, 1, 3]`, the output is `6`. The sum of the inputs is `2 + 1 + 3 = 6`.\n",
      "4. For input `[8, 4, 6]`, the output is `18`. The sum of the inputs is `8 + 4 + 6 = 18`.\n",
      "\n",
      "From this analysis, we can see that the output is simply the sum of the input values. Therefore, we can implement the function as follows:\n",
      "\n",
      "```python\n",
      "def estimate_completion_time(factors):\n",
      "    return sum(factors)\n",
      "\n",
      "# Example usage:\n",
      "print(estimate_completion_time([10, 5, 8]))  # Output: 23\n",
      "print(estimate_completion_time([5, 2, 4]))    # Output: 11\n",
      "print(estimate_completion_time([2, 1, 3]))    # Output: 6\n",
      "print(estimate_completion_time([8, 4, 6]))    # Output: 18\n",
      "```\n",
      "\n",
      "This function takes a list of numerical values (the factors) and returns their sum, which corresponds to the estimated project completion time based on the provided examples.\n"
     ]
    }
   ],
   "source": [
    "# Craft a prompt that asks the model to infer the Python function that maps the inputs to the outputs in the provided examples\n",
    "\n",
    "examples=\"\"\"input = [10, 5, 8] -> output = 23\n",
    "input = [5, 2, 4] -> output = 11\n",
    "input = [2, 1, 3] -> output = 6\n",
    "input = [8, 4, 6] -> output = 18\n",
    "\"\"\"\n",
    "\n",
    "# Craft a prompt that asks the model for the function\n",
    "prompt = f\"\"\"You are provided with input-output examples delimited by triple backticks for a Python function where different factors are associated with project completion time. Each example includes numerical values for the factors and the corresponding estimated completion time. Write code for this function.\n",
    " ```{examples}\"\"\"\n",
    "\n",
    "response = get_response(prompt)\n",
    "print(response)"
   ],
   "metadata": {
    "collapsed": false,
    "ExecuteTime": {
     "end_time": "2025-02-24T01:26:13.817279400Z",
     "start_time": "2025-02-24T01:26:08.766697Z"
    }
   },
   "id": "1726b0afcd1e1c57",
   "execution_count": 17
  },
  {
   "cell_type": "markdown",
   "source": [
    "### Modifying code with multi-step prompts"
   ],
   "metadata": {
    "collapsed": false
   },
   "id": "1a5572dbd51ea2c5"
  },
  {
   "cell_type": "markdown",
   "source": [
    "You are a home improvement contractor specializing in flooring installations. You need to develop a Python function that calculates the area and perimeter of a rectangular floor in a room to help you determine the amount of flooring material required for the project.\n",
    "\n",
    "You are given a string named function, which contains a starter function that calculates the area of a rectangular floor given its width and length. Using a multi-step prompt, you need to prompt the language model to modify this function to return the perimeter of the rectangle as well, and to test if the inputs (floor dimensions) are positive, and if not, display appropriate error messages."
   ],
   "metadata": {
    "collapsed": false
   },
   "id": "a99556b04dd5309e"
  },
  {
   "cell_type": "code",
   "outputs": [
    {
     "name": "stdout",
     "output_type": "stream",
     "text": [
      "You can modify the function to include perimeter calculation and input validation as follows:\n",
      "\n",
      "```python\n",
      "def calculate_area_rectangular_floor(width, length):\n",
      "    if width <= 0:\n",
      "        return \"Error: Width must be a positive number.\"\n",
      "    if length <= 0:\n",
      "        return \"Error: Length must be a positive number.\"\n",
      "    \n",
      "    area = width * length\n",
      "    perimeter = 2 * (width + length)\n",
      "    \n",
      "    return area, perimeter\n",
      "```\n",
      "\n",
      "In this modified function:\n",
      "- It checks if the `width` and `length` are positive. If not, it returns an appropriate error message.\n",
      "- It calculates both the area and the perimeter of the rectangle and returns them as a tuple.\n"
     ]
    }
   ],
   "source": [
    "# Craft a multi-step prompt that asks the model to modify the function according to the specified requirements: test if the inputs to the functions are positive, and if not, display appropriate error messages, otherwise return the area and perimeter of the rectangle.\n",
    "\n",
    "function = \"\"\"def calculate_area_rectangular_floor(width, length):\n",
    "\t\t\t\t\treturn width*length\"\"\"\n",
    "\n",
    "# Craft a multi-step prompt that asks the model to adjust the function\n",
    "prompt = f\"\"\"Modify the function delimited by triple backticks as follows:\n",
    "             - return the permiter of the rectangle as well \n",
    "             - The inputs (floor dimensions) should be positive. Otherwise, appropriate error messages should be displayed.\n",
    "                        ```{function}```\"\"\"\n",
    "\n",
    "response = get_response(prompt)\n",
    "print(response)"
   ],
   "metadata": {
    "collapsed": false,
    "ExecuteTime": {
     "end_time": "2025-02-24T01:33:15.675136Z",
     "start_time": "2025-02-24T01:33:12.927832400Z"
    }
   },
   "id": "e677cae7c039355b",
   "execution_count": 19
  },
  {
   "cell_type": "markdown",
   "source": [
    "### Explaining code step by step"
   ],
   "metadata": {
    "collapsed": false
   },
   "id": "e7b9b70baa80283"
  },
  {
   "cell_type": "markdown",
   "source": [
    "As a financial analyst at a consulting firm, you're tasked with analyzing investment portfolios and providing insights to clients. While reviewing a set of financial data files, you come across a Python function that seems related to analyzing portfolios, but you're unsure of its exact purpose. You decide to use chain-of-thought prompting to let the language model decipher it step by step."
   ],
   "metadata": {
    "collapsed": false
   },
   "id": "be11838e5dd2c2bf"
  },
  {
   "cell_type": "code",
   "outputs": [
    {
     "name": "stdout",
     "output_type": "stream",
     "text": [
      "Let's break down the provided code step by step:\n",
      "\n",
      "1. **Function Definition**:\n",
      "   - The code defines a function named `analyze_portfolio` that takes one argument, `portfolio_data`. This argument is expected to be a collection (like a list) of entries, where each entry is likely a tuple or list containing at least two elements.\n",
      "\n",
      "2. **Variable Initialization**:\n",
      "   - Three variables are initialized:\n",
      "     - `total_value` is set to `0`. This will be used to accumulate the total value of the portfolio.\n",
      "     - `highest_value` is set to `0`. This will track the highest value found in the portfolio.\n",
      "     - `lowest_value` is initialized to `float('inf')`, which represents positive infinity. This is a common technique to ensure that any actual value in the portfolio will be lower than this initial value.\n",
      "\n",
      "3. **Iterating Through Portfolio Data**:\n",
      "   - The function enters a `for` loop that iterates over each `entry` in `portfolio_data`.\n",
      "   - Each `entry` is expected to be a collection (like a tuple or list) where the second element (index `1`) represents the value of that entry.\n",
      "\n",
      "4. **Calculating Total, Highest, and Lowest Values**:\n",
      "   - Inside the loop:\n",
      "     - The value of the current entry (`entry[1]`) is added to `total_value`.\n",
      "     - The code checks if the current entry's value is greater than `highest_value`. If it is, `highest_value` is updated to this new value.\n",
      "     - The code checks if the current entry's value is less than `lowest_value`. If it is, `lowest_value` is updated to this new value.\n",
      "\n",
      "5. **Calculating Average Value**:\n",
      "   - After the loop completes, the average value of the portfolio is calculated by dividing `total_value` by the number of entries in `portfolio_data` (using `len(portfolio_data)`).\n",
      "\n",
      "6. **Returning Results**:\n",
      "   - The function returns a tuple containing three values: `highest_value`, `lowest_value`, and `average_value`.\n",
      "\n",
      "### Summary:\n",
      "The `analyze_portfolio` function processes a collection of portfolio entries to compute:\n",
      "- The total value of the portfolio,\n",
      "- The highest value among the entries,\n",
      "- The lowest value among the entries,\n",
      "- The average value of the entries.\n",
      "\n",
      "It returns these three statistics as a tuple.\n"
     ]
    }
   ],
   "source": [
    "# Craft a chain-of-thought prompt that asks the model to explain the provided function\n",
    "\n",
    "function = \"\"\"\n",
    "def analyze_portfolio(portfolio_data):\n",
    "  total_value = 0\n",
    "  highest_value = 0\n",
    "  lowest_value = float('inf')\n",
    "  \n",
    "  for entry in portfolio_data:\n",
    "    total_value += entry[1]\n",
    "    if entry[1] > highest_value:\n",
    "        highest_value = entry[1]\n",
    "    if entry[1] < lowest_value:\n",
    "        lowest_value = entry[1]\n",
    "\n",
    "  average_value = total_value / len(portfolio_data)\n",
    "  return highest_value, lowest_value, average_value\n",
    "\"\"\"\n",
    "\n",
    "prompt = f\"\"\"Explain what the code delimited by triple backticks does. Let's think step by step.```{function}```\"\"\"\n",
    " \n",
    "response = get_response(prompt)\n",
    "print(response)\n"
   ],
   "metadata": {
    "collapsed": false,
    "ExecuteTime": {
     "end_time": "2025-02-24T01:38:12.912384700Z",
     "start_time": "2025-02-24T01:38:06.159990400Z"
    }
   },
   "id": "2351b60f080343dc",
   "execution_count": 20
  }
 ],
 "metadata": {
  "kernelspec": {
   "display_name": "Python 3",
   "language": "python",
   "name": "python3"
  },
  "language_info": {
   "codemirror_mode": {
    "name": "ipython",
    "version": 2
   },
   "file_extension": ".py",
   "mimetype": "text/x-python",
   "name": "python",
   "nbconvert_exporter": "python",
   "pygments_lexer": "ipython2",
   "version": "2.7.6"
  }
 },
 "nbformat": 4,
 "nbformat_minor": 5
}
