{
 "cells": [
  {
   "cell_type": "code",
   "execution_count": 1,
   "id": "initial_id",
   "metadata": {
    "collapsed": true,
    "ExecuteTime": {
     "end_time": "2025-02-07T02:28:51.351968200Z",
     "start_time": "2025-02-07T02:28:39.190659200Z"
    }
   },
   "outputs": [
    {
     "data": {
      "text/plain": "True"
     },
     "execution_count": 1,
     "metadata": {},
     "output_type": "execute_result"
    }
   ],
   "source": [
    "from openai import OpenAI\n",
    "from dotenv import load_dotenv\n",
    "import os\n",
    "\n",
    "# Load environment variables from the .env file (if present)\n",
    "load_dotenv()"
   ]
  },
  {
   "cell_type": "code",
   "outputs": [],
   "source": [
    "OPENAI_API_KEY = os.getenv(\"OPENAI_API_KEY\")\n",
    "client = OpenAI(api_key=OPENAI_API_KEY)\n",
    "\n",
    "def get_response(prompt):\n",
    "  # Create a request to the chat completions endpoint\n",
    "  response = client.chat.completions.create(\n",
    "    model=\"gpt-4o-mini\",\n",
    "    messages=[{\"role\": \"user\", \"content\": prompt}], \n",
    "    temperature = 0)\n",
    "  return response.choices[0].message.content"
   ],
   "metadata": {
    "collapsed": false,
    "ExecuteTime": {
     "end_time": "2025-02-07T02:32:34.096623600Z",
     "start_time": "2025-02-07T02:32:32.876578100Z"
    }
   },
   "id": "776e01408e71c34b",
   "execution_count": 3
  },
  {
   "cell_type": "markdown",
   "source": [
    "## Few-shot prompting"
   ],
   "metadata": {
    "collapsed": false
   },
   "id": "7ecb682bb9755b51"
  },
  {
   "cell_type": "markdown",
   "source": [
    "### Controlling output structure"
   ],
   "metadata": {
    "collapsed": false
   },
   "id": "a34eee7624a8d8a6"
  },
  {
   "cell_type": "code",
   "outputs": [
    {
     "name": "stdout",
     "output_type": "stream",
     "text": [
      "The odd numbers from the set {3, 5, 11, 12, 16} are {3, 5, 11}.\n"
     ]
    }
   ],
   "source": [
    "# Create a one-shot prompt that provides an example showing how to extract the odd numbers from the set {1, 3, 7, 12, 19}, and seeks an answer for the set {3, 5, 11, 12, 16}\n",
    "\n",
    "# Create a one-shot prompt\n",
    "prompt = \"\"\"\n",
    "        Q. Odd numbers from the set {1,3,7,12,19}. A: {1,3,7,19}\n",
    "        Q  Odd numbers from the set {3,5,11,12,16}. A:\n",
    "         \"\"\"\n",
    "\n",
    "response = get_response(prompt)\n",
    "print(response)"
   ],
   "metadata": {
    "collapsed": false,
    "ExecuteTime": {
     "end_time": "2025-02-07T02:36:29.026964600Z",
     "start_time": "2025-02-07T02:36:27.057651100Z"
    }
   },
   "id": "2b3f093d16594cda",
   "execution_count": 4
  },
  {
   "cell_type": "markdown",
   "source": [
    "### Sentiment analysis with few-shot prompting"
   ],
   "metadata": {
    "collapsed": false
   },
   "id": "7ec9e0c225cad1c0"
  },
  {
   "cell_type": "code",
   "outputs": [
    {
     "name": "stdout",
     "output_type": "stream",
     "text": [
      "1\n"
     ]
    }
   ],
   "source": [
    "# Provide the examples as previous conversations assigning the text as context for the user role and the number as context for the assistant role.\n",
    "# Provide the following text for the model to classify and use the appropriate role: The price of the product is really fair given its features.\n",
    "\n",
    "response = client.chat.completions.create(\n",
    "    model=\"gpt-4o-mini\",\n",
    "    messages=[\n",
    "              {\"role\": \"user\",\"content\": \"The product quality exceeded my expectations\"}, \n",
    "              {\"role\": \"assistant\",\"content\": \"1\"},\n",
    "              {\"role\": \"user\",\"content\": \"I had a terrible experience with this product's customer service\"},\n",
    "              {\"role\": \"assistant\",\"content\": \"-1\"},\n",
    "              {\"role\": \"user\",\"content\": \"The price of the product is really fair given its features\"}], \n",
    "    temperature = 0)\n",
    "\n",
    "print(response.choices[0].message.content)"
   ],
   "metadata": {
    "collapsed": false,
    "ExecuteTime": {
     "end_time": "2025-02-07T02:42:56.577257400Z",
     "start_time": "2025-02-07T02:42:55.900824700Z"
    }
   },
   "id": "41fae3e3bb541f0e",
   "execution_count": 5
  },
  {
   "cell_type": "markdown",
   "source": [
    "## Multi-step prompting"
   ],
   "metadata": {
    "collapsed": false
   },
   "id": "7ea01b78ca4f7833"
  },
  {
   "cell_type": "markdown",
   "source": [
    "### Single-step prompt to plan a trip"
   ],
   "metadata": {
    "collapsed": false
   },
   "id": "7fb04c417ddf826b"
  },
  {
   "cell_type": "code",
   "outputs": [
    {
     "name": "stdout",
     "output_type": "stream",
     "text": [
      "Sure! Planning a beach vacation can be exciting. Here’s a step-by-step guide to help you organize your trip:\n",
      "\n",
      "### Step 1: Choose Your Destination\n",
      "- **Consider Your Preferences**: Do you prefer a tropical beach, a rocky coastline, or a family-friendly resort?\n",
      "- **Popular Beach Destinations**: \n",
      "  - **USA**: Miami Beach, Maui, San Diego, Outer Banks\n",
      "  - **Caribbean**: Cancun, Bahamas, Barbados, Jamaica\n",
      "  - **Europe**: Amalfi Coast (Italy), Santorini (Greece), Costa del Sol (Spain)\n",
      "  - **Asia**: Bali (Indonesia), Phuket (Thailand), Maldives\n",
      "\n",
      "### Step 2: Decide on Travel Dates\n",
      "- **Season**: Consider the best time to visit your chosen destination. Research peak seasons, weather conditions, and local events.\n",
      "- **Duration**: How long do you want to stay? A weekend, a week, or longer?\n",
      "\n",
      "### Step 3: Budgeting\n",
      "- **Accommodation**: Research hotels, resorts, or vacation rentals. Consider all-inclusive options for convenience.\n",
      "- **Transportation**: Include flights, car rentals, or public transport costs.\n",
      "- **Activities**: Plan for excursions, dining, and entertainment.\n",
      "- **Miscellaneous**: Don’t forget about travel insurance, souvenirs, and unexpected expenses.\n",
      "\n",
      "### Step 4: Book Your Travel\n",
      "- **Flights**: Use comparison sites to find the best deals. Book in advance for better prices.\n",
      "- **Accommodation**: Look for deals on platforms like Airbnb, Booking.com, or directly through hotel websites.\n",
      "- **Transportation**: If needed, book a rental car or check public transport options.\n",
      "\n",
      "### Step 5: Plan Activities\n",
      "- **Beach Time**: Schedule time for sunbathing, swimming, and relaxing.\n",
      "- **Water Sports**: Consider activities like snorkeling, scuba diving, paddleboarding, or jet skiing.\n",
      "- **Local Attractions**: Research nearby attractions, restaurants, and cultural sites.\n",
      "- **Dining**: Make reservations at popular restaurants, especially for dinner.\n",
      "\n",
      "### Step 6: Pack Accordingly\n",
      "- **Clothing**: Pack swimwear, beach cover-ups, sandals, and light clothing.\n",
      "- **Essentials**: Don’t forget sunscreen, sunglasses, hats, and beach towels.\n",
      "- **Extras**: Consider bringing a camera, books, or games for downtime.\n",
      "\n",
      "### Step 7: Prepare for Your Trip\n",
      "- **Check Travel Restrictions**: Look into any travel advisories or restrictions for your destination.\n",
      "- **Health and Safety**: Ensure you have any necessary vaccinations and medications.\n",
      "- **Documents**: Keep your ID, travel insurance, and booking confirmations handy.\n",
      "\n",
      "### Step 8: Enjoy Your Vacation!\n",
      "- **Stay Flexible**: Be open to spontaneous activities and changes in plans.\n",
      "- **Relax and Unwind**: Take time to enjoy the beach and the local culture.\n",
      "\n",
      "### Additional Tips\n",
      "- **Local Customs**: Familiarize yourself with local customs and etiquette.\n",
      "- **Weather Check**: Keep an eye on the weather forecast leading up to your trip.\n",
      "- **Stay Hydrated**: Drink plenty of water, especially in the sun.\n",
      "\n",
      "Feel free to ask if you need more specific information or recommendations!\n"
     ]
    }
   ],
   "source": [
    "# Create a single-step prompt asking the model to help you plan a beach vacation.\n",
    "prompt = \"\"\"Please help me to plan a beach vaccation\"\"\"\n",
    "\n",
    "response = get_response(prompt)\n",
    "print(response)"
   ],
   "metadata": {
    "collapsed": false,
    "ExecuteTime": {
     "end_time": "2025-02-07T02:57:04.184460500Z",
     "start_time": "2025-02-07T02:56:51.716435900Z"
    }
   },
   "id": "ef588681780007df",
   "execution_count": 6
  },
  {
   "cell_type": "markdown",
   "source": [
    "### Multi-step prompt to plan a trip"
   ],
   "metadata": {
    "collapsed": false
   },
   "id": "9cb123aba626bad1"
  },
  {
   "cell_type": "code",
   "outputs": [
    {
     "name": "stdout",
     "output_type": "stream",
     "text": [
      "Sure! Here’s a detailed 14-day itinerary for your South America vacation, starting in Rio de Janeiro and ending in Lima, while including the Amazon, Machu Picchu, Sacred Valley, and Iguazu Falls. This itinerary balances sightseeing with relaxation to ensure it’s not too hectic.\n",
      "\n",
      "### Day 1: Arrival in Rio de Janeiro\n",
      "- **Morning:** Arrive in Rio de Janeiro. Check into your hotel.\n",
      "- **Afternoon:** Relax at Copacabana Beach.\n",
      "- **Evening:** Dinner at a local restaurant with a view of Sugarloaf Mountain.\n",
      "\n",
      "### Day 2: Explore Rio de Janeiro\n",
      "- **Morning:** Visit Christ the Redeemer and take in the panoramic views.\n",
      "- **Afternoon:** Explore the Santa Teresa neighborhood and visit the Selarón Steps.\n",
      "- **Evening:** Enjoy a traditional Brazilian barbecue (churrasco) dinner.\n",
      "\n",
      "### Day 3: Rio de Janeiro to Manaus (Amazon)\n",
      "- **Morning:** Fly from Rio de Janeiro to Manaus (approx. 4 hours).\n",
      "- **Afternoon:** Arrive in Manaus and check into your Amazon lodge.\n",
      "- **Evening:** Enjoy a welcome dinner and an introduction to the Amazon ecosystem.\n",
      "\n",
      "### Day 4: Amazon Rainforest Exploration\n",
      "- **All Day:** Guided tour of the Amazon rainforest. Activities may include jungle hikes, canoeing, and wildlife spotting.\n",
      "- **Evening:** Nighttime wildlife tour or stargazing.\n",
      "\n",
      "### Day 5: More Amazon Adventures\n",
      "- **All Day:** Continue exploring the Amazon. Visit local communities, go fishing for piranhas, or take a boat trip to see the meeting of the waters.\n",
      "- **Evening:** Dinner at the lodge and share stories with fellow travelers.\n",
      "\n",
      "### Day 6: Manaus to Iguazu Falls\n",
      "- **Morning:** Fly from Manaus to Iguazu Falls (approx. 6 hours with a layover).\n",
      "- **Afternoon:** Arrive in Iguazu and check into your hotel.\n",
      "- **Evening:** Relax and enjoy dinner at a restaurant with views of the falls.\n",
      "\n",
      "### Day 7: Iguazu Falls Exploration\n",
      "- **All Day:** Explore the Brazilian side of Iguazu Falls. Take the trails and enjoy the panoramic views. Optionally, take a boat ride to get close to the falls.\n",
      "- **Evening:** Dinner at a local restaurant.\n",
      "\n",
      "### Day 8: Iguazu Falls to Cusco\n",
      "- **Morning:** Fly from Iguazu Falls to Cusco (approx. 6 hours with a layover).\n",
      "- **Afternoon:** Arrive in Cusco and check into your hotel. Acclimatize to the altitude.\n",
      "- **Evening:** Dinner at a local restaurant and explore the Plaza de Armas.\n",
      "\n",
      "### Day 9: Sacred Valley Tour\n",
      "- **All Day:** Take a guided tour of the Sacred Valley. Visit Pisac Market, Ollantaytambo ruins, and enjoy lunch in a local village.\n",
      "- **Evening:** Return to Cusco for dinner.\n",
      "\n",
      "### Day 10: Train to Aguas Calientes\n",
      "- **Morning:** Take the train from Cusco to Aguas Calientes (approx. 3.5 hours).\n",
      "- **Afternoon:** Check into your hotel and explore Aguas Calientes.\n",
      "- **Evening:** Prepare for the visit to Machu Picchu the next day.\n",
      "\n",
      "### Day 11: Machu Picchu\n",
      "- **Early Morning:** Take the bus to Machu Picchu. Explore the ancient ruins with a guided tour.\n",
      "- **Afternoon:** Hike to the Sun Gate or relax in the area.\n",
      "- **Evening:** Return to Aguas Calientes for dinner and overnight stay.\n",
      "\n",
      "### Day 12: Aguas Calientes to Cusco\n",
      "- **Morning:** Enjoy a leisurely breakfast and explore Aguas Calientes.\n",
      "- **Afternoon:** Take the train back to Cusco.\n",
      "- **Evening:** Dinner in Cusco and enjoy a traditional Peruvian show.\n",
      "\n",
      "### Day 13: Cusco to Lima\n",
      "- **Morning:** Fly from Cusco to Lima (approx. 1.5 hours).\n",
      "- **Afternoon:** Arrive in Lima and check into your hotel. Explore the historic center of Lima, including Plaza Mayor and the Cathedral.\n",
      "- **Evening:** Enjoy a farewell dinner at a renowned restaurant in Lima.\n",
      "\n",
      "### Day 14: Departure from Lima\n",
      "- **Morning:** Last-minute shopping or sightseeing in Lima.\n",
      "- **Afternoon:** Depart from Lima for your onward journey.\n",
      "\n",
      "### Tips:\n",
      "- **Flights:** Book your domestic flights in advance to secure the best rates and times.\n",
      "- **Accommodations:** Choose comfortable hotels or lodges that offer good amenities and services.\n",
      "- **Guided Tours:** Consider hiring local guides for a more enriching experience, especially in the Amazon and Sacred Valley.\n",
      "- **Health Precautions:** Consult with a healthcare provider about vaccinations and medications for travel to the Amazon.\n",
      "\n",
      "This itinerary provides a mix of adventure, culture, and relaxation, ensuring you experience the best of South America without feeling rushed. Enjoy your trip!\n"
     ]
    }
   ],
   "source": [
    "# Create a multi-step prompt asking the model to make a plan for South America Vaccation\n",
    "prompt = \"\"\"Please help me to plan a South America vaccation:\n",
    "Step 1: Total durstaion of the trip shouldn't exceed more than 2 weeks\n",
    "Step 2: Tour should starts from Rio de Janeiro and ends in Lima\n",
    "Step 3: I would like to see and experieince best of Amazon, Macchu Picchu, Secret Valley and Izagu falls\n",
    "Step 4: Trip shouldn't be too hectic\n",
    "Step 5: Cost is not a problem\n",
    "Step 6: Please generate a detail itinary\n",
    "\"\"\"\n",
    "\n",
    "response = get_response(prompt)\n",
    "print(response)"
   ],
   "metadata": {
    "collapsed": false,
    "ExecuteTime": {
     "end_time": "2025-02-09T22:39:08.397190900Z",
     "start_time": "2025-02-09T22:38:54.989305600Z"
    }
   },
   "id": "9677aa09021b89a",
   "execution_count": 7
  },
  {
   "cell_type": "code",
   "outputs": [
    {
     "name": "stdout",
     "output_type": "stream",
     "text": [
      "Sure! Let’s plan a beach vacation step by step.\n",
      "\n",
      "### Step 1: Specify Four Potential Locations for Beach Vacations\n",
      "\n",
      "1. **Maui, Hawaii, USA**\n",
      "2. **Cancun, Mexico**\n",
      "3. **Gold Coast, Australia**\n",
      "4. **Phuket, Thailand**\n",
      "\n",
      "### Step 2: State Some Accommodation Options in Each\n",
      "\n",
      "1. **Maui, Hawaii, USA**\n",
      "   - **Luxury:** Four Seasons Resort Maui at Wailea\n",
      "   - **Mid-range:** Hyatt Regency Maui Resort and Spa\n",
      "   - **Budget:** Hostel City Maui\n",
      "\n",
      "2. **Cancun, Mexico**\n",
      "   - **Luxury:** The Ritz-Carlton Cancun\n",
      "   - **Mid-range:** Fiesta Americana Villas Cancun\n",
      "   - **Budget:** Selina Cancun Laguna Hotel Zone\n",
      "\n",
      "3. **Gold Coast, Australia**\n",
      "   - **Luxury:** Palazzo Versace\n",
      "   - **Mid-range:** Mantra on View Hotel\n",
      "   - **Budget:** Surfers Paradise Backpackers Resort\n",
      "\n",
      "4. **Phuket, Thailand**\n",
      "   - **Luxury:** The Shore at Katathani\n",
      "   - **Mid-range:** Holiday Inn Resort Phuket\n",
      "   - **Budget:** Lub d Phuket Patong\n",
      "\n",
      "### Step 3: State Activities That Could Be Done in Each\n",
      "\n",
      "1. **Maui, Hawaii, USA**\n",
      "   - Snorkeling at Molokini Crater\n",
      "   - Road to Hana scenic drive\n",
      "   - Surfing lessons at Kaanapali Beach\n",
      "   - Luau experience\n",
      "\n",
      "2. **Cancun, Mexico**\n",
      "   - Visit the Mayan ruins of Tulum\n",
      "   - Snorkeling or diving in the Great Mesoamerican Reef\n",
      "   - Explore Xcaret Park\n",
      "   - Enjoy nightlife in the Hotel Zone\n",
      "\n",
      "3. **Gold Coast, Australia**\n",
      "   - Surfing at Surfers Paradise\n",
      "   - Visit theme parks like Dreamworld and Sea World\n",
      "   - Hiking in the hinterland (Lamington National Park)\n",
      "   - Whale watching (seasonal)\n",
      "\n",
      "4. **Phuket, Thailand**\n",
      "   - Island hopping tours (Phi Phi Islands, James Bond Island)\n",
      "   - Scuba diving or snorkeling\n",
      "   - Visit Big Buddha and Wat Chalong\n",
      "   - Enjoy a traditional Thai massage\n",
      "\n",
      "### Step 4: Evaluate the Pros and Cons for Each Destination\n",
      "\n",
      "1. **Maui, Hawaii, USA**\n",
      "   - **Pros:**\n",
      "     - Stunning natural beauty and diverse landscapes\n",
      "     - Rich Hawaiian culture and history\n",
      "     - Great for both relaxation and adventure\n",
      "   - **Cons:**\n",
      "     - Can be expensive (flights, accommodations, activities)\n",
      "     - Limited nightlife compared to other destinations\n",
      "\n",
      "2. **Cancun, Mexico**\n",
      "   - **Pros:**\n",
      "     - Affordable all-inclusive resorts\n",
      "     - Vibrant nightlife and entertainment options\n",
      "     - Proximity to historical sites\n",
      "   - **Cons:**\n",
      "     - Can be crowded, especially during peak season\n",
      "     - Safety concerns in certain areas\n",
      "\n",
      "3. **Gold Coast, Australia**\n",
      "   - **Pros:**\n",
      "     - Beautiful beaches and great surfing conditions\n",
      "     - Variety of activities (theme parks, nature, nightlife)\n",
      "     - Family-friendly destination\n",
      "   - **Cons:**\n",
      "     - Long flight for travelers from the Northern Hemisphere\n",
      "     - Can be expensive, especially during peak tourist season\n",
      "\n",
      "4. **Phuket, Thailand**\n",
      "   - **Pros:**\n",
      "     - Affordable accommodations and food\n",
      "     - Rich culture and beautiful beaches\n",
      "     - Wide range of activities and excursions\n",
      "   - **Cons:**\n",
      "     - Can be overly touristy in certain areas\n",
      "     - Weather can be unpredictable (monsoon season)\n",
      "\n",
      "### Conclusion\n",
      "Each destination offers unique experiences, accommodations, and activities. Your choice will depend on your budget, preferred activities, and travel preferences. If you’re looking for luxury and natural beauty, Maui might be the best choice. For vibrant nightlife and cultural experiences, Cancun is ideal. The Gold Coast is perfect for families and adventure seekers, while Phuket offers affordability and rich cultural experiences.\n"
     ]
    }
   ],
   "source": [
    "# Create a multi-step prompt asking the model to make a plan for a beach vacation, which should include: four potential locations, each with some accommodation options, some activities, and an evaluation of the pros and cons\n",
    "\n",
    "# Create a prompt detailing steps to plan the trip\n",
    "prompt = \"\"\"\n",
    "     Help me plan a beach vacation.\n",
    "     Step 1 - Specify four potential locations for beach vacations\n",
    "     Step 2 - State some accommodation options in each\n",
    "     Step 3 - State activities that could be done in each\n",
    "     Step 4 - Evaluate the pros and cons for each destination\n",
    "    \"\"\"\n",
    "\n",
    "response = get_response(prompt)\n",
    "print(response)"
   ],
   "metadata": {
    "collapsed": false,
    "ExecuteTime": {
     "end_time": "2025-02-09T22:44:25.650826300Z",
     "start_time": "2025-02-09T22:44:12.354156800Z"
    }
   },
   "id": "7f9c7e6887019f23",
   "execution_count": 8
  },
  {
   "cell_type": "markdown",
   "source": [
    "### Analyze solution correctness"
   ],
   "metadata": {
    "collapsed": false
   },
   "id": "9d9b1fc8b6f84dd"
  },
  {
   "cell_type": "code",
   "outputs": [
    {
     "name": "stdout",
     "output_type": "stream",
     "text": [
      "Let's analyze the provided function `calculate_rectangle_area` according to the specified criteria:\n",
      "\n",
      "1. **Correct Syntax**: \n",
      "   - The function is defined using the `def` keyword, followed by the function name and parameters in parentheses. The body of the function is indented correctly, and the return statement is properly formatted. Therefore, the syntax is correct.\n",
      "\n",
      "2. **Receives Only 2 Inputs**: \n",
      "   - The function `calculate_rectangle_area` takes two parameters: `length` and `width`. This meets the requirement of receiving only 2 inputs.\n",
      "\n",
      "3. **Returns Only One Output**: \n",
      "   - The function calculates the area of a rectangle by multiplying `length` and `width`, and it returns this single value. Thus, it satisfies the condition of returning only one output.\n",
      "\n",
      "Based on this analysis, the function meets all the specified criteria:\n",
      "\n",
      "- **Correct Syntax**: Yes\n",
      "- **Receives Only 2 Inputs**: Yes\n",
      "- **Returns Only One Output**: Yes\n",
      "\n",
      "Overall, the function is correct according to the given criteria.\n"
     ]
    }
   ],
   "source": [
    "# Create a multi-step prompt asking the model to assess the function provided in the delimited code string according to the three criteria: correct syntax, receiving two inputs, and returning one output.\n",
    "\n",
    "code = '''\n",
    "def calculate_rectangle_area(length, width):\n",
    "    area = length * width\n",
    "    return area\n",
    "'''\n",
    "\n",
    "# Create a prompt that analyzes correctness of the code\n",
    "prompt = f\"\"\"\n",
    "        Analyze the correctness of the function delimited by triple backticks according to the following criteria:\n",
    "        1- It should have correct syntax\n",
    "        2- The function should receive only 2 inputs\n",
    "        3- The function should return only one output\n",
    "        ```{code}```\n",
    "        \"\"\"\n",
    "\n",
    "response = get_response(prompt)\n",
    "print(response)"
   ],
   "metadata": {
    "collapsed": false,
    "ExecuteTime": {
     "end_time": "2025-02-09T22:53:32.467464Z",
     "start_time": "2025-02-09T22:53:28.940461300Z"
    }
   },
   "id": "a13cd80e8efe454",
   "execution_count": 10
  },
  {
   "cell_type": "markdown",
   "source": [
    "## Chain-of thought and self-consistency prompting"
   ],
   "metadata": {
    "collapsed": false
   },
   "id": "309c84db308fc89a"
  },
  {
   "cell_type": "markdown",
   "source": [
    "### Reasoning with chain-of-thought prompts"
   ],
   "metadata": {
    "collapsed": false
   },
   "id": "ad3c860a2de24d65"
  },
  {
   "cell_type": "code",
   "outputs": [
    {
     "name": "stdout",
     "output_type": "stream",
     "text": [
      "Sure! Let's break it down step by step.\n",
      "\n",
      "1. **Determine your friend's current age**: Your friend is currently 20 years old.\n",
      "\n",
      "2. **Determine your friend's father's current age**: Since your friend's father is currently twice your friend's age, we can calculate his age as follows:\n",
      "   \\[\n",
      "   \\text{Father's current age} = 2 \\times \\text{Friend's age} = 2 \\times 20 = 40 \\text{ years old}\n",
      "   \\]\n",
      "\n",
      "3. **Calculate your friend's father's age in 10 years**: To find out how old he will be in 10 years, we add 10 years to his current age:\n",
      "   \\[\n",
      "   \\text{Father's age in 10 years} = \\text{Father's current age} + 10 = 40 + 10 = 50 \\text{ years old}\n",
      "   \\]\n",
      "\n",
      "So, your friend's father will be 50 years old in 10 years.\n"
     ]
    }
   ],
   "source": [
    "# Create a chain-of-thought prompt to determine your friend's father's age in 10 years, given that he is currently twice your friend's age, and your friend is 20\n",
    "prompt = \"\"\"Q: Determine my friend's father's age in 10 years, given that he is currently twice your friend's age, and your friend is 20.\n",
    "A: Let's think step by step\n",
    "\"\"\"\n",
    "\n",
    "response = get_response(prompt)\n",
    "print(response)"
   ],
   "metadata": {
    "collapsed": false,
    "ExecuteTime": {
     "end_time": "2025-02-09T23:10:27.081756700Z",
     "start_time": "2025-02-09T23:10:23.776722900Z"
    }
   },
   "id": "94e8c0b7f039f0f6",
   "execution_count": 11
  },
  {
   "cell_type": "markdown",
   "source": [
    "### One-shot chain-of-thought prompts"
   ],
   "metadata": {
    "collapsed": false
   },
   "id": "9e7b219d7d9f4755"
  },
  {
   "cell_type": "code",
   "outputs": [
    {
     "name": "stdout",
     "output_type": "stream",
     "text": [
      "Even numbers: {82, 14}. Adding them: 82 + 14 = 96. \n",
      "\n",
      "So, the sum of the even numbers is 96.\n"
     ]
    }
   ],
   "source": [
    "# Define an example that teaches the model how to sum the even numbers on the set {9, 10, 13, 4, 2}.\n",
    "# Define the example \n",
    "example = \"\"\"Q: Sum the even numbers in the following set: {9, 10, 13, 4, 2}.\n",
    "             A: Even numbers: {10,4,2}. Adding them: 10+4+2=16\"\"\"\n",
    "\n",
    "# Define a question, similar to the one in the example, that asks the model to reason on a new set {15, 13, 82, 7, 14}\n",
    "question = \"\"\"Q: Sum the even numbers in the following set: {15, 13, 82, 7, 14}\n",
    "              A:\n",
    "           \"\"\"\n",
    "\n",
    "prompt = example + question\n",
    "response = get_response(prompt)\n",
    "print(response)"
   ],
   "metadata": {
    "collapsed": false,
    "ExecuteTime": {
     "end_time": "2025-02-09T23:36:09.974662Z",
     "start_time": "2025-02-09T23:36:09.124051300Z"
    }
   },
   "id": "841dc3cb31109342",
   "execution_count": 12
  },
  {
   "cell_type": "markdown",
   "source": [
    "## Self-consistency prompts"
   ],
   "metadata": {
    "collapsed": false
   },
   "id": "ebc558372e693c62"
  },
  {
   "cell_type": "code",
   "outputs": [
    {
     "name": "stdout",
     "output_type": "stream",
     "text": [
      "Let's break down the problem step by step.\n",
      "\n",
      "1. **Initial Inventory**:\n",
      "   - Total devices: 50\n",
      "   - Mobile phones: 60% of 50 = 0.6 * 50 = 30 mobile phones\n",
      "   - Laptops: 50 - 30 = 20 laptops\n",
      "\n",
      "2. **Sales**:\n",
      "   - Three clients bought mobile phones: 3 mobile phones sold.\n",
      "   - One of those clients also bought a laptop: 1 laptop sold.\n",
      "   - Total sold: 3 mobile phones and 1 laptop.\n",
      "\n",
      "3. **Inventory after Sales**:\n",
      "   - Mobile phones remaining: 30 - 3 = 27 mobile phones\n",
      "   - Laptops remaining: 20 - 1 = 19 laptops\n",
      "\n",
      "4. **New Inventory Added**:\n",
      "   - Added 10 laptops and 5 mobile phones.\n",
      "   - New mobile phones: 27 + 5 = 32 mobile phones\n",
      "   - New laptops: 19 + 10 = 29 laptops\n",
      "\n",
      "5. **Final Count**:\n",
      "   - Laptops: 29\n",
      "   - Mobile phones: 32\n",
      "\n",
      "So, by the end of the day, you have **29 laptops and 32 mobile phones**.\n"
     ]
    }
   ],
   "source": [
    "# Create the self_consistency_instruction that allows the model to solve the problem with three experts and combine the results with a majority vote\n",
    "self_consistency_instruction = \"Imagine three completely independent experts who reason differently are answering this question. The final answer is obtained by majority vote. The question is: \"\n",
    "\n",
    "# Create the problem to solve\n",
    "problem_to_solve = \"If you own a store that sells laptops and mobile phones. You start your day with 50 devices in the store, out of which 60% are mobile phones. Throughout the day, three clients visited the store, each of them bought one mobile phone, and one of them bought additionally a laptop. Also, you added to your collection 10 laptops and 5 mobile phones. How many laptops and mobile phones do you have by the end of the day?\"\n",
    "\n",
    "\n",
    "# Create the final prompt\n",
    "prompt = self_consistency_instruction + problem_to_solve\n",
    "\n",
    "response = get_response(prompt)\n",
    "print(response)"
   ],
   "metadata": {
    "collapsed": false,
    "ExecuteTime": {
     "end_time": "2025-02-09T23:57:54.081669700Z",
     "start_time": "2025-02-09T23:57:49.837839100Z"
    }
   },
   "id": "95c888d4c5dc44ac",
   "execution_count": 13
  },
  {
   "cell_type": "markdown",
   "source": [
    "## Iterative prompt engineering and refinement"
   ],
   "metadata": {
    "collapsed": false
   },
   "id": "4c0b1673d5a9b542"
  },
  {
   "cell_type": "markdown",
   "source": [
    "### Iterative prompt engineering for standard prompts"
   ],
   "metadata": {
    "collapsed": false
   },
   "id": "ebf0e471af51e26d"
  },
  {
   "cell_type": "code",
   "outputs": [
    {
     "name": "stdout",
     "output_type": "stream",
     "text": [
      "Here’s a table containing the top 10 pre-trained language models, including their release year and owners:\n",
      "\n",
      "| Language Model         | Release Year | Owners/Developers          |\n",
      "|------------------------|--------------|-----------------------------|\n",
      "| BERT                   | 2018         | Google                      |\n",
      "| GPT-2                  | 2019         | OpenAI                     |\n",
      "| RoBERTa                | 2019         | Facebook AI Research        |\n",
      "| T5                     | 2019         | Google                      |\n",
      "| GPT-3                  | 2020         | OpenAI                     |\n",
      "| XLNet                  | 2019         | Google Brain & CMU         |\n",
      "| ALBERT                 | 2019         | Google                      |\n",
      "| DistilBERT             | 2019         | Hugging Face                |\n",
      "| ELECTRA                | 2020         | Google                      |\n",
      "| ChatGPT                | 2022         | OpenAI                     |\n",
      "\n",
      "This table includes some of the most influential and widely used pre-trained language models in the field of natural language processing.\n"
     ]
    }
   ],
   "source": [
    "# Iteratively refine the prompt to get the desired outcome: a table with three columns for the top ten pre-trained language models, listing the model name, release year, and owning company.\n",
    "\n",
    "# Refine the following prompt\n",
    "prompt = \"Generate a table that contains the top 10 pre-trained language models, with columns for language model, release year, and owners.\"\n",
    "\n",
    "response = get_response(prompt)\n",
    "print(response)"
   ],
   "metadata": {
    "collapsed": false,
    "ExecuteTime": {
     "end_time": "2025-02-10T03:20:39.980540Z",
     "start_time": "2025-02-10T03:20:35.639910800Z"
    }
   },
   "id": "ff360a11e3d391dd",
   "execution_count": 14
  },
  {
   "cell_type": "markdown",
   "source": [
    "### Iterative prompt engineering for few-shot prompts"
   ],
   "metadata": {
    "collapsed": false
   },
   "id": "d14064fb6559f6d8"
  },
  {
   "cell_type": "code",
   "outputs": [
    {
     "name": "stdout",
     "output_type": "stream",
     "text": [
      "No explicit emotion\n"
     ]
    }
   ],
   "source": [
    "# Iteratively refine the prompt, by refining the examples, to get the output no explicit emotion for the \"They sat and ate their meal\" example\n",
    "\n",
    "# Refine the following prompt\n",
    "prompt = \"\"\"\n",
    "Receiving a promotion at work made me feel on top of the world -> Happiness\n",
    "The movie's ending left me with a heavy feeling in my chest -> Sadness\n",
    "Walking alone in the dark alley sent shivers down my spine -> Fear\n",
    "School begins tomorrow -> No explicit emotion\n",
    "He painted the fence blue -> No explicit emotion\n",
    "They sat and ate their meal ->\n",
    "\"\"\"\n",
    "\n",
    "response = get_response(prompt)\n",
    "print(response)"
   ],
   "metadata": {
    "collapsed": false,
    "ExecuteTime": {
     "end_time": "2025-02-10T03:27:28.188208Z",
     "start_time": "2025-02-10T03:27:27.544669500Z"
    }
   },
   "id": "bbd3e210c961bca4",
   "execution_count": 16
  }
 ],
 "metadata": {
  "kernelspec": {
   "display_name": "Python 3",
   "language": "python",
   "name": "python3"
  },
  "language_info": {
   "codemirror_mode": {
    "name": "ipython",
    "version": 2
   },
   "file_extension": ".py",
   "mimetype": "text/x-python",
   "name": "python",
   "nbconvert_exporter": "python",
   "pygments_lexer": "ipython2",
   "version": "2.7.6"
  }
 },
 "nbformat": 4,
 "nbformat_minor": 5
}
