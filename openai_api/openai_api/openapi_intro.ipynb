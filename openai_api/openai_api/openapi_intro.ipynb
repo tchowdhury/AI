{
 "cells": [
  {
   "cell_type": "code",
   "outputs": [],
   "source": [
    "from openai import OpenAI"
   ],
   "metadata": {
    "collapsed": false,
    "ExecuteTime": {
     "end_time": "2025-01-28T07:19:25.261608700Z",
     "start_time": "2025-01-28T07:19:25.240570100Z"
    }
   },
   "id": "2dc3ed14595e4836",
   "execution_count": 6
  },
  {
   "cell_type": "code",
   "outputs": [],
   "source": [
    "api_key = \"sk-....kIYA\""
   ],
   "metadata": {
    "collapsed": false,
    "ExecuteTime": {
     "end_time": "2025-01-28T07:19:27.172070Z",
     "start_time": "2025-01-28T07:19:27.149161900Z"
    }
   },
   "id": "d409a85d07e64797",
   "execution_count": 7
  },
  {
   "cell_type": "markdown",
   "source": [
    "## First Example"
   ],
   "metadata": {
    "collapsed": false
   },
   "id": "d9db2132038c324c"
  },
  {
   "cell_type": "code",
   "execution_count": 8,
   "id": "initial_id",
   "metadata": {
    "collapsed": true,
    "ExecuteTime": {
     "end_time": "2025-01-28T07:19:48.892057400Z",
     "start_time": "2025-01-28T07:19:42.878496200Z"
    }
   },
   "outputs": [
    {
     "name": "stdout",
     "output_type": "stream",
     "text": [
      "Learning about the OpenAI API is important for developers because it enables them to integrate advanced AI capabilities into their applications, enhancing functionality and user experience. It allows for automation of tasks, generation of creative content, and improved decision-making processes. Understanding the API can also help developers stay competitive in the rapidly evolving tech landscape by leveraging state-of-the-art machine learning models.\n"
     ]
    }
   ],
   "source": [
    "client = OpenAI(api_key=api_key)\n",
    "\n",
    "\n",
    "response = client.chat.completions.create(\n",
    "    model=\"gpt-4o-mini\",\n",
    "    # Write your prompt\n",
    "    messages=[{\"role\": \"user\", \"content\": \"Simply and concisely, explain why learning about the OpenAI API is important for developers.\"}],\n",
    "    max_tokens=200\n",
    ")\n",
    "\n",
    "print(response.choices[0].message.content)"
   ]
  },
  {
   "cell_type": "markdown",
   "source": [
    "## Building an OpenAI API request"
   ],
   "metadata": {
    "collapsed": false
   },
   "id": "744288c2bb3a15ba"
  },
  {
   "cell_type": "code",
   "outputs": [
    {
     "name": "stdout",
     "output_type": "stream",
     "text": [
      "ChatCompletion(id='chatcmpl-AuaCRo1fMcwFqWiEbbd2fjeedvJ2i', choices=[Choice(finish_reason='stop', index=0, logprobs=None, message=ChatCompletionMessage(content='ChatGPT was developed by OpenAI, an artificial intelligence research organization. OpenAI focuses on creating and promoting friendly AI for the benefit of humanity. The ChatGPT model is part of their broader efforts to advance natural language processing and understanding.', refusal=None, role='assistant', audio=None, function_call=None, tool_calls=None))], created=1738048883, model='gpt-4o-mini-2024-07-18', object='chat.completion', service_tier='default', system_fingerprint='fp_bd83329f63', usage=CompletionUsage(completion_tokens=48, prompt_tokens=12, total_tokens=60, completion_tokens_details=CompletionTokensDetails(accepted_prediction_tokens=0, audio_tokens=0, reasoning_tokens=0, rejected_prediction_tokens=0), prompt_tokens_details=PromptTokensDetails(audio_tokens=0, cached_tokens=0)))\n"
     ]
    }
   ],
   "source": [
    "# Create the OpenAI client\n",
    "client = OpenAI(api_key=api_key)\n",
    "\n",
    "# Create a request to the Chat Completions endpoint\n",
    "response = client.chat.completions.create(\n",
    "  # Specify the correct model\n",
    "  model=\"gpt-4o-mini\",\n",
    "  # Specify the message keys\n",
    "  messages=[{\"role\": \"user\", \"content\": \"Who developed ChatGPT?\"}]\n",
    ")\n",
    "\n",
    "print(response)"
   ],
   "metadata": {
    "collapsed": false,
    "ExecuteTime": {
     "end_time": "2025-01-28T07:21:24.086909700Z",
     "start_time": "2025-01-28T07:21:22.062936300Z"
    }
   },
   "id": "92f9d3ce9db8a8ff",
   "execution_count": 9
  }
 ],
 "metadata": {
  "kernelspec": {
   "display_name": "Python 3",
   "language": "python",
   "name": "python3"
  },
  "language_info": {
   "codemirror_mode": {
    "name": "ipython",
    "version": 2
   },
   "file_extension": ".py",
   "mimetype": "text/x-python",
   "name": "python",
   "nbconvert_exporter": "python",
   "pygments_lexer": "ipython2",
   "version": "2.7.6"
  }
 },
 "nbformat": 4,
 "nbformat_minor": 5
}
