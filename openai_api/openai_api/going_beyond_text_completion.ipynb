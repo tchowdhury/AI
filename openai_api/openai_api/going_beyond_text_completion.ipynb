{
 "cells": [
  {
   "cell_type": "code",
   "execution_count": 1,
   "id": "initial_id",
   "metadata": {
    "collapsed": true,
    "ExecuteTime": {
     "end_time": "2025-01-31T00:24:24.587398100Z",
     "start_time": "2025-01-31T00:24:16.382168100Z"
    }
   },
   "outputs": [],
   "source": [
    "from openai import OpenAI\n",
    "api_key = \"sk-...kIYA\"\n",
    "## Generating and Transforming Text"
   ]
  },
  {
   "cell_type": "markdown",
   "source": [
    "## Text Moderation"
   ],
   "metadata": {
    "collapsed": false
   },
   "id": "302e6b1079740060"
  },
  {
   "cell_type": "markdown",
   "source": [
    "### Requesting moderation"
   ],
   "metadata": {
    "collapsed": false
   },
   "id": "1087d90971cbb500"
  },
  {
   "cell_type": "code",
   "outputs": [
    {
     "name": "stdout",
     "output_type": "stream",
     "text": [
      "CategoryScores(harassment=5.243551186140394e-06, harassment_threatening=1.1516095810293336e-06, hate=4.767837526742369e-05, hate_threatening=3.2021056028952444e-08, illicit=None, illicit_violent=None, self_harm=9.466615438213921e-07, self_harm_instructions=5.426785065765216e-08, self_harm_intent=1.5536235764557205e-07, sexual=3.545879735611379e-06, sexual_minors=1.1304399549771915e-06, violence=0.0001064608441083692, violence_graphic=1.086988686438417e-05, self-harm=9.466615438213921e-07, sexual/minors=1.1304399549771915e-06, hate/threatening=3.2021056028952444e-08, violence/graphic=1.086988686438417e-05, self-harm/intent=1.5536235764557205e-07, self-harm/instructions=5.426785065765216e-08, harassment/threatening=1.1516095810293336e-06) False\n",
      "CategoryScores(harassment=0.9978969097137451, harassment_threatening=8.017511572688818e-05, hate=0.0020806556567549706, hate_threatening=3.144899437756976e-06, illicit=None, illicit_violent=None, self_harm=4.7115023335209116e-05, self_harm_instructions=9.838597179623321e-05, self_harm_intent=1.6527545085409656e-05, sexual=0.008639553561806679, sexual_minors=7.634599796801922e-07, violence=0.0016567553393542767, violence_graphic=2.536892225180054e-06, self-harm=4.7115023335209116e-05, sexual/minors=7.634599796801922e-07, hate/threatening=3.144899437756976e-06, violence/graphic=2.536892225180054e-06, self-harm/intent=1.6527545085409656e-05, self-harm/instructions=9.838597179623321e-05, harassment/threatening=8.017511572688818e-05) True\n"
     ]
    }
   ],
   "source": [
    "# Create a client\n",
    "\n",
    "client = OpenAI(api_key=api_key)\n",
    "\n",
    "# Create a request to the Moderations endpoint to determine if the text, \"My favorite book is To Kill a Mockingbird.\" violates OpenAI's usage policies.\n",
    "response = client.moderations.create(\n",
    "    model=\"text-moderation-latest\",\n",
    "    input=\"My favorite book is To Kill a Mockingbird.\")\n",
    "\n",
    "print(response.results[0].category_scores, response.results[0].flagged)\n",
    "\n",
    "response = client.moderations.create(\n",
    "    model=\"text-moderation-latest\",\n",
    "    input=\"Fuck yourself, you bitch\")\n",
    "\n",
    "print(response.results[0].category_scores, response.results[0].flagged)\n"
   ],
   "metadata": {
    "collapsed": false,
    "ExecuteTime": {
     "end_time": "2025-01-31T01:01:05.123067900Z",
     "start_time": "2025-01-31T01:01:03.613516100Z"
    }
   },
   "id": "3f15646331cee5cf",
   "execution_count": 5
  },
  {
   "cell_type": "markdown",
   "source": [
    "### Examining Moderation Category Score"
   ],
   "metadata": {
    "collapsed": false
   },
   "id": "258acf1ae8db68fb"
  },
  {
   "cell_type": "markdown",
   "source": [
    "## Speech to Text Transcription"
   ],
   "metadata": {
    "collapsed": false
   },
   "id": "2b541f5faa2a312b"
  },
  {
   "cell_type": "markdown",
   "source": [
    "### Creating a Pod cast script"
   ],
   "metadata": {
    "collapsed": false
   },
   "id": "cda790483a6ce9c"
  },
  {
   "cell_type": "code",
   "outputs": [
    {
     "name": "stdout",
     "output_type": "stream",
     "text": [
      "Hi there, Logan, thank you for joining us on the show today. Thanks for having me. I'm super excited about this. Brilliant. We're going to dive right in, and I think ChatGPT is maybe the most famous AI product that you have at OpenAI, but I'd just like to get an overview of what all the other AIs that are available are. So I think two and a half years ago, OpenAI released the API that we still have available today, which is essentially our giving people access to these models. And for a lot of people, giving people access to the model that powers ChatGPT, which is our consumer-facing first-party application, which essentially just, in very simple terms, puts a nice UI on top of what was already available through our API for the last two and a half years. So it's sort of democratizing the access to this technology through our API. If you want to just play around with it, as an end user, we have ChatGPT available to the world as well.\n"
     ]
    }
   ],
   "source": [
    "# Open the openai-audio.mp3 file.Create a transcription request to the Audio endpoint and Extract and print the transcript text from the response\n",
    "\n",
    "# Open the openai-audio.mp3 file\n",
    "audio_file = open(\"../data/audio-logan-advocate-openai.mp3\", \"rb\")\n",
    "\n",
    "# Create a transcript from the audio file\n",
    "response = client.audio.transcriptions.create(model=\"whisper-1\", file=audio_file)\n",
    "\n",
    "# Extract and print the transcript text\n",
    "print(response.text)"
   ],
   "metadata": {
    "collapsed": false,
    "ExecuteTime": {
     "end_time": "2025-01-31T02:53:23.616977400Z",
     "start_time": "2025-01-31T02:53:17.763413500Z"
    }
   },
   "id": "3b8651ccd6372d1",
   "execution_count": 8
  },
  {
   "cell_type": "markdown",
   "source": [
    "### Transcribing a non-English language"
   ],
   "metadata": {
    "collapsed": false
   },
   "id": "25233f72901c4e4e"
  },
  {
   "cell_type": "code",
   "outputs": [
    {
     "name": "stdout",
     "output_type": "stream",
     "text": [
      "Olá, o meu nome é Eduardo, sou CTO no Datacamp. Espero que esteja a gostar deste curso que o James e eu criamos para você. Esta API permite enviar um áudio e trazer para inglês. O áudio original está em português.\n"
     ]
    }
   ],
   "source": [
    "# Open the openai-audio.mp3 file\n",
    "audio_file = open(\"../data/audio-portuguese.m4a\", \"rb\")\n",
    "\n",
    "# Create a transcript from the audio file\n",
    "response = client.audio.transcriptions.create(model=\"whisper-1\", file=audio_file)\n",
    "\n",
    "# Extract and print the transcript text\n",
    "print(response.text)"
   ],
   "metadata": {
    "collapsed": false,
    "ExecuteTime": {
     "end_time": "2025-01-31T02:57:36.814272200Z",
     "start_time": "2025-01-31T02:57:34.032834200Z"
    }
   },
   "id": "bcbec24b35bfa03d",
   "execution_count": 9
  },
  {
   "cell_type": "markdown",
   "source": [
    "## Speech Translation with Whisper"
   ],
   "metadata": {
    "collapsed": false
   },
   "id": "a8ddcbfbc622e99b"
  },
  {
   "cell_type": "markdown",
   "source": [
    "### Translating Portuguese"
   ],
   "metadata": {
    "collapsed": false
   },
   "id": "1011ca0a7d4ef6dd"
  },
  {
   "cell_type": "code",
   "outputs": [
    {
     "name": "stdout",
     "output_type": "stream",
     "text": [
      "Hello, my name is Eduardo, I am a CTO at Datacamp. I hope you are enjoying this course that James and I have created for you. This API allows you to send an audio and bring it to English. The original audio is in Portuguese.\n"
     ]
    }
   ],
   "source": [
    "# Open the openai-audio.mp3 file\n",
    "audio_file = open(\"../data/audio-portuguese.m4a\", \"rb\")\n",
    "\n",
    "# Create a transcript from the audio file\n",
    "response = client.audio.translations.create(model=\"whisper-1\", file=audio_file)\n",
    "\n",
    "# Extract and print the transcript text\n",
    "print(response.text)"
   ],
   "metadata": {
    "collapsed": false,
    "ExecuteTime": {
     "end_time": "2025-01-31T03:55:10.341394900Z",
     "start_time": "2025-01-31T03:55:07.217288300Z"
    }
   },
   "id": "7f2b2a72feb43624",
   "execution_count": 10
  },
  {
   "cell_type": "markdown",
   "source": [
    "### Translating with prompts"
   ],
   "metadata": {
    "collapsed": false
   },
   "id": "bbd25b0c36fc3661"
  },
  {
   "cell_type": "code",
   "outputs": [
    {
     "name": "stdout",
     "output_type": "stream",
     "text": [
      "The World Bank stated in its latest economic outlook report that the global economy is in a dangerous state. As interest rates rise, consumer spending and corporate investment will slow down, economic activities will be impacted, and the vulnerability of low-income countries will be exposed. Global economic growth will be significantly slowed down, and the stability of the financial system will be threatened.\n"
     ]
    }
   ],
   "source": [
    "# Open the openai-audio.mp3 file\n",
    "audio_file = open(\"../data/mandarin-full.wav\", \"rb\")\n",
    "\n",
    "# Write an appropriate prompt to help the model\n",
    "prompt = \"This audio is abot Worldbank report\"\n",
    "\n",
    "# Create a transcript from the audio file\n",
    "response = client.audio.translations.create(model=\"whisper-1\", file=audio_file, prompt=prompt)\n",
    "\n",
    "# Extract and print the transcript text\n",
    "print(response.text)"
   ],
   "metadata": {
    "collapsed": false,
    "ExecuteTime": {
     "end_time": "2025-01-31T04:00:40.051801700Z",
     "start_time": "2025-01-31T04:00:35.439045500Z"
    }
   },
   "id": "d8dba149f936e78a",
   "execution_count": 11
  },
  {
   "cell_type": "markdown",
   "source": [
    "## Combining Models"
   ],
   "metadata": {
    "collapsed": false
   },
   "id": "f7848b997b2daa7b"
  },
  {
   "cell_type": "markdown",
   "source": [
    "### Identifying Audio Language"
   ],
   "metadata": {
    "collapsed": false
   },
   "id": "23220ab7df8f64e7"
  },
  {
   "cell_type": "code",
   "outputs": [
    {
     "name": "stdout",
     "output_type": "stream",
     "text": [
      "The language used in the text is German.\n"
     ]
    }
   ],
   "source": [
    "# Open the audio.wav file\n",
    "audio_file = open(\"../data/arne-german-automotive-forecast.wav\", \"rb\")\n",
    "\n",
    "# Create a transcription request using audio_file\n",
    "audio_response = client.audio.transcriptions.create(model=\"whisper-1\", file=audio_file)\n",
    "\n",
    "# Create a request to the API to identify the language spoken\n",
    "chat_response = client.chat.completions.create(\n",
    "  model=\"gpt-4o-mini\",\n",
    "  messages=[\n",
    "        {\"role\": \"system\", \"content\": \"You are a languages specialist.\"},\n",
    "        {\"role\": \"user\", \"content\": \"Identify the language used in the following text: \" + audio_response.text}\n",
    "    ],\n",
    "  max_tokens=100\n",
    ")\n",
    "print(chat_response.choices[0].message.content)"
   ],
   "metadata": {
    "collapsed": false,
    "ExecuteTime": {
     "end_time": "2025-01-31T04:10:41.875016800Z",
     "start_time": "2025-01-31T04:10:36.385732400Z"
    }
   },
   "id": "4cb45b8fe1124147",
   "execution_count": 13
  },
  {
   "cell_type": "markdown",
   "source": [
    "### Creating meeting summaries"
   ],
   "metadata": {
    "collapsed": false
   },
   "id": "10eca0cf944b2bc3"
  },
  {
   "cell_type": "code",
   "outputs": [
    {
     "name": "stdout",
     "output_type": "stream",
     "text": [
      "- Transitioning to more technical courses focusing on OpenAI API and Python.\n",
      "- Courses will cover programming against GPT and Whisper (e.g., transcribing meeting notes).\n",
      "- \"Understanding Artificial Intelligence\" course aimed at a less technical audience to explain broad AI concepts beyond just new models.\n",
      "- Emphasis on \"Artificial Intelligence Ethics\" to highlight potential harms of improper AI implementation on businesses and customers.\n",
      "- Encouragement to explore these AI courses for individual and organizational relevance.\n",
      "- New data literacy courses being developed to\n"
     ]
    }
   ],
   "source": [
    "# Open the datacamp-q2-roadmap.mp3 file\n",
    "audio_file = open(\"../data/datacamp-q2-roadmap-short.mp3\", \"rb\")\n",
    "\n",
    "# Create a transcription request using audio_file\n",
    "audio_response = client.audio.transcriptions.create(model=\"whisper-1\", file=audio_file)\n",
    "\n",
    "# Create a request to the API to summarize the transcript into bullet points\n",
    "chat_response = client.chat.completions.create(\n",
    "  model=\"gpt-4o-mini\",\n",
    "  messages=[\n",
    "        {\"role\": \"user\", \"content\": \"Summarize this meeting minutes into bullet points: \" + audio_response.text}\n",
    "    ],\n",
    "  max_tokens=100\n",
    ")\n",
    "print(chat_response.choices[0].message.content)"
   ],
   "metadata": {
    "collapsed": false,
    "ExecuteTime": {
     "end_time": "2025-01-31T04:15:45.892223700Z",
     "start_time": "2025-01-31T04:15:33.500904400Z"
    }
   },
   "id": "7e94b7c8399dd3f3",
   "execution_count": 15
  }
 ],
 "metadata": {
  "kernelspec": {
   "display_name": "Python 3",
   "language": "python",
   "name": "python3"
  },
  "language_info": {
   "codemirror_mode": {
    "name": "ipython",
    "version": 2
   },
   "file_extension": ".py",
   "mimetype": "text/x-python",
   "name": "python",
   "nbconvert_exporter": "python",
   "pygments_lexer": "ipython2",
   "version": "2.7.6"
  }
 },
 "nbformat": 4,
 "nbformat_minor": 5
}
